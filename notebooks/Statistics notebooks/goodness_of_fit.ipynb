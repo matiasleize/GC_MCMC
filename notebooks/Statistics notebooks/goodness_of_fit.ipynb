{
 "cells": [
  {
   "cell_type": "markdown",
   "metadata": {},
   "source": [
    "# Goodness of Fit"
   ]
  },
  {
   "cell_type": "markdown",
   "metadata": {},
   "source": [
    "This chi-square comes from the overall fit of the model to the data.\n",
    "\n",
    "chi-square with dof=N−pdof=N−p\n",
    "It is defined as:\n",
    "\n",
    "$\\chi^2 = \\sum_{i=1}^N \\frac{(y_i - f(x_i;\\theta))^2}{\\sigma_i^2}$\n",
    "\n",
    "where:\n",
    "\n",
    "$N$ is the number of data points, $p$ is the number of free parameters, $N−p$ is the degrees of freedom of the fit.\n"
   ]
  },
  {
   "cell_type": "markdown",
   "metadata": {},
   "source": [
    "This value tells us how well the model describes the data. If the reduced chi-square $\\chi_\\nu^2=\\chi^2/(N−p)$ is much larger than 1, the model is a poor fit. If it's close to 1, the fit is reasonable.\n",
    "\n",
    "## Connection to p-values:\n",
    "\n",
    "We can compute a p-value from the chi-square cumulative distribution function (CDF), which tells us how extreme the observed chi-square value is.\n",
    "\n",
    "### Chi-Square Distribution\n",
    "If the model is a good fit, the chi-square statistic follows a $\\chi^2$ distribution with $\\nu = (N - p)$ degrees of freedom.\n",
    "\n",
    "### Choosing a Confidence Level (e.g., 95%): \n",
    "\n",
    "The p-value is the probability that we would observe a chi-square value larger than the computed value by chance alone. When we set a confidence level of 95%, we are defining a critical threshold such that:\n",
    "\n",
    "$$P(\\chi^2>\\chi_{crit}^2​∣\\text{model is correct})=0.05 \\, .$$\n",
    "\n",
    "This means that if the model is correct, the chance of getting a chi-square larger than this value due to noise alone is just 5%.\n",
    "\n",
    "### Using the CDF\n",
    "\n",
    "We determine the critical value $\\chi^2$​ by solving:\n",
    "\n",
    "$$P(\\chi^2 \\leq \\chi_{crit}^2)=0.95 \\, ,$$\n",
    "\n",
    "which we compute with:\n",
    "\n",
    "$$\\chi_{crit}^2​=\\text{chi2.ppf(0.95,ν)} \\, .$$\n",
    "\n",
    "This gives the threshold above which we would reject the model at a 5% significance level."
   ]
  },
  {
   "cell_type": "code",
   "execution_count": 10,
   "metadata": {},
   "outputs": [
    {
     "name": "stdout",
     "output_type": "stream",
     "text": [
      "Reduced chi-square threshold (based on p-value) for 68.30% confidence: 1.02080\n",
      "Reduced chi-square threshold (based on the variance) for 68.30% confidence: 1.04479\n",
      "\n"
     ]
    }
   ],
   "source": [
    "import numpy as np\n",
    "from scipy.stats import chi2\n",
    "\n",
    "def chi2_threshold(N, p, confidence=0.95):\n",
    "    \"\"\"\n",
    "    Compute the chi-square threshold for model rejection based on a given confidence level.\n",
    "    \n",
    "    Parameters:\n",
    "    N (int): Number of data points\n",
    "    p (int): Number of parameters\n",
    "    confidence (float): Confidence level (e.g., 0.95 for 95%)\n",
    "    \n",
    "    Returns:\n",
    "    float: Reduced chi-square threshold\n",
    "    \"\"\"\n",
    "    nu = N - p  # Degrees of freedom\n",
    "    chi2_crit = chi2.ppf(confidence, df=nu)  # Critical chi-square value\n",
    "    return chi2_crit / nu  # Convert to reduced chi-square\n",
    "\n",
    "# Example usage\n",
    "N = 1000\n",
    "p = 3\n",
    "\n",
    "#Confidence interval\n",
    "confidence_level = 0.683 #1 sigma contour\n",
    "#confidence_level = 0.954 #2 sigma contour\n",
    "#confidence_level = 0.997 #3 sigma contour\n",
    "\n",
    "threshold = chi2_threshold(N, p, confidence_level)\n",
    "print(f\"Reduced chi-square threshold (based on p-value) for {confidence_level*100:.2f}% confidence: {threshold:.5f}\")\n",
    "print(f\"Reduced chi-square threshold (based on the variance) for {confidence_level*100:.2f}% confidence: {1+np.sqrt(2/(N-p)):.5f}\")\n",
    "print()\n"
   ]
  },
  {
   "cell_type": "markdown",
   "metadata": {},
   "source": [
    "## Why Use p-values Instead of Variance?\n",
    "\n",
    "In general, it is known that the chi-square distribution has variance equals to $2k$ for $k$ degrees of freedom, which means:\n",
    "$$\\sigma^2_{\\chi^2}=2(N-p)$$\n",
    "In the contexto of the Wilk's theorem, this implies that:\n",
    "$$\\sigma^2_{\\chi^2}=2p \\, .$$\n",
    "However, variance alone does not determine statistical significance. A model is ruled out based on the probability of observing a higher chi-square value than expected, which is precisely what a p-value tells us.\n",
    "* A p-value threshold (e.g., $p<0.05$) corresponds to a specific chi-square quantile, which is why we use that as a rejection criterion.\n",
    "* The variance only gives an estimate of how much fluctuation to expect, but it does not directly provide a statistical rejection region."
   ]
  }
 ],
 "metadata": {
  "kernelspec": {
   "display_name": "fR-MCMC",
   "language": "python",
   "name": "python3"
  },
  "language_info": {
   "codemirror_mode": {
    "name": "ipython",
    "version": 3
   },
   "file_extension": ".py",
   "mimetype": "text/x-python",
   "name": "python",
   "nbconvert_exporter": "python",
   "pygments_lexer": "ipython3",
   "version": "3.7.6"
  }
 },
 "nbformat": 4,
 "nbformat_minor": 2
}
