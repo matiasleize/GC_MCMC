{
 "cells": [
  {
   "cell_type": "markdown",
   "metadata": {},
   "source": [
    "# Wilks' theorem\n",
    "\n",
    "This chi-square comes from Wilks’ theorem, which tells us how the likelihood ratio behaves for large $N$. It is used to determine confidence regions for parameters. We define:\n",
    "\n",
    "$$\\Delta\\chi^2=\\chi^2(\\theta)-\\chi^2_{min} \\,$$\n",
    "\n",
    "where ​$\\chi^2_{min}$ is the best-fit chi-square, $\\chi^2(\\theta)$ is the chi-square for other parameter values.\n",
    "\n",
    "According to Wilks’ theorem, $\\Delta\\chi^2$ follows a chi-square distribution with $p$ degrees of freedom, where $p$ is the number of free parameters in the model. \n",
    "\n",
    "This is used to construct confidence contours:\n",
    "\n",
    "* For $p=1$ (1D case): $\\Delta\\chi^2=1.0,2.71,3.84$ corresponds to $68\\%,90\\%,95\\%$ confidence levels.\n",
    "* For $p=2$ (2D case): $\\Delta\\chi^2=2.3,4.6,6.0$ corresponds to $68\\%,90\\%,95\\%$ confidence levels."
   ]
  },
  {
   "cell_type": "markdown",
   "metadata": {},
   "source": []
  },
  {
   "cell_type": "code",
   "execution_count": null,
   "metadata": {},
   "outputs": [],
   "source": [
    "confidence_level = 0.683 #1 sigma contour\n",
    "#confidence_level = 0.954 #2 sigma contour\n",
    "#confidence_level = 0.997 #3 sigma contour"
   ]
  }
 ],
 "metadata": {
  "language_info": {
   "name": "python"
  }
 },
 "nbformat": 4,
 "nbformat_minor": 2
}
