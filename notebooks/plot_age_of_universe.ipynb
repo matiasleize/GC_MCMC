{
 "cells": [
  {
   "cell_type": "code",
   "execution_count": 3,
   "metadata": {},
   "outputs": [
    {
     "name": "stdout",
     "output_type": "stream",
     "text": [
      "The autoreload extension is already loaded. To reload it, use:\n",
      "  %reload_ext autoreload\n"
     ]
    }
   ],
   "source": [
    "# Initial setup:\n",
    "%matplotlib inline\n",
    "%config InlineBackend.figure_format = 'retina'\n",
    "%load_ext autoreload\n",
    "%autoreload 1\n",
    "\n",
    "#For fancy plots\n",
    "import matplotlib\n",
    "from matplotlib import pyplot as plt\n",
    "matplotlib.rcParams['mathtext.fontset'] = 'cm'\n",
    "matplotlib.rcParams['font.family'] = 'STIXGeneral'\n",
    "\n",
    "# import libraries:\n",
    "import sys, os\n",
    "import os\n",
    "import git\n",
    "path_git = git.Repo('.', search_parent_directories=True).working_tree_dir\n",
    "os.chdir(path_git); os.sys.path.append('./fr_mcmc/utils/')\n",
    "from change_of_parameters import omega_CDM_to_luisa\n",
    "\n",
    "sys.path.insert(0,os.path.realpath(os.path.join(os.getcwd(),'../..')))\n",
    "#path_git = git.Repo('.', search_parent_directories=True).working_tree_dir\n",
    "\n",
    "\n",
    "from scipy.constants import c as c_light #meters/seconds\n",
    "c_light_km = c_light/1000 #km/s\n",
    "\n",
    "from getdist import plots\n",
    "import getdist\n",
    "from getdist import plots, MCSamples, loadMCSamples\n",
    "getdist.chains.print_load_details = False\n",
    "import scipy\n",
    "from scipy.integrate import simps,solve_ivp\n",
    "from scipy.linalg import sqrtm\n",
    "import numpy as np\n",
    "\n",
    "from seaborn import heatmap\n",
    "import pandas as pd\n",
    "import emcee\n",
    "\n",
    "import time\n",
    "\n",
    "\n",
    "def F_H(H, params, model):     \n",
    "    lamb, L, beta, L_bar = params\n",
    "    if model == 'GILA':\n",
    "        FH = H**2 \\\n",
    "           + H**8 * L**6     * lamb * np.exp(lamb*(L*H)**2) \\\n",
    "           - H**6 * L_bar**4 * beta * np.exp(-beta*(L_bar*H)**10)\n",
    "    \n",
    "    elif model == 'BETA':\n",
    "        FH = H**2 \\\n",
    "            + H**8 * L**6 * lamb * np.exp(lamb*(L*H)**4) \\\n",
    "            - H**2        * beta * np.exp(-beta*(L_bar*H)**8) \n",
    "\n",
    "    return FH"
   ]
  },
  {
   "cell_type": "code",
   "execution_count": 4,
   "metadata": {},
   "outputs": [],
   "source": [
    "def F_H_prime(H, params, model):\n",
    "    lamb, L, beta, L_bar = params\n",
    "\n",
    "    if model == 'GILA':\n",
    "        aux = np.exp(-beta*(L_bar*H)**10) * beta * (L_bar*H)**4 * (-3 + 5 * beta * (L_bar*H)**10) +\\\n",
    "                np.exp(lamb*(L*H)**2) * lamb * (L*H)**6 * (4 + lamb*(L*H)**2)\n",
    "    if model == 'BETA':\n",
    "        aux = np.exp(-beta*(L_bar*H)**8)  * beta                * (-1 + 4 * beta * (L_bar*H)**8) +\\\n",
    "            2 * np.exp(lamb*(L*H)**4) * lamb * (L*H)**6 * (2 + lamb*(L*H)**4)\n",
    "\n",
    "    FH_prime = 2 * H * (1 + aux) \n",
    "    return FH_prime"
   ]
  },
  {
   "cell_type": "code",
   "execution_count": 5,
   "metadata": {},
   "outputs": [],
   "source": [
    "def get_odes(z, Hubble, params_ode, lcdm=False):\n",
    "    '''\n",
    "    Returns the system of ODEs for the given cosmological model.\n",
    "\n",
    "\n",
    "    Parameters:\n",
    "    -----------\n",
    "    z : float\n",
    "        Redshift value.\n",
    "    variables : list\n",
    "        List of values for the dynamical variables.\n",
    "    physical_params : list\n",
    "        List of model parameters, where the first n-1 elements are the model parameters,\n",
    "        while the last one specifies the cosmological model. Mathematically, this information is contained in\n",
    "        the function Gamma.\n",
    "    model : str, optional\n",
    "        Cosmological model that is being integrated. Defaults to 'LCDM'.\n",
    "\n",
    "    Returns:\n",
    "    -----------\n",
    "    list\n",
    "        Set of ODEs for the dynamical variables.\n",
    "    '''    \n",
    "    #kappa = 8 * np.pi * G_newton / 3\n",
    "    kappa = 1\n",
    "\n",
    "    [lamb, L, b, L_bar, H_0, model] = params_ode\n",
    "\n",
    "    F_H0 = F_H(H_0, [lamb, L, b, L_bar], model)\n",
    "\n",
    "    omega_r_0 = 2.47e-5\n",
    "    omega_m_0 = F_H0 /(100**2) - omega_r_0\n",
    "\n",
    "    rho_m_0 = 100**2 * omega_m_0 / kappa\n",
    "    rho_r_0 = 100**2 * omega_r_0 / kappa\n",
    "    \n",
    "    #a = 1/(1+z)\n",
    "\n",
    "    rho_r = rho_r_0 * (1+z)**4\n",
    "    rho_m = rho_m_0 * (1+z)**3\n",
    "    rho_tot =  rho_r + rho_m \n",
    "    p_tot =  (1/3) * rho_r\n",
    "\n",
    "    # To integrate in z\n",
    "    s =  3 * kappa * (rho_tot + p_tot/c_light_km**2) / (F_H_prime(Hubble, [lamb, L, b, L_bar],model))     \n",
    "    #print(s)\n",
    "    return s\n",
    "\n",
    "\n",
    "def integrator_GILA_log(physical_params, model, num_z_points=int(10**5),\n",
    "                initial_z=np.log10(0.01), final_z=13,\n",
    "                system_equations=get_odes, verbose=False,\n",
    "                method='RK45', rtol=1e-11, atol=1e-16):\n",
    " \n",
    "    t1 = time.time()\n",
    "    \n",
    "    L_bar, b, H0 = physical_params\n",
    "    zs_int = np.linspace(initial_z, final_z, num_z_points)\n",
    "    ode_params = [0, 1e-27/H0, b, L_bar/H0, H0, model]\n",
    "    sol = solve_ivp(system_equations, (initial_z,final_z),\n",
    "                    [H0], t_eval=zs_int, args = [ode_params],\n",
    "                    rtol=rtol, atol=atol, method=method)\n",
    "        \n",
    "\n",
    "    #assert len(sol.t)==num_z_points, 'Something is wrong with the integration!'\n",
    "    #assert np.all(zs_int==sol.t), 'Not all the values of z coincide with the ones that were required!'\n",
    "\n",
    "    # Calculate the Hubble parameter\n",
    "    zs_final = sol.t\n",
    "    Hs_final = sol.y[0]\n",
    "\n",
    "    t2 = time.time()\n",
    "\n",
    "    if verbose == True:\n",
    "        print('Duration: {} minutes and {} seconds'.format(int((t2-t1)/60),\n",
    "                int((t2-t1) - 60*int((t2-t1)/60))))\n",
    "\n",
    "    return zs_final, Hs_final"
   ]
  },
  {
   "cell_type": "code",
   "execution_count": 6,
   "metadata": {},
   "outputs": [],
   "source": [
    "discard=0\n",
    "thin=1\n",
    "root_dic = '/home/matias/Documents/Repos/GILA-output/paper/'\n",
    "\n",
    "# Get the samples:\n",
    "samples_lcdm = emcee.backends.HDFBackend(root_dic + 'sample_LCDM_PPS_CC_DESI_4params/sample_LCDM_PPS_CC_DESI_4params.h5')\n",
    "samples_beta = emcee.backends.HDFBackend(root_dic + 'sample_BETA_PPS_CC_DESI_4params/sample_BETA_PPS_CC_DESI_4params.h5')\n",
    "samples_gila = emcee.backends.HDFBackend(root_dic + 'sample_GILA_PPS_CC_DESI_4params/sample_GILA_PPS_CC_DESI_4params.h5')\n",
    "\n",
    "#nwalkers, ndim = reader_lcdm.shape #Number of walkers and parameters\n",
    "flat_samples_beta = samples_beta.get_chain(discard=discard, flat=True, thin=thin)\n",
    "flat_samples_gila = samples_gila.get_chain(discard=discard, flat=True, thin=thin)\n",
    "flat_samples_lcdm = samples_lcdm.get_chain(discard=discard, flat=True, thin=thin)"
   ]
  },
  {
   "cell_type": "code",
   "execution_count": 7,
   "metadata": {},
   "outputs": [
    {
     "data": {
      "text/plain": [
       "[<matplotlib.lines.Line2D at 0x7f762911e4d0>]"
      ]
     },
     "execution_count": 7,
     "metadata": {},
     "output_type": "execute_result"
    },
    {
     "data": {
      "image/png": "[encoded data removed]",
      "text/plain": [
       "<Figure size 432x288 with 1 Axes>"
      ]
     },
     "metadata": {
      "image/png": {
       "height": 247,
       "width": 368
      },
      "needs_background": "light"
     },
     "output_type": "display_data"
    }
   ],
   "source": [
    "plt.plot(flat_samples_gila[:,2])"
   ]
  },
  {
   "cell_type": "code",
   "execution_count": 8,
   "metadata": {},
   "outputs": [
    {
     "name": "stdout",
     "output_type": "stream",
     "text": [
      "[[-19.04285221 139.14036977   0.82092481  70.50218179]\n",
      " [-19.4430646  138.97631739   0.80514226  69.84191247]\n",
      " [-19.42577944 142.86724945   0.81737637  68.09737624]\n",
      " ...\n",
      " [-19.31805522 140.09590759   0.83353619  71.68914509]\n",
      " [-19.27790466 138.55916978   0.86605777  73.55599215]\n",
      " [-19.31195659 142.74035584   0.94313747  72.39012818]]\n",
      "[[-1.93564980e+01  1.45759250e+02  1.41800282e-01  6.93960495e+01]\n",
      " [-1.94512319e+01  1.45406809e+02  1.44619149e-01  7.04410816e+01]\n",
      " [-1.94025242e+01  1.46295702e+02  1.45836374e-01  6.97220813e+01]\n",
      " ...\n",
      " [-1.92958114e+01  1.40207739e+02  1.57319386e-01  7.22002619e+01]\n",
      " [-1.93524995e+01  1.41973498e+02  1.56140669e-01  7.02003226e+01]\n",
      " [-1.93254973e+01  1.41827760e+02  1.56995666e-01  7.11303745e+01]]\n"
     ]
    }
   ],
   "source": [
    "print(flat_samples_beta)\n",
    "print(flat_samples_lcdm)"
   ]
  },
  {
   "cell_type": "code",
   "execution_count": 9,
   "metadata": {},
   "outputs": [],
   "source": [
    "omega_r = 2.47e-5 \n",
    "L_bar = 0.90\n",
    "\n",
    "Gyr_to_second = int(3.1536e16)\n",
    "Mpc_to_km = int(3.0857e19)\n",
    "inv_Hub_to_Gyr = Mpc_to_km/Gyr_to_second\n",
    "zs_final = np.logspace(np.log10(0.001),13,int(10e3))"
   ]
  },
  {
   "cell_type": "code",
   "execution_count": 10,
   "metadata": {},
   "outputs": [],
   "source": [
    "#LCDM MODEL\n",
    "#M_abs = flat_samples_lcdm[:,0]\n",
    "#rd = flat_samples_lcdm[:,1]\n",
    "omega_m = flat_samples_lcdm[:,2]\n",
    "H0 = flat_samples_lcdm[:,3]\n",
    "\n",
    "Omega_r_lcdm = omega_r / (H0/100)**2\n",
    "Omega_m_lcdm = omega_m / (H0/100)**2\n",
    "Omega_L_lcdm = 1 - Omega_m_lcdm - Omega_r_lcdm\n",
    "aou_lcdm = np.zeros(len(H0))\n",
    "\n",
    "def aou_lcdm_calc(z, H0, Omega_r_lcdm, Omega_m_lcdm, Omega_L_lcdm):\n",
    "    Hubble = H0 * np.sqrt(Omega_r_lcdm * (1+z)**4 + Omega_m_lcdm * (1+z)**3 + Omega_L_lcdm )\n",
    "    return inv_Hub_to_Gyr * simps(((1+z) * Hubble)**(-1), z) \n",
    "\n",
    "for i in range(len(aou_lcdm)):\n",
    "    aou_lcdm[i] = aou_lcdm_calc(zs_final, H0[i], Omega_r_lcdm[i], Omega_m_lcdm[i], Omega_L_lcdm[i])"
   ]
  },
  {
   "cell_type": "code",
   "execution_count": 11,
   "metadata": {},
   "outputs": [],
   "source": [
    "#BETA MODEL\n",
    "#M_abs = flat_samples_beta[:,0]\n",
    "#rd = flat_samples_beta[:,1]\n",
    "beta = flat_samples_beta[:,2]\n",
    "H0 = flat_samples_beta[:,3]\n",
    "\n",
    "aou_beta = np.zeros(100)\n",
    "\n",
    "for i in range(len(aou_beta)):\n",
    "    physical_params =  [L_bar, beta[i], H0[i]] \n",
    "    zs_final, Hs_final = integrator_GILA_log(physical_params,model='BETA', num_z_points=int(10e4),\n",
    "                                        initial_z=np.log10(0.01), final_z=13)\n",
    "    aou_beta[i] = inv_Hub_to_Gyr * simps(((1+zs_final) * Hs_final)**(-1), zs_final)    "
   ]
  },
  {
   "cell_type": "code",
   "execution_count": 12,
   "metadata": {},
   "outputs": [],
   "source": [
    "#GILA MODEL\n",
    "#M_abs = flat_samples_gila[:,0]\n",
    "#rd = flat_samples_gila[:,1]\n",
    "beta = flat_samples_gila[:,2]\n",
    "H0 = flat_samples_gila[:,3]\n",
    "\n",
    "aou_gila = np.zeros(500)\n",
    "\n",
    "for i in range(len(aou_gila)):\n",
    "    physical_params =  [L_bar, beta[i], H0[i]] \n",
    "    zs_final, Hs_final = integrator_GILA_log(physical_params,model='GILA', num_z_points=int(10e4),\n",
    "                                        initial_z=np.log10(0.01), final_z=13)\n",
    "    aou_gila[i] = inv_Hub_to_Gyr * simps(((1+zs_final) * Hs_final)**(-1), zs_final)  "
   ]
  },
  {
   "cell_type": "code",
   "execution_count": 13,
   "metadata": {},
   "outputs": [
    {
     "data": {
      "text/plain": [
       "Text(0.5, 0, 'Age of the Universe [Gyr]')"
      ]
     },
     "execution_count": 13,
     "metadata": {},
     "output_type": "execute_result"
    },
    {
     "data": {
      "image/png": "[encoded data removed]",
      "text/plain": [
       "<Figure size 432x288 with 1 Axes>"
      ]
     },
     "metadata": {
      "image/png": {
       "height": 259,
       "width": 366
      },
      "needs_background": "light"
     },
     "output_type": "display_data"
    }
   ],
   "source": [
    "plt.figure()\n",
    "plt.grid()\n",
    "plt.hist(aou_lcdm, bins=int(np.sqrt(len(aou_lcdm))), density=True, alpha=1)\n",
    "plt.hist(aou_beta, bins=int(np.sqrt(len(aou_beta))), density=True, alpha=1)\n",
    "plt.hist(aou_gila, bins=int(np.sqrt(len(aou_gila))), density=True, alpha=1)\n",
    "#plt.hist(aou_gila[aou_gila>10], bins=int(np.sqrt(len(aou_gila))), density=True, alpha=1)\n",
    "plt.legend(['LCDM','BETA','GILA'])\n",
    "plt.xlabel('Age of the Universe [Gyr]')\n",
    "#plt.savefig('./figures/Age_of_the_Universe.pdf')"
   ]
  },
  {
   "cell_type": "code",
   "execution_count": 14,
   "metadata": {},
   "outputs": [
    {
     "name": "stdout",
     "output_type": "stream",
     "text": [
      "[-0.41865663 -0.41888432 -0.42687651 -0.40683364 -0.40390791 -0.42522733\n",
      " -0.40850881 -0.41761593 -0.40706893 -0.4235981  -0.41728817 -0.39001578\n",
      " -0.41865663 -0.41888432 -0.42687651 -0.40683364 -0.39974716 -0.42522733\n",
      " -0.40850881 -0.41761593 -0.40780017 -0.4235981  -0.41728817 -0.39001578\n",
      " -0.41623145 -0.4184707  -0.42687651 -0.40705787 -0.38531261 -0.42522733\n",
      " -0.40447443 -0.41761593 -0.40780017 -0.4235981  -0.41870713 -0.40715258\n",
      " -0.41623145 -0.4184707  -0.42687651 -0.40705787 -0.38531261 -0.42299784\n",
      " -0.40919003 -0.41877827 -0.40784431 -0.4235981  -0.41870713 -0.40734166\n",
      " -0.42380609 -0.4184707  -0.42545269 -0.40706151 -0.36445236 -0.43904748\n",
      " -0.40916965 -0.41877827 -0.40784431 -0.44040634 -0.41767463 -0.41144956\n",
      " -0.42664237 -0.4184707  -0.42545269 -0.41234767 -0.36445236 -0.43904748\n",
      " -0.40916965 -0.42450546 -0.40784431 -0.43108691 -0.41767463 -0.41144956\n",
      " -0.42664237 -0.4184707  -0.42545269 -0.41234767 -0.37850746 -0.43904748\n",
      " -0.40916965 -0.42450546 -0.40784431 -0.43108691 -0.41767463 -0.41144956\n",
      " -0.42729023 -0.4184707  -0.42545269 -0.41234767 -0.37850746 -0.43904748\n",
      " -0.40516197 -0.42055077 -0.41244872 -0.43090039 -0.42392376 -0.41144956\n",
      " -0.42729023 -0.41634176 -0.42545269 -0.41234767 -0.37850746 -0.43904748\n",
      " -0.40516197 -0.42253355 -0.4091186  -0.42616117 -0.42392376 -0.41144956\n",
      " -0.42729023 -0.41634176 -0.42545269 -0.41234767 -0.37850746 -0.46372693\n",
      " -0.40949601 -0.42253355 -0.41159968 -0.4261281  -0.42274324 -0.41144956\n",
      " -0.42729023 -0.41634176 -0.43736671 -0.41234767 -0.37850746 -0.46372693\n",
      " -0.40949601 -0.42253355 -0.41159968 -0.4261281  -0.42274324 -0.41144956\n",
      " -0.42682239 -0.41634176 -0.43975419 -0.41246873 -0.37850746 -0.46372693\n",
      " -0.4159834  -0.4257352  -0.41511061 -0.4261281  -0.42274324 -0.41144956\n",
      " -0.44449353 -0.41634176 -0.43385663 -0.41246873 -0.37850746 -0.46372693\n",
      " -0.4159834  -0.42570723 -0.41511061 -0.42778412 -0.42274324 -0.41144956\n",
      " -0.44449353 -0.41206583 -0.433714   -0.41394106 -0.38413839 -0.46372693\n",
      " -0.41555556 -0.42570723 -0.41560835 -0.42778926 -0.42274324 -0.41144956\n",
      " -0.44449353 -0.41206583 -0.43367401 -0.41861427 -0.38413839 -0.46372693\n",
      " -0.41555556 -0.42570723 -0.41560835 -0.42778926 -0.4202675  -0.41144956\n",
      " -0.44449353 -0.41120698 -0.43121949 -0.41907445 -0.38413839 -0.46372693\n",
      " -0.40757685 -0.41921814 -0.42434675 -0.42778926 -0.41667892 -0.41963933\n",
      " -0.44449353 -0.41293384 -0.42431642 -0.41758238 -0.40062285 -0.46372693\n",
      " -0.39441742 -0.41921814 -0.41910153 -0.42778926 -0.41667892 -0.41963933\n",
      " -0.45129908 -0.41292398 -0.42431642 -0.41758238 -0.40062285 -0.45227285\n",
      " -0.39441742 -0.42044615 -0.41910153 -0.42778926 -0.41667892 -0.41761785\n",
      " -0.45129908 -0.41292398 -0.42431642 -0.41758238 -0.40418028 -0.43372443\n",
      " -0.3944655  -0.42056662 -0.41787542 -0.42591716 -0.41667892 -0.41761785\n",
      " -0.45131284 -0.40835312 -0.42431642 -0.41758238 -0.40583294 -0.43372443\n",
      " -0.40402868 -0.42056662 -0.420865   -0.42548152 -0.41667892 -0.41765038\n",
      " -0.45131284 -0.40835312 -0.42431642 -0.41881504 -0.40792881 -0.43362927\n",
      " -0.40402868 -0.42204279 -0.420865   -0.42548152 -0.41667892 -0.41765038\n",
      " -0.45131284 -0.40832986 -0.42431642 -0.41354726 -0.40792881 -0.42924768\n",
      " -0.40501464 -0.42204279 -0.420865   -0.42548152 -0.4123835  -0.42026124\n",
      " -0.45131284 -0.40832986 -0.42932421 -0.41354726 -0.400923   -0.43412389\n",
      " -0.40501464 -0.42204279 -0.42261491 -0.43120826 -0.41273606 -0.41467777\n",
      " -0.44153168 -0.41429887 -0.43075756 -0.41354726 -0.400923   -0.43412389\n",
      " -0.40501464 -0.42204279 -0.42261491 -0.43120826 -0.41273606 -0.41250608\n",
      " -0.44153168 -0.41417891 -0.43075756 -0.41348681 -0.400923   -0.43926789\n",
      " -0.40501464 -0.42204279 -0.42261491 -0.43120826 -0.41273606 -0.41250608\n",
      " -0.44153168 -0.41417891 -0.42987472 -0.41348681 -0.400923   -0.43030562\n",
      " -0.40501464 -0.42204279 -0.41907102 -0.43120826 -0.41273606 -0.41448442\n",
      " -0.44153168 -0.41417891 -0.42200809 -0.41348681 -0.400923   -0.43042854\n",
      " -0.40967975 -0.4278063  -0.41907102 -0.42982203 -0.41273606 -0.41437861\n",
      " -0.4302056  -0.41417417 -0.42200809 -0.40711057 -0.400923   -0.43042854\n",
      " -0.41136739 -0.42407132 -0.42063625 -0.42982203 -0.40997952 -0.41437861\n",
      " -0.45316499 -0.41417417 -0.42450085 -0.41791885 -0.400923   -0.43042854\n",
      " -0.41136739 -0.42407132 -0.42587253 -0.42982203 -0.40997952 -0.41894133\n",
      " -0.44605019 -0.40810638 -0.43278384 -0.41791885 -0.400923   -0.42995451\n",
      " -0.41086728 -0.42453404 -0.42587253 -0.42982203 -0.41009363 -0.41894133\n",
      " -0.44156116 -0.40810638 -0.42813931 -0.41791885 -0.400923   -0.43019817\n",
      " -0.41445776 -0.43215798 -0.44227547 -0.42982203 -0.40954736 -0.41295508\n",
      " -0.44154012 -0.41167264 -0.42813931 -0.41791885 -0.400923   -0.43886372\n",
      " -0.41470638 -0.43452783 -0.44227547 -0.42965803 -0.40954736 -0.41295508\n",
      " -0.46655255 -0.41167264 -0.42813931 -0.41791885 -0.400923   -0.43886372\n",
      " -0.41074941 -0.43276155 -0.44227547 -0.42965803 -0.41012215 -0.41295508\n",
      " -0.43804323 -0.41134057 -0.42764788 -0.4330871  -0.400923   -0.43197492\n",
      " -0.41080557 -0.43276155 -0.4415666  -0.42965803 -0.40992831 -0.41295508\n",
      " -0.46083738 -0.42062927 -0.42611049 -0.43296168 -0.400923   -0.43208845\n",
      " -0.41080557 -0.43276155 -0.4415666  -0.42751595 -0.41948012 -0.41295508\n",
      " -0.47458088 -0.42062927 -0.42611049 -0.44317247 -0.40787421 -0.43204546\n",
      " -0.41080557 -0.43276155 -0.4415666  -0.42751595 -0.42083735 -0.41295508\n",
      " -0.47458088 -0.42062927 -0.42614917 -0.44335269 -0.41000242 -0.43675086\n",
      " -0.41080557 -0.4359964  -0.4415666  -0.43082413 -0.42093391 -0.41295508\n",
      " -0.51022575 -0.42062927 -0.42614917 -0.44534788 -0.42656374 -0.43675086\n",
      " -0.41072742 -0.4359964  -0.44180983 -0.42909723 -0.42093391 -0.39950626\n",
      " -0.47067475 -0.42079185 -0.42726252 -0.439641   -0.42707977 -0.43675086\n",
      " -0.42828396 -0.43761046 -0.43904119 -0.42937073 -0.42093391 -0.39950626\n",
      " -0.48109393 -0.42079185 -0.42726252 -0.44419813 -0.42707977 -0.43675086\n",
      " -0.43501931 -0.43761046 -0.4401488  -0.42971941 -0.42161563 -0.39950626\n",
      " -0.51081237 -0.42079185 -0.42902679 -0.44415611 -0.42707977 -0.42682357\n",
      " -0.43302617 -0.43610972 -0.4401488  -0.4313166  -0.41047064 -0.39950626\n",
      " -0.51081237 -0.42079185 -0.42902679 -0.4438051  -0.42779218 -0.42921664\n",
      " -0.43106878 -0.43032292]\n"
     ]
    }
   ],
   "source": [
    "print(aou_gila)"
   ]
  }
 ],
 "metadata": {
  "kernelspec": {
   "display_name": "fR-MCMC",
   "language": "python",
   "name": "python3"
  },
  "language_info": {
   "codemirror_mode": {
    "name": "ipython",
    "version": 3
   },
   "file_extension": ".py",
   "mimetype": "text/x-python",
   "name": "python",
   "nbconvert_exporter": "python",
   "pygments_lexer": "ipython3",
   "version": "3.7.6"
  }
 },
 "nbformat": 4,
 "nbformat_minor": 2
}
