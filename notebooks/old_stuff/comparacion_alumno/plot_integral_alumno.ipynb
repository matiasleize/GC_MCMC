{
 "cells": [
  {
   "cell_type": "markdown",
   "metadata": {},
   "source": [
    "This notebook has porpuse of showing the calculation of Hubble parameter for the GILA model, and compare it with the Standard Cosmological Model. Let's call some libraries"
   ]
  },
  {
   "cell_type": "code",
   "execution_count": null,
   "metadata": {},
   "outputs": [],
   "source": [
    "import time\n",
    "import numpy as np\n",
    "from scipy.constants import c as c_light  # units of m/s\n",
    "from scipy.integrate import solve_ivp\n",
    "from matplotlib import pyplot as plt\n",
    "c_light_km = c_light / 1000 # units of km/s"
   ]
  },
  {
   "cell_type": "code",
   "execution_count": null,
   "metadata": {},
   "outputs": [],
   "source": [
    "#Cosmological parameters \n",
    "p = 4.0  \n",
    "tilde_p = 1.0 \n",
    "q = 2.0  \n",
    "s = 4.0  \n",
    "\n",
    "B = [p, tilde_p, s, q]"
   ]
  },
  {
   "cell_type": "code",
   "execution_count": null,
   "metadata": {},
   "outputs": [],
   "source": [
    "#Fix cosmological parameters (originals)\n",
    "#lambda_param = 1.0\n",
    "#beta_param = 1.0 \n",
    "#a_0 = 1.0\n",
    "#omega_m = 0.999916\n",
    "#omega_r = 1.0 - omega_m\n",
    "#l = 1e-27\n",
    "#tilde_l = 1.0 \n",
    "FIXED_EXPRESSION = False  \n",
    "\n",
    "#Fix cosmological parameters\n",
    "lambda_param = 0.0\n",
    "beta_param = 1.0\n",
    "a_0 = 1.0\n",
    "omega_m = 0.999916\n",
    "omega_r = 1.0 - omega_m\n",
    "l = 1e-27\n",
    "tilde_l = 1.0\n",
    "FIXED_EXPRESSION = False# True \n",
    "\n"
   ]
  },
  {
   "cell_type": "code",
   "execution_count": null,
   "metadata": {},
   "outputs": [],
   "source": [
    "#Integration variables\n",
    "y_i = 0.0\n",
    "x_i = 0.0\n",
    "x_f = -np.log(9.0)\n",
    "\n",
    "z_i = 0\n",
    "z_f = 3 #8\n",
    "\n",
    "#n = 300\n",
    "#h = (x_f - x_i)/(1.0 * n)\n",
    "#h = (z_f - z_i)/(1.0 * n)"
   ]
  },
  {
   "cell_type": "code",
   "execution_count": null,
   "metadata": {},
   "outputs": [],
   "source": [
    "#Runge Kutta 4 functions\n",
    "\n",
    "def rk4_step(f, y, t, dt, lambda_param, beta_param, p, tilde_p, s, q, a_0, omega_m, omega_r, l, tilde_l):\n",
    "    \"\"\"\n",
    "    Perform a single RK4 step.\n",
    "    \n",
    "    Parameters:\n",
    "    f : function\n",
    "        The function that returns dy/dt. It must be of the form f(t, y).\n",
    "    y : array-like\n",
    "        The current value of the dependent variable.\n",
    "    t : float\n",
    "        The current value of the independent variable (usually time).\n",
    "    dt : float\n",
    "        The step size.\n",
    "        \n",
    "    Returns:\n",
    "    y_next : array-like\n",
    "        The value of the dependent variable after the step.\n",
    "    \"\"\"\n",
    "    k1 = f(t, y, lambda_param, beta_param, p, tilde_p, s, q, a_0, omega_m, omega_r, l, tilde_l)\n",
    "    k2 = f(t + 0.5 * dt, y + 0.5 * dt * k1, lambda_param, beta_param, p, tilde_p, s, q, a_0, omega_m, omega_r, l, tilde_l)\n",
    "    k3 = f(t + 0.5 * dt, y + 0.5 * dt * k2, lambda_param, beta_param, p, tilde_p, s, q, a_0, omega_m, omega_r, l, tilde_l)\n",
    "    k4 = f(t + dt, y + dt * k3, lambda_param, beta_param, p, tilde_p, s, q, a_0, omega_m, omega_r, l, tilde_l)\n",
    "    y_next = y + (dt / 6.0) * (k1 + 2 * k2 + 2 * k3 + k4)\n",
    "    return y_next\n",
    "\n",
    "def rk4(f, y0, t, lambda_param, beta_param, p, tilde_p, s, q, a_0, omega_m, omega_r, l, tilde_l):\n",
    "    \"\"\"\n",
    "    Solve an ODE using the RK4 method.\n",
    "    \n",
    "    Parameters:\n",
    "    f : function\n",
    "        The function that returns dy/dt. It must be of the form f(t, y).\n",
    "    y0 : array-like\n",
    "        The initial value of the dependent variable.\n",
    "    t : array-like\n",
    "        The array of time points at which to solve the ODE.\n",
    "        \n",
    "    Returns:\n",
    "    y : array-like\n",
    "        The array of values of the dependent variable at each time point.\n",
    "    \"\"\"\n",
    "    #y = np.zeros((len(t), len(y0)))\n",
    "    y = np.zeros(len(t))\n",
    "    y[0] = y0\n",
    "    for i in range(1, len(t)):\n",
    "        dt = t[i] - t[i-1]\n",
    "        y[i] = rk4_step(f, y[i-1], t[i-1], dt, lambda_param, beta_param, p, tilde_p, s, q, a_0, omega_m, omega_r, l, tilde_l)\n",
    "    return y"
   ]
  },
  {
   "cell_type": "markdown",
   "metadata": {},
   "source": [
    "FIrstly, let's define the function that characterise our model."
   ]
  },
  {
   "cell_type": "code",
   "execution_count": null,
   "metadata": {},
   "outputs": [],
   "source": [
    "#Entiendo que 'x=log(a)' y 'y=H/H_0'\n",
    "#Recordemos que H0 = a_0 = 1\n",
    "#Haciendo cuentas concluyo que num = F(H0=1) \n",
    "#y denom = F_prime(H)/(2(H/H0)**2)\n",
    "\n",
    "def integral_function(x,y,lambda_param, beta_param, p, tilde_p, s, q, a_0, omega_m, omega_r, l, tilde_l):\n",
    "    num = 1.0 + lambda_param * l**(2*p - 2) * np.exp( lambda_param * l**(2*q) ) \\\n",
    "            - beta_param * tilde_l**(2*tilde_p - 2) \\\n",
    "            * np.exp( -beta_param * tilde_l**(2*s) )\n",
    "\n",
    "    denom = 1.0 + lambda_param * l**(2*p - 2) \\\n",
    "                * np.exp( (2.0 * p - 2.0) * y + lambda_param * l**(2*q) \\\n",
    "                * np.exp( 2.0*q*y ) ) \\\n",
    "                * ( p + lambda_param * q * l**(2*q) * np.exp( 2.0*q*y ) ) \\\n",
    "                - beta_param * tilde_l**(2*tilde_p - 2) \\\n",
    "                * np.exp( (2.0 * tilde_p - 2.0) * y - beta_param * tilde_l**(2*s) \\\n",
    "                * np.exp( 2.0*s*y ) ) \\\n",
    "                * ( tilde_p - beta_param * s * tilde_l**(2*s) * np.exp( 2.0*s*y ) )\n",
    "\n",
    "    output = - 0.5 * np.exp(-3.0 * x - 2.0 * y) * a_0**(-3) \\\n",
    "            * num * ( 3.0 * omega_m + 4.0 * omega_r * np.exp(-x) / a_0 ) / denom\n",
    "    \n",
    "    if FIXED_EXPRESSION == True:\n",
    "        #FIXED EXPRESSION        \n",
    "        output = - 0.5 * np.exp(-3.0 * x) * a_0**(-3) \\\n",
    "                * num * ( 3.0 * omega_m + 4.0 * omega_r * np.exp(-x) / a_0 ) / denom\n",
    "    return output\n",
    "\n",
    "\n",
    "def integral_function_z(z,y,lambda_param, beta_param, p, tilde_p, s, q, a_0, omega_m, omega_r, l, tilde_l):\n",
    "    a = 1/(1+z)\n",
    "    x = np.log(a)\n",
    "\n",
    "    num = 1.0 + lambda_param * l**(2*p - 2) * np.exp( lambda_param * l**(2*q) ) \\\n",
    "            - beta_param * tilde_l**(2*tilde_p - 2) \\\n",
    "            * np.exp( -beta_param * tilde_l**(2*s) )\n",
    "\n",
    "    denom = 1.0 + lambda_param * l**(2*p - 2) \\\n",
    "                * np.exp( (2.0 * p - 2.0) * y + lambda_param * l**(2*q) \\\n",
    "                * np.exp( 2.0*q*y ) ) \\\n",
    "                * ( p + lambda_param * q * l**(2*q) * np.exp( 2.0*q*y ) ) \\\n",
    "                - beta_param * tilde_l**(2*tilde_p - 2) \\\n",
    "                * np.exp( (2.0 * tilde_p - 2.0) * y - beta_param * tilde_l**(2*s) \\\n",
    "                * np.exp( 2.0*s*y ) ) \\\n",
    "                * ( tilde_p - beta_param * s * tilde_l**(2*s) * np.exp( 2.0*s*y ) )\n",
    "\n",
    "    output = - 0.5 * np.exp(-3.0 * x - 2.0 * y) * a_0**(-3) \\\n",
    "            * num * ( 3.0 * omega_m + 4.0 * omega_r * np.exp(-x) / a_0 ) / denom\n",
    "\n",
    "    if FIXED_EXPRESSION == True:\n",
    "\n",
    "        #FIXED EXPRESSION    \n",
    "        output = - 0.5 * np.exp(-3.0 * x) * a_0**(-3) \\\n",
    "                * num * ( 3.0 * omega_m + 4.0 * omega_r * np.exp(-x) / a_0 ) / denom\n",
    "\n",
    "    return (-1/(1+z)) * output"
   ]
  },
  {
   "cell_type": "code",
   "execution_count": null,
   "metadata": {},
   "outputs": [],
   "source": [
    "def integrator(num_z_points=int(10**5), system_equations=integral_function, y0=1,verbose=True):\n",
    " \n",
    "    t1 = time.time()\n",
    "            \n",
    "\n",
    "    #assert len(sol.t)==num_z_points, 'Something is wrong with the integration!'\n",
    "    #assert np.all(zs_int==sol.t), 'Not all the values of z coincide with the ones that were required!'\n",
    "\n",
    "    # Calculate the Hubble parameter\n",
    "    xs_final = np.linspace(x_i, x_f, num_z_points)\n",
    "    Hs_final = rk4(system_equations, y0, xs_final, lambda_param, beta_param, p, tilde_p, s, q, a_0, omega_m, omega_r, l, tilde_l)\n",
    "\n",
    "\n",
    "    t2 = time.time()\n",
    "\n",
    "    if verbose == True:\n",
    "        print('Duration: {} minutes and {} seconds'.format(int((t2-t1)/60),\n",
    "                int((t2-t1) - 60*int((t2-t1)/60))))\n",
    "\n",
    "    return xs_final, Hs_final\n",
    "\n",
    "\n",
    "def integrator_z(num_z_points=int(10**5), system_equations=integral_function_z, y0=1,verbose=True):\n",
    " \n",
    "    t1 = time.time()\n",
    "            \n",
    "\n",
    "    #assert len(sol.t)==num_z_points, 'Something is wrong with the integration!'\n",
    "    #assert np.all(zs_int==sol.t), 'Not all the values of z coincide with the ones that were required!'\n",
    "\n",
    "    # Calculate the Hubble parameter\n",
    "    zs_final = np.linspace(z_i, z_f, num_z_points)\n",
    "    Hs_final = rk4(system_equations, y0, zs_final, lambda_param, beta_param, p, tilde_p, s, q, a_0, omega_m, omega_r, l, tilde_l)\n",
    "\n",
    "\n",
    "    t2 = time.time()\n",
    "\n",
    "    if verbose == True:\n",
    "        print('Duration: {} minutes and {} seconds'.format(int((t2-t1)/60),\n",
    "                int((t2-t1) - 60*int((t2-t1)/60))))\n",
    "\n",
    "    return zs_final, Hs_final"
   ]
  },
  {
   "cell_type": "markdown",
   "metadata": {},
   "source": [
    "The Standard Cosmological model $H(z)$ is defined by"
   ]
  },
  {
   "cell_type": "code",
   "execution_count": null,
   "metadata": {},
   "outputs": [],
   "source": [
    "def H_LCDM(z, omega_m, H_0):\n",
    "    '''\n",
    "    Calculation of the Hubble parameter.\n",
    "    Here we neclect the radiation (it holds \n",
    "    that \\Omega_r + \\Omega_m + \\Omega_L = 1).\n",
    "    '''\n",
    "    \n",
    "    omega_lambda = 1 - omega_m\n",
    "    H = H_0 * np.sqrt(omega_m * (1 + z)**3 + omega_lambda)\n",
    "    \n",
    "    return H\n",
    "\n",
    "\n",
    "def H_LCDM_log_a(log_a, omega_m, H_0):\n",
    "    '''\n",
    "    Calculation of the Hubble parameter.\n",
    "    Here we neclect the radiation (it holds \n",
    "    that \\Omega_r + \\Omega_m + \\Omega_L = 1).\n",
    "    '''\n",
    "    \n",
    "    omega_lambda = 1 - omega_m - omega_r\n",
    "    H = H_0 * np.sqrt(omega_m * np.exp(-3 * log_a) + omega_lambda)\n",
    "    \n",
    "    return H"
   ]
  },
  {
   "cell_type": "markdown",
   "metadata": {},
   "source": [
    "Finally, we plot $H(z)$ for different values of the scale $\\bar{L}$"
   ]
  },
  {
   "cell_type": "code",
   "execution_count": 99,
   "metadata": {},
   "outputs": [
    {
     "name": "stdout",
     "output_type": "stream",
     "text": [
      "Duration: 0 minutes and 8 seconds\n"
     ]
    },
    {
     "data": {
      "image/png": "[encoded data removed]",
      "text/plain": [
       "<Figure size 432x288 with 1 Axes>"
      ]
     },
     "metadata": {
      "needs_background": "light"
     },
     "output_type": "display_data"
    },
    {
     "name": "stdout",
     "output_type": "stream",
     "text": [
      "[1.         1.00000282 1.00000564 ... 3.07404361 3.0740761  3.07410859]\n"
     ]
    }
   ],
   "source": [
    "# Plot Hubble diagrams for different models\n",
    "plt.figure()\n",
    "plt.title('Hubble parameter for GILA models')\n",
    "plt.xlabel('log(a)')\n",
    "plt.ylabel(r'H(z) $\\rm [(km/seg)/Mpc]$')\n",
    "plt.legend(loc='best')\n",
    "plt.grid(True)\n",
    "\n",
    "H_0 = 1\n",
    "\n",
    "colors = ['b', 'g', 'r', 'c', 'm', 'y', 'k']\n",
    "colors1 = ['b--', 'g--', 'r--', 'c--', 'm--', 'y--', 'k--']\n",
    "\n",
    "#Plot LCDM Hubble parameter\n",
    "#redshift_LCDM = np.linspace(0, 3, int(10**5))\n",
    "log_a_LCDM = np.linspace(x_i, x_f, int(10**5))\n",
    "plt.plot(log_a_LCDM, H_LCDM_log_a(log_a_LCDM,omega_m,H_0),'--k',label='LCDM model') \n",
    "\n",
    "\n",
    "# Plot GILA Hubble function\n",
    "#omega_m = omega_luisa_to_CDM(b, L_bar, H_0, omega_m_luisa) #L_bar in units of H0 (inside the function L_bar is divided by H0)\n",
    "print(r'\\Omega_m^LCDM$={}'.format(omega_m))\n",
    "log_a, hubble_values = integrator()\n",
    "plt.plot(log_a, hubble_values,label='GILA model')\n",
    "\n",
    "\n",
    "plt.legend(loc='best')\n",
    "plt.show()\n",
    "\n",
    "print(hubble_values)"
   ]
  },
  {
   "cell_type": "code",
   "execution_count": 100,
   "metadata": {},
   "outputs": [
    {
     "name": "stderr",
     "output_type": "stream",
     "text": [
      "No handles with labels found to put in legend.\n"
     ]
    },
    {
     "name": "stdout",
     "output_type": "stream",
     "text": [
      "\\Omega_m^LCDM$=0.999916\n",
      "Duration: 0 minutes and 10 seconds\n"
     ]
    },
    {
     "data": {
      "image/png": "[encoded data removed]",
      "text/plain": [
       "<Figure size 432x288 with 1 Axes>"
      ]
     },
     "metadata": {
      "needs_background": "light"
     },
     "output_type": "display_data"
    },
    {
     "name": "stdout",
     "output_type": "stream",
     "text": [
      "[1.         1.00000385 1.0000077  ... 1.92741962 1.92742926 1.9274389 ]\n"
     ]
    }
   ],
   "source": [
    "# Plot Hubble diagrams for different models\n",
    "plt.figure()\n",
    "plt.title('Hubble parameter for GILA models')\n",
    "plt.xlabel('z (redshift))')\n",
    "plt.ylabel(r'H(z) $\\rm [(km/seg)/Mpc]$')\n",
    "plt.legend(loc='best')\n",
    "plt.grid(True)\n",
    "\n",
    "H_0 = 1\n",
    "\n",
    "colors = ['b', 'g', 'r', 'c', 'm', 'y', 'k']\n",
    "colors1 = ['b--', 'g--', 'r--', 'c--', 'm--', 'y--', 'k--']\n",
    "\n",
    "#Plot LCDM Hubble parameter\n",
    "#redshift_LCDM = np.linspace(0, 3, int(10**5))\n",
    "z_LCDM = np.linspace(z_i, z_f, int(10**5))\n",
    "plt.plot(z_LCDM, H_LCDM(z_LCDM,omega_m,H_0),'--k',label='LCDM model') \n",
    "\n",
    "\n",
    "# Plot GILA Hubble function\n",
    "#omega_m = omega_luisa_to_CDM(b, L_bar, H_0, omega_m_luisa) #L_bar in units of H0 (inside the function L_bar is divided by H0)\n",
    "print(r'\\Omega_m^LCDM$={}'.format(omega_m))\n",
    "z_LCDM, hubble_values = integrator_z()\n",
    "plt.plot(z_LCDM, hubble_values,label='GILA model')\n",
    "\n",
    "\n",
    "plt.legend(loc='best')\n",
    "plt.show()\n",
    "\n",
    "print(hubble_values)"
   ]
  }
 ],
 "metadata": {
  "kernelspec": {
   "display_name": "fR-MCMC",
   "language": "python",
   "name": "python3"
  },
  "language_info": {
   "codemirror_mode": {
    "name": "ipython",
    "version": 3
   },
   "file_extension": ".py",
   "mimetype": "text/x-python",
   "name": "python",
   "nbconvert_exporter": "python",
   "pygments_lexer": "ipython3",
   "version": "3.7.undefined"
  },
  "orig_nbformat": 4
 },
 "nbformat": 4,
 "nbformat_minor": 2
}
