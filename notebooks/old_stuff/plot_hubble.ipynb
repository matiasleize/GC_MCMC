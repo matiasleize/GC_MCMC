{
 "cells": [
  {
   "cell_type": "markdown",
   "metadata": {},
   "source": [
    "This notebook has porpuse of showing the dataset that we used, alongside the prediction of the different cosmological models that we analyzed."
   ]
  },
  {
   "cell_type": "code",
   "execution_count": 1,
   "metadata": {},
   "outputs": [],
   "source": [
    "import numpy as np\n",
    "from matplotlib import pyplot as plt\n",
    "from scipy.interpolate import interp1d\n",
    "from scipy.constants import c as c_light #meters/seconds\n",
    "from scipy.integrate import cumtrapz as cumtrapz\n",
    "c_light_km = c_light/1000 #kilometers/seconds\n",
    "\n",
    "import os\n",
    "import git\n",
    "path_git = git.Repo('.', search_parent_directories=True).working_tree_dir\n",
    "path_datos_global = os.path.dirname(path_git)\n",
    "\n",
    "os.chdir(path_git); os.sys.path.append('./fr_mcmc/utils/')\n",
    "from solve_sys import Hubble_th as Hubble_th\n",
    "from LambdaCDM import H_LCDM\n",
    "from change_of_parameters import omega_luisa_to_CDM\n"
   ]
  },
  {
   "cell_type": "markdown",
   "metadata": {},
   "source": [
    "Here we define the plotting function."
   ]
  },
  {
   "cell_type": "code",
   "execution_count": 2,
   "metadata": {},
   "outputs": [],
   "source": [
    "def plot_data(  theta, \n",
    "                num_z_points = int(10**5), \n",
    "                model='GILA',\n",
    "                close = False):\n",
    "\n",
    "    '''Given the model parameters, return the plots \n",
    "    of the data with the prediction of the cosmological model.'''\n",
    "\n",
    "    [_, L_bar, omega_m_luisa, b, H_0] = theta\n",
    "\n",
    "    physical_params = [L_bar, b, H_0, omega_m_luisa]\n",
    "\n",
    "    zs_model, Hs_model = Hubble_th(physical_params, model=model,\n",
    "                                z_min=0, z_max=10, num_z_points=num_z_points)\n",
    "    \n",
    "    omega_m_lcdm = omega_luisa_to_CDM(b,L_bar,H_0,omega_m_luisa)\n",
    "\n",
    "    zs_model_lcdm = np.linspace(0,3,int(10**5))\n",
    "    \n",
    "    plt.figure()\n",
    "    plt.grid()\n",
    "    plt.title('GILA MODEL')\n",
    "    plt.plot(zs_model,Hs_model,label='GILA')\n",
    "    plt.plot(zs_model_lcdm, H_LCDM(zs_model_lcdm,omega_m_lcdm,H_0),'k--',label=r'$\\rm \\Lambda CDM$') \n",
    "    plt.legend()\n",
    "    plt.xlabel('H(z) [km/seg/Mpc]')\n",
    "    plt.xlabel('z (redshift)')\n",
    "    if close==True:\n",
    "        plt.close()\n"
   ]
  },
  {
   "cell_type": "markdown",
   "metadata": {},
   "source": [
    "Here is a concrete example. First, we import the datasets."
   ]
  },
  {
   "cell_type": "markdown",
   "metadata": {},
   "source": [
    "Now, we call the ploting function"
   ]
  },
  {
   "cell_type": "code",
   "execution_count": 14,
   "metadata": {},
   "outputs": [
    {
     "data": {
      "image/png": "[encoded data removed]",
      "text/plain": [
       "<Figure size 432x288 with 1 Axes>"
      ]
     },
     "metadata": {
      "needs_background": "light"
     },
     "output_type": "display_data"
    }
   ],
   "source": [
    "omega_m_input = 1.6\n",
    "omega_m_luisa = 0.9999 + 10**(-5) * omega_m_input\n",
    "'''\n",
    "\\mathrm{$M_{abs}$} = -19.297_{-0.026(0.051)}^{+0.024(0.049)} \n",
    "\\mathrm{$\\beta$} = 4.021_{-0.136(0.308)}^{+0.171(0.294)} \n",
    "\\mathrm{$H_{0}$} = 71.867_{-0.859(1.743)}^{+0.876(1.724)} \n",
    "\\mathrm{$\\Omega_m$} = 0.894_{-0.025(0.174)}^{+0.106(0.106)} \n",
    "'''\n",
    "sol = [_, 0.9, 0.894, 4.021, 71.867]    #[M_abs, L_bar, omega_m_luisa, b, H_0]\n",
    "sol = [_, 1.0, 0.969, 10, 73.867]    #[M_abs, L_bar, omega_m_luisa, b, H_0]\n",
    "\n",
    "\n",
    "plot_data(sol, model = 'GILA',\n",
    "            close = False)"
   ]
  }
 ],
 "metadata": {
  "kernelspec": {
   "display_name": "Python 3.7.6 ('fR-MCMC')",
   "language": "python",
   "name": "python3"
  },
  "language_info": {
   "codemirror_mode": {
    "name": "ipython",
    "version": 3
   },
   "file_extension": ".py",
   "mimetype": "text/x-python",
   "name": "python",
   "nbconvert_exporter": "python",
   "pygments_lexer": "ipython3",
   "version": "3.7.6"
  },
  "orig_nbformat": 4,
  "vscode": {
   "interpreter": {
    "hash": "232b3e9da5591926efd24902d1584265c87e1b950819ab88574e0a5afaf84380"
   }
  }
 },
 "nbformat": 4,
 "nbformat_minor": 2
}
