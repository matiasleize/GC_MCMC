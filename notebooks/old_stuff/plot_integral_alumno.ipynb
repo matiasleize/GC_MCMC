{
 "cells": [
  {
   "cell_type": "markdown",
   "metadata": {},
   "source": [
    "This notebook has porpuse of showing the calculation of Hubble parameter for the GILA model, and compare it with the Standard Cosmological Model. Let's call some libraries"
   ]
  },
  {
   "cell_type": "code",
   "execution_count": 76,
   "metadata": {},
   "outputs": [],
   "source": [
    "import time\n",
    "import numpy as np\n",
    "from scipy.constants import c as c_light  # units of m/s\n",
    "from scipy.integrate import solve_ivp\n",
    "from matplotlib import pyplot as plt\n",
    "c_light_km = c_light / 1000 # units of km/s"
   ]
  },
  {
   "cell_type": "markdown",
   "metadata": {},
   "source": [
    "FIrstly, let's define the function that characterise our model."
   ]
  },
  {
   "cell_type": "code",
   "execution_count": 77,
   "metadata": {},
   "outputs": [],
   "source": [
    "def F_H(H, params):     \n",
    "    lamb, L, beta, L_bar = params\n",
    "    FH = H**2 - H**6 * L_bar**4 * beta * np.exp(-beta*(L_bar*H)**10) \\\n",
    "              + H**8 * L**6     * lamb * np.exp(lamb*(L*H)**2)\n",
    "    return FH\n",
    "\n",
    "\n",
    "def F_H_prime(H, params):\n",
    "    lamb, L, beta, L_bar = params\n",
    "    aux = np.exp(-beta*(L_bar*H)**10) * beta * (L_bar*H)**4 * (-3 - 5 * beta * (L_bar*H)**10) +\\\n",
    "          np.exp(lamb*(L*H)**2) * lamb * (L*H)**6 * (4 + lamb*(L*H)**2)\n",
    "    FH_prime = 2 * H * (1 + aux) \n",
    "    return FH_prime\n",
    "\n",
    "def omega_luisa_to_CDM(beta, L_bar, H0, omega_m_luisa):\n",
    "    factor = F_H(H0, [0, 1e-27/H0, beta, L_bar/H0]) / H0**2\n",
    "    omega_cdm = omega_m_luisa * factor\n",
    "    return omega_cdm\n",
    "\n",
    "def omega_CDM_to_luisa(beta, L_bar, H0, omega_lcdm):\n",
    "    factor_inv = H0**2 / F_H(H0, [0, 1e-27/H0, beta, L_bar/H0]) \n",
    "    omega_luisa = omega_lcdm * factor_inv\n",
    "    return omega_luisa"
   ]
  },
  {
   "cell_type": "markdown",
   "metadata": {},
   "source": [
    "Now we define the system of equation. "
   ]
  },
  {
   "cell_type": "code",
   "execution_count": null,
   "metadata": {},
   "outputs": [],
   "source": [
    "def rk4_step(f, y, t, dt):\n",
    "    \"\"\"\n",
    "    Perform a single RK4 step.\n",
    "    \n",
    "    Parameters:\n",
    "    f : function\n",
    "        The function that returns dy/dt. It must be of the form f(t, y).\n",
    "    y : array-like\n",
    "        The current value of the dependent variable.\n",
    "    t : float\n",
    "        The current value of the independent variable (usually time).\n",
    "    dt : float\n",
    "        The step size.\n",
    "        \n",
    "    Returns:\n",
    "    y_next : array-like\n",
    "        The value of the dependent variable after the step.\n",
    "    \"\"\"\n",
    "    k1 = f(t, y)\n",
    "    k2 = f(t + 0.5 * dt, y + 0.5 * dt * k1)\n",
    "    k3 = f(t + 0.5 * dt, y + 0.5 * dt * k2)\n",
    "    k4 = f(t + dt, y + dt * k3)\n",
    "    y_next = y + (dt / 6.0) * (k1 + 2 * k2 + 2 * k3 + k4)\n",
    "    return y_next\n",
    "\n",
    "def rk4(f, y0, t):\n",
    "    \"\"\"\n",
    "    Solve an ODE using the RK4 method.\n",
    "    \n",
    "    Parameters:\n",
    "    f : function\n",
    "        The function that returns dy/dt. It must be of the form f(t, y).\n",
    "    y0 : array-like\n",
    "        The initial value of the dependent variable.\n",
    "    t : array-like\n",
    "        The array of time points at which to solve the ODE.\n",
    "        \n",
    "    Returns:\n",
    "    y : array-like\n",
    "        The array of values of the dependent variable at each time point.\n",
    "    \"\"\"\n",
    "    y = np.zeros((len(t), len(y0)))\n",
    "    y[0] = y0\n",
    "    for i in range(1, len(t)):\n",
    "        dt = t[i] - t[i-1]\n",
    "        y[i] = rk4_step(f, y[i-1], t[i-1], dt)\n",
    "    return y"
   ]
  },
  {
   "cell_type": "code",
   "execution_count": 78,
   "metadata": {},
   "outputs": [],
   "source": [
    "def get_odes(z, Hubble, params_ode, lcdm=False):\n",
    "    '''\n",
    "    Returns the system of ODEs for the given cosmological model.\n",
    "\n",
    "\n",
    "    Parameters:\n",
    "    -----------\n",
    "    z : float\n",
    "        Redshift value.\n",
    "    variables : list\n",
    "        List of values for the dynamical variables.\n",
    "    physical_params : list\n",
    "        List of model parameters, where the first n-1 elements are the model parameters,\n",
    "        while the last one specifies the cosmological model. Mathematically, this information is contained in\n",
    "        the function Gamma.\n",
    "    model : str, optional\n",
    "        Cosmological model that is being integrated. Defaults to 'HS'.\n",
    "\n",
    "    Returns:\n",
    "    -----------\n",
    "    list\n",
    "        Set of ODEs for the dynamical variables.\n",
    "    '''    \n",
    "    #kappa = 8 * np.pi * G_newton / 3 #Irrelevant for the ODEs\n",
    "    kappa = 1\n",
    "\n",
    "    [lamb, L, b, L_bar, H_0, omega_m_0] = params_ode\n",
    "\n",
    "\n",
    "    #omega_m_0 = 0.999916 #omega_m_0 es el de Luisa\n",
    "    omega_r_0 = 1 - omega_m_0\n",
    "\n",
    "    F_H0 = F_H(H_0, [lamb, L, b, L_bar])\n",
    "\n",
    "    if lcdm == True:\n",
    "        rho_crit_0 = H_0**2 / kappa        \n",
    "    else:\n",
    "        rho_crit_0 = F_H0 / kappa\n",
    "\n",
    "    #print(omega_m_0,F_H0,rho_crit_0)\n",
    "    \n",
    "    a = 1/(1+z)\n",
    "\n",
    "    rho_r = rho_crit_0 * omega_r_0 * a**(-4)\n",
    "    rho_m = rho_crit_0 * omega_m_0 * a**(-3)\n",
    "    rho_tot =  rho_r + rho_m \n",
    "    p_tot =  (1/3) * rho_r\n",
    "\n",
    "    # To integrate in z\n",
    "    s =  3 * kappa * (rho_tot + p_tot/c_light_km**2) / ((1+z)*F_H_prime(Hubble, [lamb, L, b, L_bar]))     \n",
    "    #print(s)\n",
    "    \n",
    "    return s\n"
   ]
  },
  {
   "cell_type": "markdown",
   "metadata": {},
   "source": [
    "Now we define the function that integrates the ODEs for the given cosmological model."
   ]
  },
  {
   "cell_type": "code",
   "execution_count": 79,
   "metadata": {},
   "outputs": [],
   "source": [
    "def integrator(physical_params, num_z_points=int(10**5),\n",
    "                initial_z=0, final_z=3,\n",
    "                system_equations=get_odes, verbose=False,\n",
    "                method='RK45', rtol=1e-11, atol=1e-16):\n",
    " \n",
    "    t1 = time.time()\n",
    "    \n",
    "    L_bar, b, H0, omega_m_luisa = physical_params\n",
    "    zs_int = np.linspace(initial_z, final_z, num_z_points)\n",
    "    ode_params = [0, 1e-27/H0, b, L_bar/H0, H0, omega_m_luisa]\n",
    "    \n",
    "    t = np.linspace(initial_z, final_z, zs_int)\n",
    "    y = rk4(system_equations, H0, t)\n",
    "\n",
    "    zs_final = t\n",
    "    Hs_final = y\n",
    "\n",
    "    #sol = solve_ivp(system_equations, (initial_z,final_z),\n",
    "    #                [H0], t_eval=zs_int, args = [ode_params],\n",
    "    #                rtol=rtol, atol=atol,\n",
    "    #                method=method)\n",
    "        \n",
    "\n",
    "    #assert len(sol.t)==num_z_points, 'Something is wrong with the integration!'\n",
    "    #assert np.all(zs_int==sol.t), 'Not all the values of z coincide with the ones that were required!'\n",
    "\n",
    "    # Calculate the Hubble parameter\n",
    "    #zs_final = sol.t\n",
    "    #Hs_final = sol.y[0]\n",
    "\n",
    "    t2 = time.time()\n",
    "\n",
    "    if verbose == True:\n",
    "        print('Duration: {} minutes and {} seconds'.format(int((t2-t1)/60),\n",
    "                int((t2-t1) - 60*int((t2-t1)/60))))\n",
    "\n",
    "    return zs_final, Hs_final"
   ]
  },
  {
   "cell_type": "markdown",
   "metadata": {},
   "source": [
    "The Standard Cosmological model $H(z)$ is defined by"
   ]
  },
  {
   "cell_type": "code",
   "execution_count": 80,
   "metadata": {},
   "outputs": [],
   "source": [
    "def H_LCDM(z, omega_m, H_0):\n",
    "    '''\n",
    "    Calculation of the Hubble parameter.\n",
    "    Here we neclect the radiation (it holds \n",
    "    that \\Omega_r + \\Omega_m + \\Omega_L = 1).\n",
    "    '''\n",
    "    \n",
    "    omega_lambda = 1 - omega_m\n",
    "    H = H_0 * np.sqrt(omega_m * (1 + z)**3 + omega_lambda)\n",
    "    \n",
    "    return H"
   ]
  },
  {
   "cell_type": "markdown",
   "metadata": {},
   "source": [
    "Finally, we plot $H(z)$ for different values of the scale $\\bar{L}$"
   ]
  },
  {
   "cell_type": "code",
   "execution_count": 85,
   "metadata": {},
   "outputs": [],
   "source": [
    "# Set physical parameters\n",
    "H_0 = 70\n",
    "b = 0.1\n",
    "omega_m_luisa = 0.999916\n",
    "#omega_m = 0.3\n",
    "\n",
    "#L_bar = 1.4 # In units of H0   \n",
    "L_bars = np.array([0.4, 0.5, 0.6, 0.7, 0.8, 0.9, 1.0, 1.1])\n",
    "L_bars = np.array([0.4, 0.5, 0.6, 0.7])\n",
    "#L_bars = np.array([0.8, 0.9, 1.0, 1.1])\n",
    "\n",
    "final_z = 3\n",
    "#final_z = 10000\n"
   ]
  },
  {
   "cell_type": "code",
   "execution_count": 87,
   "metadata": {},
   "outputs": [
    {
     "name": "stderr",
     "output_type": "stream",
     "text": [
      "No handles with labels found to put in legend.\n"
     ]
    },
    {
     "name": "stdout",
     "output_type": "stream",
     "text": [
      "\\Omega_m^LCDM$=0.99735624188115\n",
      "\\Omega_m^LCDM$=0.9936671352704941\n",
      "\\Omega_m^LCDM$=0.9869649220296364\n",
      "\\Omega_m^LCDM$=0.9759757377577655\n"
     ]
    },
    {
     "data": {
      "image/png": "[encoded data removed]",
      "text/plain": [
       "<Figure size 432x288 with 1 Axes>"
      ]
     },
     "metadata": {
      "needs_background": "light"
     },
     "output_type": "display_data"
    }
   ],
   "source": [
    "# Plot Hubble diagrams for different models\n",
    "plt.figure()\n",
    "plt.title('Hubble parameter for GILA models')\n",
    "plt.xlabel('z (redshift)')\n",
    "plt.ylabel(r'H(z) $\\rm [(km/seg)/Mpc]$')\n",
    "plt.legend(loc='best')\n",
    "plt.grid(True)\n",
    "\n",
    "colors = ['b', 'g', 'r', 'c', 'm', 'y', 'k']\n",
    "colors1 = ['b--', 'g--', 'r--', 'c--', 'm--', 'y--', 'k--']\n",
    "\n",
    "for i, L_bar in enumerate(L_bars):\n",
    "    physical_params = [L_bar, b, H_0, omega_m_luisa] #L_bar in units of H0\n",
    "    redshifts, hubble_values = integrator(physical_params, final_z=final_z)\n",
    "    omega_m = omega_luisa_to_CDM(b, L_bar, H_0, omega_m_luisa) #L_bar in units of H0 (inside the function L_bar is divided by H0)\n",
    "    print(r'\\Omega_m^LCDM$={}'.format(omega_m))\n",
    "\n",
    "    # Plot GILA Hubble function\n",
    "    plt.plot(redshifts, hubble_values,colors[i], label=f' $L_{{bar}} = {L_bar}$')\n",
    "    plt.legend(loc='best')\n",
    "    \n",
    "    #Plot LCDM Hubble parameter\n",
    "    redshift_LCDM = np.linspace(0, final_z, int(10**5))\n",
    "    plt.plot(redshift_LCDM, H_LCDM(redshift_LCDM,omega_m,H_0),colors1[i]) \n",
    "\n",
    "plt.show()"
   ]
  },
  {
   "cell_type": "markdown",
   "metadata": {},
   "source": [
    "It can be seen that the step on $H(z)$ that characterize the GILA model appears at higher redshifts  when $\\bar{L}$ is lower."
   ]
  }
 ],
 "metadata": {
  "kernelspec": {
   "display_name": "fR-MCMC",
   "language": "python",
   "name": "python3"
  },
  "language_info": {
   "codemirror_mode": {
    "name": "ipython",
    "version": 3
   },
   "file_extension": ".py",
   "mimetype": "text/x-python",
   "name": "python",
   "nbconvert_exporter": "python",
   "pygments_lexer": "ipython3",
   "version": "3.7.undefined"
  },
  "orig_nbformat": 4
 },
 "nbformat": 4,
 "nbformat_minor": 2
}
