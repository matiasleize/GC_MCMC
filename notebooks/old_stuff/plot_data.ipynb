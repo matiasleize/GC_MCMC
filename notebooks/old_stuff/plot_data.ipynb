{
 "cells": [
  {
   "cell_type": "markdown",
   "metadata": {},
   "source": [
    "This notebook has porpuse of showing the dataset that we used, alongside the prediction of the different cosmological models that we analyzed."
   ]
  },
  {
   "cell_type": "code",
   "execution_count": 1,
   "metadata": {},
   "outputs": [],
   "source": [
    "import numpy as np\n",
    "from matplotlib import pyplot as plt\n",
    "from scipy.interpolate import interp1d\n",
    "from scipy.constants import c as c_light #meters/seconds\n",
    "from scipy.integrate import cumtrapz as cumtrapz\n",
    "c_light_km = c_light/1000 #kilometers/seconds\n",
    "\n",
    "import os\n",
    "import git\n",
    "path_git = git.Repo('.', search_parent_directories=True).working_tree_dir\n",
    "path_datos_global = os.path.dirname(path_git)\n",
    "\n",
    "os.chdir(path_git); os.sys.path.append('./fr_mcmc/utils/')\n",
    "from solve_sys import Hubble_th as Hubble_th\n",
    "from supernovae import aparent_magnitude_th, chi2_supernovae\n",
    "from BAO import r_drag, Hs_to_Ds, Ds_to_obs_final\n",
    "from AGN import zs_2_logDlH0\n",
    "from chi_square import chi2_sin_cov, all_parameters"
   ]
  },
  {
   "cell_type": "markdown",
   "metadata": {},
   "source": [
    "Here we define the plotting function."
   ]
  },
  {
   "cell_type": "code",
   "execution_count": 2,
   "metadata": {},
   "outputs": [],
   "source": [
    "def plot_data(theta, fixed_params, index = 0,\n",
    "                    dataset_SN = None, dataset_CC = None,\n",
    "                    dataset_BAO = None, dataset_AGN = None, dataset_BAO_odintsov = None,\n",
    "                    H0_Riess = False, num_z_points = int(10**5), model='HS', n = 1,\n",
    "                    nuisance_2 = False, close = False,\n",
    "                    save_path = None):\n",
    "\n",
    "    '''Given the model parameters, return the plots of the data with the prediction of the cosmological model.'''\n",
    "\n",
    "    [Mabs, omega_m, b, H_0] = all_parameters(theta, fixed_params, index)\n",
    "\n",
    "    physical_params = [omega_m,b,H_0]\n",
    "    zs_model, Hs_model = Hubble_th(physical_params, n=n, model=model,\n",
    "                                z_min=0, z_max=10, num_z_points=num_z_points)\n",
    "                                #AGN data goes up to higher redshift.\n",
    "    Hs_interpolado = interp1d(zs_model, Hs_model)\n",
    "    int_inv_Hs = cumtrapz(Hs_model**(-1), zs_model, initial=0)\n",
    "    int_inv_Hs_interpolado = interp1d(zs_model, int_inv_Hs)\n",
    "\n",
    "    if dataset_SN != None:\n",
    "        zcmb, zhel, Cinv, mb = dataset_SN\n",
    "        muth = aparent_magnitude_th(int_inv_Hs_interpolado, zcmb, zhel)\n",
    "        muobs =  mb - Mabs\n",
    "\n",
    "        plt.figure()\n",
    "        plt.grid()\n",
    "        emu=np.sqrt(np.diag(np.linalg.inv(Cinv)))\n",
    "        plt.title('Supernovae IA ({})'.format(model))\n",
    "        plt.plot(zcmb,muth,'.',label='theory')\n",
    "        plt.errorbar(zcmb,muobs,emu,fmt='.', label='data')\n",
    "        plt.legend()\n",
    "        plt.xlabel('z (redshift)')\n",
    "        if close==True:\n",
    "            plt.close()\n",
    "\n",
    "\n",
    "    if dataset_CC != None:\n",
    "        z_data, H_data, dH = dataset_CC\n",
    "        H_interp = interp1d(zs_model, Hs_model)\n",
    "        H_teo = H_interp(z_data)\n",
    "\n",
    "        plt.figure()\n",
    "        plt.grid()\n",
    "        plt.title('Cosmic Chronometers ({})'.format(model))\n",
    "        plt.plot(zs_model,Hs_model,label='theory')\n",
    "        plt.errorbar(z_data,H_data,dH,fmt='.',label='data')\n",
    "        plt.legend()\n",
    "        plt.xlabel('z (redshift)')\n",
    "        if close==True:\n",
    "            plt.close()\n",
    "\n",
    "    if dataset_BAO != None:\n",
    "        num_datasets=5\n",
    "        legends_datasets = ['$D_A/r_d$','$D_H/r_d$','$D_M/r_d$','$D_V/r_d$','$H \\cdot r_d$']\n",
    "        for i in range(num_datasets): #For each datatype\n",
    "            (z_data_BAO, valores_data, errores_data_cuad,wb_fid) = dataset_BAO[i]\n",
    "            if i==0: #Da data\n",
    "                rd = r_drag(omega_m,H_0,wb_fid) #Computation of rd\n",
    "                distancias_teoricas = Hs_to_Ds(Hs_interpolado, int_inv_Hs_interpolado, z_data_BAO, i)\n",
    "                output_th = Ds_to_obs_final(distancias_teoricas, rd, i)\n",
    "            else:\n",
    "                distancias_teoricas = Hs_to_Ds(Hs_interpolado, int_inv_Hs_interpolado, z_data_BAO, i)\n",
    "                output_th = np.zeros(len(z_data_BAO))\n",
    "                for j in range(len(z_data_BAO)): #For each species\n",
    "                     rd = r_drag(omega_m,H_0,wb_fid[j]) #Computation of rd\n",
    "                     output_th[j] = Ds_to_obs_final(distancias_teoricas[j],rd,i)\n",
    "            #Chi square cumputation for each datatype (i)\n",
    "            plt.figure()\n",
    "            plt.title('{} ({})'.format(legends_datasets[i],model))\n",
    "            plt.grid()\n",
    "            plt.plot(z_data_BAO,output_th,'.',label='theory')\n",
    "            plt.errorbar(z_data_BAO,valores_data,np.sqrt(errores_data_cuad),fmt='.',label='data')\n",
    "            plt.legend()\n",
    "            plt.xlabel('z (redshift)')\n",
    "            if close==True:\n",
    "                plt.close()\n",
    "\n",
    "    if dataset_AGN != None:\n",
    "        #Import the data\n",
    "        z_data, logFuv, eFuv, logFx, eFx  = dataset_AGN\n",
    "\n",
    "        #AGN parameters\n",
    "        beta = 7.735\n",
    "        ebeta = 0.244\n",
    "        gamma = 0.648\n",
    "        egamma = 0.007\n",
    "\n",
    "        Es_modelo = Hs_model/H_0\n",
    "\n",
    "        DlH0_teo = zs_2_logDlH0(int_inv_Hs_interpolado(z_data)*H_0,z_data)\n",
    "        DlH0_obs =  np.log10(3.24) - 25 + (logFx - gamma * logFuv - beta) / (2*gamma - 2)\n",
    "\n",
    "        df_dgamma =  (-logFx+beta+logFuv) / (2*(gamma-1)**2)\n",
    "        eDlH0_cuad = (eFx**2 + gamma**2 * eFuv**2 + ebeta**2)/ (2*gamma - 2)**2 + (df_dgamma)**2 * egamma**2 #Squared errors\n",
    "\n",
    "\n",
    "        plt.figure()\n",
    "        plt.grid()\n",
    "        plt.title('AGN ({})'.format(model))\n",
    "        plt.plot(z_data,DlH0_teo,'.',label='theory')\n",
    "        plt.errorbar(z_data,DlH0_obs,np.sqrt(eDlH0_cuad),fmt='.',label='data')\n",
    "        plt.legend()\n",
    "        plt.xlabel('z (redshift)')\n",
    "        if close==True:\n",
    "            plt.close()\n",
    "\n",
    "    if dataset_BAO_odintsov != None:\n",
    "        #Import data\n",
    "        z_data_BAO, H_data_BAO, dH_BAO, rd_fid = dataset_BAO_odintsov\n",
    "        H_interp = interp1d(zs_model, Hs_model)\n",
    "        H_teo = H_interp(z_data_BAO)\n",
    "\n",
    "        H_data_BAO_norm = np.zeros(len(H_data_BAO))\n",
    "        for i in range(len(H_data_BAO_norm)):\n",
    "            if rd_fid[i]==1:\n",
    "                factor = 1\n",
    "            else:\n",
    "                rd = r_drag(omega_m,H_0,wb=0.0225) #rd computation with fixed wb\n",
    "                factor = rd_fid[i]/rd\n",
    "            H_data_BAO_norm[i] = H_data_BAO[i] * factor\n",
    "\n",
    "        plt.figure()\n",
    "        plt.grid()\n",
    "        plt.title('BAO Odintsov ({})'.format(model))\n",
    "        plt.plot(z_data_BAO,H_teo,'.',label='theory')\n",
    "        plt.errorbar(z_data_BAO,H_data_BAO_norm,dH_BAO,fmt='.',label='data')\n",
    "        plt.legend()\n",
    "        plt.xlabel('z (redshift)')\n",
    "        if close==True:\n",
    "            plt.close()\n"
   ]
  },
  {
   "cell_type": "markdown",
   "metadata": {},
   "source": [
    "Here is a concrete example. First, we import the datasets."
   ]
  },
  {
   "cell_type": "code",
   "execution_count": 3,
   "metadata": {},
   "outputs": [],
   "source": [
    "os.chdir(path_git + '/fr_mcmc/utils/')\n",
    "from data import read_data_pantheon, read_data_chronometers, read_data_BAO, read_data_AGN\n",
    "\n",
    "# Supernovas\n",
    "os.chdir(path_git+'/fr_mcmc/source/Pantheon/')\n",
    "ds_SN = read_data_pantheon('lcparam_full_long_zhel.txt')\n",
    "\n",
    "# Cronómetros\n",
    "os.chdir(path_git+'/fr_mcmc/source/CC/')\n",
    "ds_CC = read_data_chronometers('chronometers_data.txt')\n",
    "\n",
    "# BAO\n",
    "os.chdir(path_git+'/fr_mcmc/source/BAO/')\n",
    "ds_BAO = []\n",
    "archivos_BAO = ['BAO_data_da.txt','BAO_data_dh.txt','BAO_data_dm.txt',\n",
    "                'BAO_data_dv.txt','BAO_data_H.txt']\n",
    "for i in range(5):\n",
    "    aux = read_data_BAO(archivos_BAO[i])\n",
    "    ds_BAO.append(aux)\n",
    "\n",
    "# AGN\n",
    "os.chdir(path_git+'/fr_mcmc/source/AGN/')\n",
    "ds_AGN = read_data_AGN('table3.dat')\n"
   ]
  },
  {
   "cell_type": "markdown",
   "metadata": {},
   "source": [
    "Now, we call the ploting function"
   ]
  },
  {
   "cell_type": "code",
   "execution_count": 4,
   "metadata": {},
   "outputs": [
    {
     "ename": "FileNotFoundError",
     "evalue": "[Errno 2] No such file or directory: '/home/matias/Documents/Repos/fR-output/sample_GILA_SN_CC_4params/'",
     "output_type": "error",
     "traceback": [
      "\u001b[0;31m---------------------------------------------------------------------------\u001b[0m",
      "\u001b[0;31mFileNotFoundError\u001b[0m                         Traceback (most recent call last)",
      "\u001b[0;32m/tmp/ipykernel_180717/2405932500.py\u001b[0m in \u001b[0;36m<module>\u001b[0;34m\u001b[0m\n\u001b[1;32m      1\u001b[0m \u001b[0mfilename\u001b[0m \u001b[0;34m=\u001b[0m \u001b[0;34m'GILA_SN_CC_4params'\u001b[0m\u001b[0;34m\u001b[0m\u001b[0;34m\u001b[0m\u001b[0m\n\u001b[1;32m      2\u001b[0m \u001b[0mfilename_ml\u001b[0m \u001b[0;34m=\u001b[0m \u001b[0;34m'maximun_likelihood_'\u001b[0m \u001b[0;34m+\u001b[0m \u001b[0mfilename\u001b[0m\u001b[0;34m\u001b[0m\u001b[0;34m\u001b[0m\u001b[0m\n\u001b[0;32m----> 3\u001b[0;31m \u001b[0mos\u001b[0m\u001b[0;34m.\u001b[0m\u001b[0mchdir\u001b[0m\u001b[0;34m(\u001b[0m\u001b[0mpath_datos_global\u001b[0m\u001b[0;34m+\u001b[0m\u001b[0;34m'/fR-output/sample_'\u001b[0m\u001b[0;34m+\u001b[0m\u001b[0mfilename\u001b[0m\u001b[0;34m+\u001b[0m\u001b[0;34m'/'\u001b[0m\u001b[0;34m)\u001b[0m\u001b[0;34m\u001b[0m\u001b[0;34m\u001b[0m\u001b[0m\n\u001b[0m\u001b[1;32m      4\u001b[0m \u001b[0;32mwith\u001b[0m \u001b[0mnp\u001b[0m\u001b[0;34m.\u001b[0m\u001b[0mload\u001b[0m\u001b[0;34m(\u001b[0m\u001b[0mfilename_ml\u001b[0m \u001b[0;34m+\u001b[0m \u001b[0;34m'.npz'\u001b[0m\u001b[0;34m)\u001b[0m \u001b[0;32mas\u001b[0m \u001b[0mdata\u001b[0m\u001b[0;34m:\u001b[0m\u001b[0;34m\u001b[0m\u001b[0;34m\u001b[0m\u001b[0m\n\u001b[1;32m      5\u001b[0m     \u001b[0msol\u001b[0m \u001b[0;34m=\u001b[0m \u001b[0mdata\u001b[0m\u001b[0;34m[\u001b[0m\u001b[0;34m'sol'\u001b[0m\u001b[0;34m]\u001b[0m\u001b[0;34m\u001b[0m\u001b[0;34m\u001b[0m\u001b[0m\n",
      "\u001b[0;31mFileNotFoundError\u001b[0m: [Errno 2] No such file or directory: '/home/matias/Documents/Repos/fR-output/sample_GILA_SN_CC_4params/'"
     ]
    }
   ],
   "source": [
    "filename = 'GILA_SN_CC_4params'\n",
    "filename_ml = 'maximun_likelihood_' + filename\n",
    "os.chdir(path_datos_global+'/fR-output/sample_'+filename+'/')\n",
    "with np.load(filename_ml + '.npz') as data:\n",
    "    sol = data['sol']\n",
    "print(sol)\n",
    "plot_data(sol, _, index=4,\n",
    "                dataset_SN = ds_SN,\n",
    "                dataset_CC = ds_CC,\n",
    "                #dataset_BAO = ds_BAO,\n",
    "                #dataset_AGN = ds_AGN,\n",
    "                model = 'GILA',\n",
    "                close = False\n",
    "                )"
   ]
  },
  {
   "cell_type": "code",
   "execution_count": null,
   "metadata": {},
   "outputs": [
    {
     "name": "stdout",
     "output_type": "stream",
     "text": [
      "[-19.35296536   1.07554396   3.          64.        ]\n"
     ]
    },
    {
     "data": {
      "image/png": "[encoded data removed]",
      "text/plain": [
       "<Figure size 432x288 with 1 Axes>"
      ]
     },
     "metadata": {
      "needs_background": "light"
     },
     "output_type": "display_data"
    },
    {
     "data": {
      "image/png": "[encoded data removed]",
      "text/plain": [
       "<Figure size 432x288 with 1 Axes>"
      ]
     },
     "metadata": {
      "needs_background": "light"
     },
     "output_type": "display_data"
    }
   ],
   "source": [
    "filename = 'GILA_SN_CC_H0_4params'\n",
    "filename_ml = 'maximun_likelihood_' + filename\n",
    "os.chdir(path_datos_global+'/fR-output/sample_'+filename+'/')\n",
    "with np.load(filename_ml + '.npz') as data:\n",
    "    sol = data['sol']\n",
    "print(sol)\n",
    "plot_data(sol, _, index=4,\n",
    "                dataset_SN = ds_SN,\n",
    "                dataset_CC = ds_CC,\n",
    "                #dataset_BAO = ds_BAO,\n",
    "                #dataset_AGN = ds_AGN,\n",
    "                model = 'GILA',\n",
    "                close = False\n",
    "                )"
   ]
  },
  {
   "cell_type": "code",
   "execution_count": null,
   "metadata": {},
   "outputs": [],
   "source": []
  }
 ],
 "metadata": {
  "kernelspec": {
   "display_name": "Python 3.7.6 ('fR-MCMC')",
   "language": "python",
   "name": "python3"
  },
  "language_info": {
   "codemirror_mode": {
    "name": "ipython",
    "version": 3
   },
   "file_extension": ".py",
   "mimetype": "text/x-python",
   "name": "python",
   "nbconvert_exporter": "python",
   "pygments_lexer": "ipython3",
   "version": "3.7.6"
  },
  "orig_nbformat": 4,
  "vscode": {
   "interpreter": {
    "hash": "232b3e9da5591926efd24902d1584265c87e1b950819ab88574e0a5afaf84380"
   }
  }
 },
 "nbformat": 4,
 "nbformat_minor": 2
}
