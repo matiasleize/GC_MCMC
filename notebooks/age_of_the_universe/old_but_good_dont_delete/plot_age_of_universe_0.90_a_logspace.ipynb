{
 "cells": [
  {
   "cell_type": "code",
   "execution_count": 1,
   "metadata": {},
   "outputs": [],
   "source": [
    "# Initial setup:\n",
    "%matplotlib inline\n",
    "%config InlineBackend.figure_format = 'retina'\n",
    "%load_ext autoreload\n",
    "%autoreload 1\n",
    "\n",
    "#For fancy plots\n",
    "import matplotlib\n",
    "from matplotlib import pyplot as plt\n",
    "matplotlib.rcParams['mathtext.fontset'] = 'cm'\n",
    "matplotlib.rcParams['font.family'] = 'STIXGeneral'\n",
    "\n",
    "# import libraries:\n",
    "import sys, os\n",
    "import os\n",
    "import git\n",
    "path_git = git.Repo('.', search_parent_directories=True).working_tree_dir\n",
    "path_data = os.path.join(os.path.dirname(path_git), 'GILA-output', 'paper')\n",
    "path_figures = os.path.join(path_git, 'notebooks', 'figures')\n",
    "\n",
    "os.chdir(os.path.join(path_git, 'fr_mcmc', 'utils'))\n",
    "\n",
    "from change_of_parameters import omega_CDM_to_luisa, F_H, F_H_prime\n",
    "from constants import LAMBDA, L, OMEGA_R_0, KAPPA\n",
    "\n",
    "from scipy.constants import c as c_light #meters/seconds\n",
    "c_light_km = c_light/1000 #km/s\n",
    "\n",
    "from getdist import plots\n",
    "import getdist\n",
    "from getdist import plots, MCSamples, loadMCSamples\n",
    "getdist.chains.print_load_details = False\n",
    "import scipy\n",
    "from scipy.integrate import simps,solve_ivp\n",
    "from scipy.linalg import sqrtm\n",
    "import numpy as np\n",
    "\n",
    "from seaborn import heatmap\n",
    "import pandas as pd\n",
    "import emcee\n",
    "\n",
    "import time"
   ]
  },
  {
   "cell_type": "code",
   "execution_count": 2,
   "metadata": {},
   "outputs": [],
   "source": [
    "def get_odes(a, Hubble, params_ode, lcdm=False):\n",
    "    '''\n",
    "    Returns the system of ODEs for the given cosmological model.\n",
    "\n",
    "\n",
    "    Parameters:\n",
    "    -----------\n",
    "    z : float\n",
    "        Redshift value.\n",
    "    variables : list\n",
    "        List of values for the dynamical variables.\n",
    "    physical_params : list\n",
    "        List of model parameters, where the first n-1 elements are the model parameters,\n",
    "        while the last one specifies the cosmological model. Mathematically, this information is contained in\n",
    "        the function Gamma.\n",
    "    model : str, optional\n",
    "        Cosmological model that is being integrated. Defaults to 'LCDM'.\n",
    "\n",
    "    Returns:\n",
    "    -----------\n",
    "    list\n",
    "        Set of ODEs for the dynamical variables.\n",
    "    '''    \n",
    "    [LAMBDA, L, b, L_bar, H_0, model] = params_ode #Here L and L_bar are in units of H0^{-1}\n",
    "\n",
    "    F_H0 = F_H(H_0, [LAMBDA, L, b, L_bar], model)\n",
    "\n",
    "    omega_m_0 = F_H0 /(100**2) - OMEGA_R_0\n",
    "\n",
    "    rho_m_0 = 100**2 * omega_m_0 / KAPPA\n",
    "    rho_r_0 = 100**2 * OMEGA_R_0 / KAPPA\n",
    "    \n",
    "    rho_r = rho_r_0 * a**(-4)\n",
    "    rho_m = rho_m_0 * a**(-3)\n",
    "    rho_tot =  rho_r + rho_m \n",
    "    p_tot =  (1/3) * rho_r\n",
    "\n",
    "    # To integrate in z\n",
    "    #s =  3 * KAPPA * (rho_tot + p_tot/c_light_km**2) / ((1+z)*F_H_prime(Hubble, [LAMBDA, L, b, L_bar],model))     \n",
    "    # To integrate in a\n",
    "    s =  - 3 * KAPPA * (rho_tot + p_tot/c_light_km**2) / (a * F_H_prime(Hubble, [LAMBDA, L, b, L_bar],model))     \n",
    "    # To integrate in log(a)\n",
    "    #s =  - 3 * KAPPA  * (rho_tot + p_tot/c_light_km**2) / (F_H_prime(Hubble, [LAMBDA, L, b, L_bar],model))     \n",
    "\n",
    "    #print(s)\n",
    "    return s\n",
    "\n",
    "\n",
    "def integrator_GILA(physical_params, model, num_a_points=int(10e5),\n",
    "                initial_a=1, final_a=0.001,\n",
    "                system_equations=get_odes, verbose=False,\n",
    "                method='RK45', rtol=1e-11, atol=1e-16):\n",
    " \n",
    "    t1 = time.time()\n",
    "    L_bar, b, H0 = physical_params\n",
    "    \n",
    "    #Cambiar si pasamos de logspace a linspace!\n",
    "    #a_int = np.linspace(initial_a, final_a, num_a_points)\n",
    "    a_int = np.logspace(np.log10(initial_a), np.log10(final_a), num_a_points)\n",
    "\n",
    "    ode_params = [LAMBDA, L/H0, b, L_bar/H0, H0, model]\n",
    "    sol = solve_ivp(system_equations, (initial_a,final_a),\n",
    "                    [H0], t_eval=a_int, args = [ode_params],\n",
    "                    rtol=rtol, atol=atol, method=method)\n",
    "        \n",
    "\n",
    "    assert len(sol.t)==num_a_points, 'Something is wrong with the integration!'\n",
    "    assert np.all(a_int==sol.t), 'Not all the values of z coincide with the ones that were required!'\n",
    "\n",
    "    # Calculate the Hubble parameter\n",
    "    a_final = sol.t\n",
    "    Hs_final = sol.y[0]\n",
    "\n",
    "    t2 = time.time()\n",
    "\n",
    "    if verbose == True:\n",
    "        print('Duration: {} minutes and {} seconds'.format(int((t2-t1)/60),\n",
    "                int((t2-t1) - 60*int((t2-t1)/60))))\n",
    "\n",
    "    return a_final, Hs_final"
   ]
  },
  {
   "cell_type": "code",
   "execution_count": 3,
   "metadata": {},
   "outputs": [
    {
     "name": "stdout",
     "output_type": "stream",
     "text": [
      "/home/matias/Documents/Repos/GILA-output/paper\n"
     ]
    }
   ],
   "source": [
    "discard=0\n",
    "thin=1\n",
    "\n",
    "os.chdir(path_data)\n",
    "print(path_data)\n",
    "\n",
    "samples_lcdm = emcee.backends.HDFBackend(os.path.join('sample_LCDM_PPS_CC_3params', 'sample_LCDM_PPS_CC_3params.h5'))\n",
    "samples_beta = emcee.backends.HDFBackend(os.path.join('L=0.90','sample_BETA_PPS_CC_3params', 'sample_BETA_PPS_CC_3params.h5'))\n",
    "samples_gila = emcee.backends.HDFBackend(os.path.join('L=0.90','sample_GILA_PPS_CC_3params', 'sample_GILA_PPS_CC_3params.h5'))\n",
    "\n",
    "#nwalkers, ndim = reader_lcdm.shape #Number of walkers and parameters\n",
    "flat_samples_beta = samples_beta.get_chain(discard=discard, flat=True, thin=thin)\n",
    "flat_samples_gila = samples_gila.get_chain(discard=discard, flat=True, thin=thin)\n",
    "flat_samples_lcdm = samples_lcdm.get_chain(discard=discard, flat=True, thin=thin)"
   ]
  },
  {
   "cell_type": "code",
   "execution_count": 4,
   "metadata": {},
   "outputs": [],
   "source": [
    "omega_r = 2.47e-5 \n",
    "L_bar = 0.90\n",
    "\n",
    "Gyr_to_second = int(3.1536e16)\n",
    "Mpc_to_km = int(3.0857e19)\n",
    "inv_Hub_to_Gyr = Mpc_to_km/Gyr_to_second\n",
    "\n",
    "#a = np.linspace(1, 0.1, int(10e3))\n",
    "#a = np.linspace(1, 0.001, int(10e3))\n",
    "a = np.logspace(0, -3, int(10e3))\n",
    "\n"
   ]
  },
  {
   "cell_type": "code",
   "execution_count": 5,
   "metadata": {},
   "outputs": [
    {
     "name": "stdout",
     "output_type": "stream",
     "text": [
      "[1.         0.99930939 0.99861926 ... 0.00100138 0.00100069 0.001     ]\n"
     ]
    },
    {
     "data": {
      "image/png": "[encoded data removed]",
      "text/plain": [
       "<Figure size 720x432 with 1 Axes>"
      ]
     },
     "metadata": {
      "image/png": {
       "height": 358,
       "width": 596
      },
      "needs_background": "light"
     },
     "output_type": "display_data"
    }
   ],
   "source": [
    "print(a)\n",
    "\n",
    "plt.figure(figsize=(10,6))\n",
    "plt.grid()\n",
    "plt.plot(a,'.')\n",
    "plt.xscale('log')\n",
    "plt.yscale('log')\n",
    "plt.show()"
   ]
  },
  {
   "cell_type": "code",
   "execution_count": 6,
   "metadata": {},
   "outputs": [],
   "source": [
    "#LCDM MODEL\n",
    "#M_abs = flat_samples_lcdm[:,0]\n",
    "omega_m = flat_samples_lcdm[:,1]\n",
    "H0 = flat_samples_lcdm[:,2]\n",
    "\n",
    "Omega_r_lcdm = omega_r / (H0/100)**2\n",
    "Omega_m_lcdm = omega_m / (H0/100)**2\n",
    "Omega_L_lcdm = 1 - Omega_m_lcdm - Omega_r_lcdm\n",
    "aou_lcdm = np.zeros(len(H0))\n",
    "\n",
    "def aou_lcdm_calc(a, H0, Omega_r_lcdm, Omega_m_lcdm, Omega_L_lcdm):\n",
    "    Hubble = H0 * np.sqrt(Omega_r_lcdm * a**(-4) + Omega_m_lcdm * a**(-3) + Omega_L_lcdm )\n",
    "    return  - inv_Hub_to_Gyr * simps((a * Hubble)**(-1), a) \n",
    "\n",
    "for i in range(len(aou_lcdm)):\n",
    "    aou_lcdm[i] = aou_lcdm_calc(a, H0[i], Omega_r_lcdm[i], Omega_m_lcdm[i], Omega_L_lcdm[i])"
   ]
  },
  {
   "cell_type": "code",
   "execution_count": 7,
   "metadata": {},
   "outputs": [],
   "source": [
    "#LCDM MODEL\n",
    "#M_abs = flat_samples_lcdm[:,0]\n",
    "omega_m = np.mean(flat_samples_lcdm[:,1])\n",
    "H0 = np.mean(flat_samples_lcdm[:,2])\n",
    "\n",
    "Omega_r_lcdm = omega_r / (H0/100)**2\n",
    "Omega_m_lcdm = omega_m / (H0/100)**2\n",
    "Omega_L_lcdm = 1 - Omega_m_lcdm - Omega_r_lcdm\n",
    "#aou_lcdm = np.zeros(len(H0))\n",
    "\n",
    "Hubble = H0 * np.sqrt(Omega_r_lcdm * a**(-4) + Omega_m_lcdm * a**(-3) + Omega_L_lcdm )\n",
    "#plot_hubble_parameter_subplots(a, Hubble, model_name='LCDM')"
   ]
  },
  {
   "cell_type": "code",
   "execution_count": 8,
   "metadata": {},
   "outputs": [],
   "source": [
    "#BETA MODEL\n",
    "#M_abs = flat_samples_beta[:,0]\n",
    "beta = flat_samples_beta[:,1]\n",
    "H0 = flat_samples_beta[:,2]\n",
    "\n",
    "aou_beta = np.zeros(1000)\n",
    "\n",
    "for i in range(len(aou_beta)):\n",
    "    physical_params =  [L_bar, beta[i], H0[i]] \n",
    "    try:\n",
    "        a_final, Hs_final = integrator_GILA(physical_params,model='BETA', num_a_points=int(len(a)),\n",
    "                                            initial_a=a[0], final_a=a[-1])\n",
    "        aou_beta[i] = - inv_Hub_to_Gyr * simps((a_final * Hs_final)**(-1), a_final)\n",
    "    except Exception as e:\n",
    "        # If integration fails, reject the step\n",
    "        aou_beta[i] = 0"
   ]
  },
  {
   "cell_type": "code",
   "execution_count": 9,
   "metadata": {},
   "outputs": [],
   "source": [
    "#GILA MODEL\n",
    "#M_abs = flat_samples_gila[:,0]\n",
    "beta = flat_samples_gila[:,1]\n",
    "H0 = flat_samples_gila[:,2]\n",
    "\n",
    "aou_gila = np.zeros(1000)\n",
    "\n",
    "for i in range(len(aou_gila)):\n",
    "    physical_params =  [L_bar, beta[i], H0[i]] \n",
    "    try:\n",
    "        a_final, Hs_final = integrator_GILA(physical_params,model='GILA', num_a_points=int(len(a)),\n",
    "                                            initial_a=a[0], final_a=a[-1])\n",
    "        aou_gila[i] = - inv_Hub_to_Gyr * simps((a_final * Hs_final)**(-1), a_final)    \n",
    "    except Exception as e:\n",
    "        # If integration fails, reject the step\n",
    "        aou_gila[i] = 0"
   ]
  },
  {
   "cell_type": "code",
   "execution_count": 10,
   "metadata": {},
   "outputs": [
    {
     "data": {
      "image/png": "[encoded data removed]",
      "text/plain": [
       "<Figure size 432x288 with 1 Axes>"
      ]
     },
     "metadata": {
      "image/png": {
       "height": 259,
       "width": 375
      },
      "needs_background": "light"
     },
     "output_type": "display_data"
    }
   ],
   "source": [
    "plt.figure()\n",
    "plt.grid()\n",
    "plt.hist(aou_lcdm, bins=int(np.sqrt(len(aou_lcdm))), density=True, alpha=1)\n",
    "plt.hist(aou_beta, bins=int(np.sqrt(len(aou_beta))), density=True, alpha=1)\n",
    "plt.hist(aou_gila, bins=int(np.sqrt(len(aou_gila))), density=True, alpha=1)\n",
    "plt.legend(['LCDM','BETA','GILA'])\n",
    "plt.xlabel('Age of the Universe [Gyr]')\n",
    "\n",
    "os.chdir(path_figures)\n",
    "plt.savefig('AOU_{}.pdf'.format(L_bar))"
   ]
  },
  {
   "cell_type": "code",
   "execution_count": null,
   "metadata": {},
   "outputs": [],
   "source": []
  }
 ],
 "metadata": {
  "kernelspec": {
   "display_name": "fR-MCMC",
   "language": "python",
   "name": "python3"
  },
  "language_info": {
   "codemirror_mode": {
    "name": "ipython",
    "version": 3
   },
   "file_extension": ".py",
   "mimetype": "text/x-python",
   "name": "python",
   "nbconvert_exporter": "python",
   "pygments_lexer": "ipython3",
   "version": "3.7.6"
  }
 },
 "nbformat": 4,
 "nbformat_minor": 2
}
