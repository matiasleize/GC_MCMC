{
 "cells": [
  {
   "cell_type": "code",
   "execution_count": 1,
   "metadata": {},
   "outputs": [],
   "source": [
    "# Initial setup:\n",
    "%matplotlib inline\n",
    "%config InlineBackend.figure_format = 'retina'\n",
    "%load_ext autoreload\n",
    "%autoreload 1\n",
    "\n",
    "#For fancy plots\n",
    "import matplotlib\n",
    "from matplotlib import pyplot as plt\n",
    "matplotlib.rcParams['mathtext.fontset'] = 'cm'\n",
    "matplotlib.rcParams['font.family'] = 'STIXGeneral'\n",
    "\n",
    "# import libraries:\n",
    "import sys, os\n",
    "import os\n",
    "import git\n",
    "path_git = git.Repo('.', search_parent_directories=True).working_tree_dir\n",
    "path_data = os.path.join(os.path.dirname(path_git), 'GILA-output', 'paper')\n",
    "path_figures = os.path.join(path_git, 'notebooks', 'figures')\n",
    "\n",
    "os.chdir(os.path.join(path_git, 'fr_mcmc', 'utils'))\n",
    "\n",
    "from change_of_parameters import omega_CDM_to_luisa\n",
    "\n",
    "from scipy.constants import c as c_light #meters/seconds\n",
    "c_light_km = c_light/1000 #km/s\n",
    "\n",
    "from getdist import plots\n",
    "import getdist\n",
    "from getdist import plots, MCSamples, loadMCSamples\n",
    "getdist.chains.print_load_details = False\n",
    "import scipy\n",
    "from scipy.integrate import simps,solve_ivp\n",
    "from scipy.linalg import sqrtm\n",
    "import numpy as np\n",
    "\n",
    "from seaborn import heatmap\n",
    "import pandas as pd\n",
    "import emcee\n",
    "\n",
    "import time\n",
    "\n",
    "\n",
    "def F_H(H, params, model):     \n",
    "    lamb, L, beta, L_bar = params\n",
    "    if model == 'GILA':\n",
    "        FH = H**2 \\\n",
    "           + H**8 * L**6     * lamb * np.exp(lamb*(L*H)**2) \\\n",
    "           - H**6 * L_bar**4 * beta * np.exp(-beta*(L_bar*H)**10)\n",
    "    \n",
    "    elif model == 'BETA':\n",
    "        FH = H**2 \\\n",
    "            + H**8 * L**6 * lamb * np.exp(lamb*(L*H)**4) \\\n",
    "            - H**2        * beta * np.exp(-beta*(L_bar*H)**8) \n",
    "\n",
    "    return FH"
   ]
  },
  {
   "cell_type": "code",
   "execution_count": 2,
   "metadata": {},
   "outputs": [],
   "source": [
    "def F_H_prime(H, params, model):\n",
    "    lamb, L, beta, L_bar = params\n",
    "\n",
    "    if model == 'GILA':\n",
    "        aux = np.exp(-beta*(L_bar*H)**10) * beta * (L_bar*H)**4 * (-3 + 5 * beta * (L_bar*H)**10) +\\\n",
    "                np.exp(lamb*(L*H)**2) * lamb * (L*H)**6 * (4 + lamb*(L*H)**2)\n",
    "    if model == 'BETA':\n",
    "        aux = np.exp(-beta*(L_bar*H)**8)  * beta                * (-1 + 4 * beta * (L_bar*H)**8) +\\\n",
    "            2 * np.exp(lamb*(L*H)**4) * lamb * (L*H)**6 * (2 + lamb*(L*H)**4)\n",
    "\n",
    "    FH_prime = 2 * H * (1 + aux) \n",
    "    return FH_prime"
   ]
  },
  {
   "cell_type": "code",
   "execution_count": 3,
   "metadata": {},
   "outputs": [],
   "source": [
    "def get_odes(log_a, Hubble, params_ode, lcdm=False):\n",
    "    '''\n",
    "    Returns the system of ODEs for the given cosmological model.\n",
    "\n",
    "\n",
    "    Parameters:\n",
    "    -----------\n",
    "    z : float\n",
    "        Redshift value.\n",
    "    variables : list\n",
    "        List of values for the dynamical variables.\n",
    "    physical_params : list\n",
    "        List of model parameters, where the first n-1 elements are the model parameters,\n",
    "        while the last one specifies the cosmological model. Mathematically, this information is contained in\n",
    "        the function Gamma.\n",
    "    model : str, optional\n",
    "        Cosmological model that is being integrated. Defaults to 'LCDM'.\n",
    "\n",
    "    Returns:\n",
    "    -----------\n",
    "    list\n",
    "        Set of ODEs for the dynamical variables.\n",
    "    '''    \n",
    "    #kappa = 8 * np.pi * G_newton / 3\n",
    "    kappa = 1\n",
    "\n",
    "    [lamb, L, b, L_bar, H_0, model] = params_ode\n",
    "\n",
    "    F_H0 = F_H(H_0, [lamb, L, b, L_bar], model)\n",
    "\n",
    "    omega_r_0 = 2.47e-5\n",
    "    omega_m_0 = F_H0 /(100**2) - omega_r_0\n",
    "\n",
    "    rho_m_0 = 100**2 * omega_m_0 / kappa\n",
    "    rho_r_0 = 100**2 * omega_r_0 / kappa\n",
    "    \n",
    "    #a = 1/(1+z)\n",
    "    #a = int(10**log_a)\n",
    "\n",
    "    #a**(-4) = 10**(-4*log_a)\n",
    "    #a**(-3) = 10**(-3*log_a)\n",
    "    #a = np.power(10, log_a)\n",
    "\n",
    "    rho_r = rho_r_0 * np.power(10, -4*log_a)\n",
    "    rho_m = rho_m_0 * np.power(10, -3*log_a)\n",
    "    rho_tot =  rho_r + rho_m \n",
    "    p_tot =  (1/3) * rho_r\n",
    "\n",
    "    # To integrate in z\n",
    "    #s =  3 * kappa * (rho_tot + p_tot/c_light_km**2) / ((1+z) * F_H_prime(Hubble, [lamb, L, b, L_bar],model))\n",
    "    # To integrate in a\n",
    "    #s =  - 3 * kappa * (rho_tot + p_tot/c_light_km**2) / (a * F_H_prime(Hubble, [lamb, L, b, L_bar],model))     \n",
    "    # To integrate in log(a)\n",
    "    s =  - 3 * kappa * (rho_tot + p_tot/c_light_km**2) / (F_H_prime(Hubble, [lamb, L, b, L_bar],model))     \n",
    "\n",
    "    #print(s)\n",
    "    return s\n",
    "\n",
    "\n",
    "def integrator_GILA_log(physical_params, model, num_log_a_points=int(10e5),\n",
    "                initial_log_a=-70, final_log_a=-2,\n",
    "                system_equations=get_odes, verbose=False,\n",
    "                method='RK45', rtol=1e-11, atol=1e-16):\n",
    " \n",
    "    t1 = time.time()\n",
    "    \n",
    "    L_bar, b, H0 = physical_params\n",
    "    log_a_int = np.linspace(initial_log_a, final_log_a, num_log_a_points)\n",
    "    ode_params = [0, 1e-27/H0, b, L_bar/H0, H0, model]\n",
    "    sol = solve_ivp(system_equations, (initial_log_a,final_log_a),\n",
    "                    [H0], t_eval=log_a_int, args = [ode_params],\n",
    "                    rtol=rtol, atol=atol, method=method)\n",
    "        \n",
    "\n",
    "    assert len(sol.t)==num_log_a_points, 'Something is wrong with the integration!'\n",
    "    assert np.all(log_a_int==sol.t), 'Not all the values of z coincide with the ones that were required!'\n",
    "\n",
    "    # Calculate the Hubble parameter\n",
    "    log_a_final = sol.t\n",
    "    Hs_final = sol.y[0]\n",
    "\n",
    "    t2 = time.time()\n",
    "\n",
    "    if verbose == True:\n",
    "        print('Duration: {} minutes and {} seconds'.format(int((t2-t1)/60),\n",
    "                int((t2-t1) - 60*int((t2-t1)/60))))\n",
    "\n",
    "    return log_a_final, Hs_final"
   ]
  },
  {
   "cell_type": "code",
   "execution_count": 4,
   "metadata": {},
   "outputs": [
    {
     "name": "stdout",
     "output_type": "stream",
     "text": [
      "/home/matias/Documents/Repos/GILA-output/paper\n"
     ]
    }
   ],
   "source": [
    "discard=0\n",
    "thin=1\n",
    "\n",
    "os.chdir(path_data)\n",
    "print(path_data)\n",
    "\n",
    "samples_lcdm = emcee.backends.HDFBackend(os.path.join('sample_LCDM_PPS_CC_3params', 'sample_LCDM_PPS_CC_3params.h5'))\n",
    "samples_beta = emcee.backends.HDFBackend(os.path.join('L=0.90','sample_BETA_PPS_CC_3params', 'sample_BETA_PPS_CC_3params.h5'))\n",
    "samples_gila = emcee.backends.HDFBackend(os.path.join('L=0.90','sample_GILA_PPS_CC_3params', 'sample_GILA_PPS_CC_3params.h5'))\n",
    "\n",
    "#nwalkers, ndim = reader_lcdm.shape #Number of walkers and parameters\n",
    "flat_samples_beta = samples_beta.get_chain(discard=discard, flat=True, thin=thin)\n",
    "flat_samples_gila = samples_gila.get_chain(discard=discard, flat=True, thin=thin)\n",
    "flat_samples_lcdm = samples_lcdm.get_chain(discard=discard, flat=True, thin=thin)"
   ]
  },
  {
   "cell_type": "code",
   "execution_count": 5,
   "metadata": {},
   "outputs": [],
   "source": [
    "#plt.plot(flat_samples_gila[:,2])\n",
    "#print(flat_samples_beta)\n",
    "#print(flat_samples_lcdm)"
   ]
  },
  {
   "cell_type": "code",
   "execution_count": 6,
   "metadata": {},
   "outputs": [],
   "source": [
    "omega_r = 2.47e-5 \n",
    "L_bar = 0.90\n",
    "\n",
    "Gyr_to_second = int(3.1536e16)\n",
    "Mpc_to_km = int(3.0857e19)\n",
    "inv_Hub_to_Gyr = Mpc_to_km/Gyr_to_second\n"
   ]
  },
  {
   "cell_type": "code",
   "execution_count": 7,
   "metadata": {},
   "outputs": [],
   "source": [
    "#LCDM MODEL\n",
    "#M_abs = flat_samples_lcdm[:,0]\n",
    "omega_m = flat_samples_lcdm[:,1]\n",
    "H0 = flat_samples_lcdm[:,2]\n",
    "\n",
    "Omega_r_lcdm = omega_r / (H0/100)**2\n",
    "Omega_m_lcdm = omega_m / (H0/100)**2\n",
    "Omega_L_lcdm = 1 - Omega_m_lcdm - Omega_r_lcdm\n",
    "aou_lcdm = np.zeros(len(H0))\n",
    "\n",
    "\n",
    "zs_final = np.logspace(-2, 3, int(10e3))\n",
    "def aou_lcdm_calc(z, H0, Omega_r_lcdm, Omega_m_lcdm, Omega_L_lcdm):\n",
    "    Hubble = H0 * np.sqrt(Omega_r_lcdm * (1+z)**4 + Omega_m_lcdm * (1+z)**3 + Omega_L_lcdm )\n",
    "    return inv_Hub_to_Gyr * simps(((1+z) * Hubble)**(-1), z) \n",
    "\n",
    "for i in range(len(aou_lcdm)):\n",
    "    aou_lcdm[i] = aou_lcdm_calc(zs_final, H0[i], Omega_r_lcdm[i], Omega_m_lcdm[i], Omega_L_lcdm[i])"
   ]
  },
  {
   "cell_type": "code",
   "execution_count": 8,
   "metadata": {},
   "outputs": [],
   "source": [
    "#BETA MODEL\n",
    "#M_abs = flat_samples_beta[:,0]\n",
    "beta = flat_samples_beta[:,1]\n",
    "H0 = flat_samples_beta[:,2]\n",
    "\n",
    "aou_beta = np.zeros(100)\n",
    "\n",
    "for i in range(len(aou_beta)):\n",
    "    physical_params =  [L_bar, beta[i], H0[i]] \n",
    "    try:\n",
    "        log_a_final, Hs_final = integrator_GILA_log(physical_params,model='BETA', num_log_a_points=int(10e4),\n",
    "                                            initial_log_a=-3, final_log_a=0) #3 para z=1000\n",
    "        aou_beta[i] = inv_Hub_to_Gyr * simps((Hs_final)**(-1), log_a_final)    \n",
    "    except Exception as e:\n",
    "        # If integration fails, reject the step\n",
    "        aou_beta[i] = 0"
   ]
  },
  {
   "cell_type": "code",
   "execution_count": 16,
   "metadata": {},
   "outputs": [],
   "source": [
    "#GILA MODEL\n",
    "#M_abs = flat_samples_gila[:,0]\n",
    "beta = flat_samples_gila[:,1]\n",
    "H0 = flat_samples_gila[:,2]\n",
    "\n",
    "aou_gila = np.zeros(500)\n",
    "\n",
    "for i in range(len(aou_gila)):\n",
    "    physical_params =  [L_bar, beta[i], H0[i]] \n",
    "    try:\n",
    "        log_a_final, Hs_final = integrator_GILA_log(physical_params,model='GILA', num_log_a_points=int(10e4),\n",
    "                                            initial_log_a=-3, final_log_a=0) #3 para z=1000\n",
    "        aou_gila[i] =  inv_Hub_to_Gyr * simps((Hs_final)**(-1), log_a_final)\n",
    "        print(log_a_final)\n",
    "    except Exception as e:\n",
    "        # If integration fails, reject the step\n",
    "        aou_gila[i] = 0\n",
    "\n",
    "    "
   ]
  },
  {
   "cell_type": "code",
   "execution_count": 14,
   "metadata": {},
   "outputs": [
    {
     "data": {
      "image/png": "[encoded data removed]",
      "text/plain": [
       "<Figure size 432x288 with 1 Axes>"
      ]
     },
     "metadata": {
      "image/png": {
       "height": 259,
       "width": 366
      },
      "needs_background": "light"
     },
     "output_type": "display_data"
    }
   ],
   "source": [
    "plt.figure()\n",
    "plt.grid()\n",
    "plt.hist(aou_lcdm, bins=int(np.sqrt(len(aou_lcdm))), density=True, alpha=1)\n",
    "plt.hist(aou_beta, bins=int(np.sqrt(len(aou_beta))), density=True, alpha=1)\n",
    "plt.hist(aou_gila, bins=int(np.sqrt(len(aou_gila))), density=True, alpha=1)\n",
    "plt.legend(['LCDM','BETA','GILA'])\n",
    "plt.xlabel('Age of the Universe [Gyr]')\n",
    "\n",
    "os.chdir(path_figures)\n",
    "plt.savefig('AOU_{}.pdf'.format(L_bar))"
   ]
  },
  {
   "cell_type": "code",
   "execution_count": null,
   "metadata": {},
   "outputs": [],
   "source": [
    "aou_gila"
   ]
  },
  {
   "cell_type": "markdown",
   "metadata": {},
   "source": [
    "Integrate to z=1000"
   ]
  },
  {
   "cell_type": "code",
   "execution_count": null,
   "metadata": {},
   "outputs": [],
   "source": [
    "plt.hist(aou_gila)\n",
    "mask_up = np.where(aou_gila>50)[0]\n",
    "mask_down = np.where(aou_gila<50)[0]"
   ]
  },
  {
   "cell_type": "code",
   "execution_count": null,
   "metadata": {},
   "outputs": [],
   "source": [
    "H0_down = flat_samples_gila[:,2][mask_down]\n",
    "H0_up = flat_samples_gila[:,2][mask_up]\n",
    "\n",
    "plt.hist(H0_down)\n",
    "plt.hist(H0_up)"
   ]
  },
  {
   "cell_type": "code",
   "execution_count": null,
   "metadata": {},
   "outputs": [],
   "source": [
    "#beta = flat_samples_gila[:,1][mask_down]\n",
    "beta_down = flat_samples_gila[:,1][mask_down]\n",
    "beta_up = flat_samples_gila[:,1][mask_up]\n",
    "\n",
    "plt.hist(beta_down)\n",
    "plt.hist(beta_up)"
   ]
  },
  {
   "cell_type": "code",
   "execution_count": null,
   "metadata": {},
   "outputs": [],
   "source": [
    "beta = flat_samples_gila[:,1]\n",
    "H0 = flat_samples_gila[:,2]\n",
    "\n",
    "beta_down = flat_samples_gila[:,1][mask_down]\n",
    "H0_down = flat_samples_gila[:,2][mask_down]\n",
    "\n",
    "beta_up = flat_samples_gila[:,1][mask_up]\n",
    "H0_up = flat_samples_gila[:,2][mask_up]\n",
    "\n",
    "# Create MCSamples object\n",
    "samples = MCSamples(samples=np.c_[H0, beta], names=['H0', 'beta'], labels=['H_0', r'\\beta'])\n",
    "samples_down = MCSamples(samples=np.c_[H0_down, beta_down], names=['H0', 'beta'], labels=['H_0', r'\\beta'])\n",
    "samples_up = MCSamples(samples=np.c_[H0_up, beta_up], names=['H0', 'beta'], labels=['H_0', r'\\beta'])\n",
    "\n",
    "# Generate the 2D plot\n",
    "g = plots.get_subplot_plotter()\n",
    "g.triangle_plot(samples, ['H0', 'beta'], filled=True)\n",
    "g.triangle_plot([samples_down, samples_up], ['H0', 'beta'], filled=True, legend_labels=['Bad', 'Good'])\n"
   ]
  },
  {
   "cell_type": "code",
   "execution_count": null,
   "metadata": {},
   "outputs": [],
   "source": [
    "#GILA MODEL\n",
    "beta = flat_samples_gila[:,1][mask_down]\n",
    "H0 = flat_samples_gila[:,2][mask_down]\n",
    "\n",
    "#beta = flat_samples_gila[:,1]\n",
    "#H0 = flat_samples_gila[:,2]\n",
    "\n",
    "#aou_gila = np.zeros(500)\n",
    "\n",
    "#for i in range(len(aou_gila)):\n",
    "i=0\n",
    "physical_params =  [L_bar, beta[i], H0[i]] \n",
    "zs_final, Hs_final = integrator_GILA_log(physical_params,model='GILA', num_z_points=int(10e4),\n",
    "                                        initial_z=np.log10(0.01), final_z=70)\n",
    "plt.plot(zs_final, Hs_final)\n",
    "plt.xlabel('log(z)')\n",
    "print(zs_final, Hs_final)"
   ]
  },
  {
   "cell_type": "code",
   "execution_count": null,
   "metadata": {},
   "outputs": [],
   "source": []
  }
 ],
 "metadata": {
  "kernelspec": {
   "display_name": "fR-MCMC",
   "language": "python",
   "name": "python3"
  },
  "language_info": {
   "codemirror_mode": {
    "name": "ipython",
    "version": 3
   },
   "file_extension": ".py",
   "mimetype": "text/x-python",
   "name": "python",
   "nbconvert_exporter": "python",
   "pygments_lexer": "ipython3",
   "version": "3.7.6"
  }
 },
 "nbformat": 4,
 "nbformat_minor": 2
}
