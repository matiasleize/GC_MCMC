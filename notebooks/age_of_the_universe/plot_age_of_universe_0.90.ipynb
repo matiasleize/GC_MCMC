{
 "cells": [
  {
   "cell_type": "code",
   "execution_count": 1,
   "metadata": {},
   "outputs": [],
   "source": [
    "# Initial setup:\n",
    "%matplotlib inline\n",
    "%config InlineBackend.figure_format = 'retina'\n",
    "%load_ext autoreload\n",
    "%autoreload 1\n",
    "\n",
    "#For fancy plots\n",
    "import matplotlib\n",
    "from matplotlib import pyplot as plt\n",
    "matplotlib.rcParams['mathtext.fontset'] = 'cm'\n",
    "matplotlib.rcParams['font.family'] = 'STIXGeneral'\n",
    "\n",
    "# import libraries:\n",
    "import sys, os\n",
    "import os\n",
    "import git\n",
    "path_git = git.Repo('.', search_parent_directories=True).working_tree_dir\n",
    "path_data = os.path.join(os.path.dirname(path_git), 'GILA-output', 'paper')\n",
    "path_figures = os.path.join(path_git, 'notebooks', 'figures')\n",
    "\n",
    "os.chdir(os.path.join(path_git, 'fr_mcmc', 'utils'))\n",
    "\n",
    "from change_of_parameters import omega_CDM_to_luisa\n",
    "\n",
    "from scipy.constants import c as c_light #meters/seconds\n",
    "c_light_km = c_light/1000 #km/s\n",
    "\n",
    "from getdist import plots\n",
    "import getdist\n",
    "from getdist import plots, MCSamples, loadMCSamples\n",
    "getdist.chains.print_load_details = False\n",
    "import scipy\n",
    "from scipy.integrate import simps,solve_ivp\n",
    "from scipy.linalg import sqrtm\n",
    "import numpy as np\n",
    "\n",
    "from seaborn import heatmap\n",
    "import pandas as pd\n",
    "import emcee\n",
    "\n",
    "import time\n",
    "\n",
    "\n",
    "def F_H(H, params, model):     \n",
    "    lamb, L, beta, L_bar = params\n",
    "    if model == 'GILA':\n",
    "        FH = H**2 \\\n",
    "           + H**8 * L**6     * lamb * np.exp(lamb*(L*H)**2) \\\n",
    "           - H**6 * L_bar**4 * beta * np.exp(-beta*(L_bar*H)**10)\n",
    "    \n",
    "    elif model == 'BETA':\n",
    "        FH = H**2 \\\n",
    "            + H**8 * L**6 * lamb * np.exp(lamb*(L*H)**4) \\\n",
    "            - H**2        * beta * np.exp(-beta*(L_bar*H)**8) \n",
    "\n",
    "    return FH"
   ]
  },
  {
   "cell_type": "code",
   "execution_count": 2,
   "metadata": {},
   "outputs": [],
   "source": [
    "def F_H_prime(H, params, model):\n",
    "    lamb, L, beta, L_bar = params\n",
    "\n",
    "    if model == 'GILA':\n",
    "        aux = np.exp(-beta*(L_bar*H)**10) * beta * (L_bar*H)**4 * (-3 + 5 * beta * (L_bar*H)**10) +\\\n",
    "                np.exp(lamb*(L*H)**2) * lamb * (L*H)**6 * (4 + lamb*(L*H)**2)\n",
    "    if model == 'BETA':\n",
    "        aux = np.exp(-beta*(L_bar*H)**8)  * beta                * (-1 + 4 * beta * (L_bar*H)**8) +\\\n",
    "            2 * np.exp(lamb*(L*H)**4) * lamb * (L*H)**6 * (2 + lamb*(L*H)**4)\n",
    "\n",
    "    FH_prime = 2 * H * (1 + aux) \n",
    "    return FH_prime"
   ]
  },
  {
   "cell_type": "code",
   "execution_count": 3,
   "metadata": {},
   "outputs": [],
   "source": [
    "def get_odes(z, Hubble, params_ode, lcdm=False):\n",
    "    '''\n",
    "    Returns the system of ODEs for the given cosmological model.\n",
    "\n",
    "\n",
    "    Parameters:\n",
    "    -----------\n",
    "    z : float\n",
    "        Redshift value.\n",
    "    variables : list\n",
    "        List of values for the dynamical variables.\n",
    "    physical_params : list\n",
    "        List of model parameters, where the first n-1 elements are the model parameters,\n",
    "        while the last one specifies the cosmological model. Mathematically, this information is contained in\n",
    "        the function Gamma.\n",
    "    model : str, optional\n",
    "        Cosmological model that is being integrated. Defaults to 'LCDM'.\n",
    "\n",
    "    Returns:\n",
    "    -----------\n",
    "    list\n",
    "        Set of ODEs for the dynamical variables.\n",
    "    '''    \n",
    "    #kappa = 8 * np.pi * G_newton / 3\n",
    "    kappa = 1\n",
    "\n",
    "    [lamb, L, b, L_bar, H_0, model] = params_ode\n",
    "\n",
    "    F_H0 = F_H(H_0, [lamb, L, b, L_bar], model)\n",
    "\n",
    "    omega_r_0 = 2.47e-5\n",
    "    omega_m_0 = F_H0 /(100**2) - omega_r_0\n",
    "\n",
    "    rho_m_0 = 100**2 * omega_m_0 / kappa\n",
    "    rho_r_0 = 100**2 * omega_r_0 / kappa\n",
    "    \n",
    "    #a = 1/(1+z)\n",
    "\n",
    "    rho_r = rho_r_0 * (1+z)**4\n",
    "    rho_m = rho_m_0 * (1+z)**3\n",
    "    rho_tot =  rho_r + rho_m \n",
    "    p_tot =  (1/3) * rho_r\n",
    "\n",
    "    # To integrate in z\n",
    "    s =  3 * kappa * (rho_tot + p_tot/c_light_km**2) / (F_H_prime(Hubble, [lamb, L, b, L_bar],model))     \n",
    "    #print(s)\n",
    "    return s\n",
    "\n",
    "\n",
    "def integrator_GILA_log(physical_params, model, num_z_points=int(10**5),\n",
    "                initial_z=np.log10(0.01), final_z=13,\n",
    "                system_equations=get_odes, verbose=False,\n",
    "                method='RK45', rtol=1e-11, atol=1e-16):\n",
    " \n",
    "    t1 = time.time()\n",
    "    \n",
    "    L_bar, b, H0 = physical_params\n",
    "    zs_int = np.linspace(initial_z, final_z, num_z_points)\n",
    "    ode_params = [0, 1e-27/H0, b, L_bar/H0, H0, model]\n",
    "    sol = solve_ivp(system_equations, (initial_z,final_z),\n",
    "                    [H0], t_eval=zs_int, args = [ode_params],\n",
    "                    rtol=rtol, atol=atol, method=method)\n",
    "        \n",
    "\n",
    "    #assert len(sol.t)==num_z_points, 'Something is wrong with the integration!'\n",
    "    #assert np.all(zs_int==sol.t), 'Not all the values of z coincide with the ones that were required!'\n",
    "\n",
    "    # Calculate the Hubble parameter\n",
    "    zs_final = sol.t\n",
    "    Hs_final = sol.y[0]\n",
    "\n",
    "    t2 = time.time()\n",
    "\n",
    "    if verbose == True:\n",
    "        print('Duration: {} minutes and {} seconds'.format(int((t2-t1)/60),\n",
    "                int((t2-t1) - 60*int((t2-t1)/60))))\n",
    "\n",
    "    return zs_final, Hs_final"
   ]
  },
  {
   "cell_type": "code",
   "execution_count": 4,
   "metadata": {},
   "outputs": [
    {
     "name": "stdout",
     "output_type": "stream",
     "text": [
      "/home/matias/Documents/Repos/GILA-output/paper\n"
     ]
    }
   ],
   "source": [
    "discard=0\n",
    "thin=1\n",
    "\n",
    "os.chdir(path_data)\n",
    "print(path_data)\n",
    "\n",
    "samples_lcdm = emcee.backends.HDFBackend(os.path.join('sample_LCDM_PPS_CC_3params', 'sample_LCDM_PPS_CC_3params.h5'))\n",
    "samples_beta = emcee.backends.HDFBackend(os.path.join('L=0.90','sample_BETA_PPS_CC_3params', 'sample_BETA_PPS_CC_3params.h5'))\n",
    "samples_gila = emcee.backends.HDFBackend(os.path.join('L=0.90','sample_GILA_PPS_CC_3params', 'sample_GILA_PPS_CC_3params.h5'))\n",
    "\n",
    "#nwalkers, ndim = reader_lcdm.shape #Number of walkers and parameters\n",
    "flat_samples_beta = samples_beta.get_chain(discard=discard, flat=True, thin=thin)\n",
    "flat_samples_gila = samples_gila.get_chain(discard=discard, flat=True, thin=thin)\n",
    "flat_samples_lcdm = samples_lcdm.get_chain(discard=discard, flat=True, thin=thin)"
   ]
  },
  {
   "cell_type": "code",
   "execution_count": 5,
   "metadata": {},
   "outputs": [],
   "source": [
    "#plt.plot(flat_samples_gila[:,2])\n",
    "#print(flat_samples_beta)\n",
    "#print(flat_samples_lcdm)"
   ]
  },
  {
   "cell_type": "code",
   "execution_count": 6,
   "metadata": {},
   "outputs": [],
   "source": [
    "omega_r = 2.47e-5 \n",
    "L_bar = 0.90\n",
    "\n",
    "Gyr_to_second = int(3.1536e16)\n",
    "Mpc_to_km = int(3.0857e19)\n",
    "inv_Hub_to_Gyr = Mpc_to_km/Gyr_to_second\n",
    "zs_final = np.logspace(np.log10(0.001),13,int(10e3))"
   ]
  },
  {
   "cell_type": "code",
   "execution_count": 7,
   "metadata": {},
   "outputs": [],
   "source": [
    "#LCDM MODEL\n",
    "#M_abs = flat_samples_lcdm[:,0]\n",
    "omega_m = flat_samples_lcdm[:,1]\n",
    "H0 = flat_samples_lcdm[:,2]\n",
    "\n",
    "Omega_r_lcdm = omega_r / (H0/100)**2\n",
    "Omega_m_lcdm = omega_m / (H0/100)**2\n",
    "Omega_L_lcdm = 1 - Omega_m_lcdm - Omega_r_lcdm\n",
    "aou_lcdm = np.zeros(len(H0))\n",
    "\n",
    "def aou_lcdm_calc(z, H0, Omega_r_lcdm, Omega_m_lcdm, Omega_L_lcdm):\n",
    "    Hubble = H0 * np.sqrt(Omega_r_lcdm * (1+z)**4 + Omega_m_lcdm * (1+z)**3 + Omega_L_lcdm )\n",
    "    return inv_Hub_to_Gyr * simps(((1+z) * Hubble)**(-1), z) \n",
    "\n",
    "for i in range(len(aou_lcdm)):\n",
    "    aou_lcdm[i] = aou_lcdm_calc(zs_final, H0[i], Omega_r_lcdm[i], Omega_m_lcdm[i], Omega_L_lcdm[i])"
   ]
  },
  {
   "cell_type": "code",
   "execution_count": 8,
   "metadata": {},
   "outputs": [],
   "source": [
    "#BETA MODEL\n",
    "#M_abs = flat_samples_gila[:,0]\n",
    "beta = flat_samples_gila[:,1]\n",
    "H0 = flat_samples_gila[:,2]\n",
    "\n",
    "aou_beta = np.zeros(100)\n",
    "\n",
    "for i in range(len(aou_beta)):\n",
    "    physical_params =  [L_bar, beta[i], H0[i]] \n",
    "    zs_final, Hs_final = integrator_GILA_log(physical_params,model='BETA', num_z_points=int(10e4),\n",
    "                                        initial_z=np.log10(0.01), final_z=13)\n",
    "    aou_beta[i] = inv_Hub_to_Gyr * simps(((1+zs_final) * Hs_final)**(-1), zs_final)    "
   ]
  },
  {
   "cell_type": "code",
   "execution_count": 9,
   "metadata": {},
   "outputs": [],
   "source": [
    "#GILA MODEL\n",
    "#M_abs = flat_samples_gila[:,0]\n",
    "beta = flat_samples_gila[:,1]\n",
    "H0 = flat_samples_gila[:,2]\n",
    "\n",
    "aou_gila = np.zeros(500)\n",
    "\n",
    "for i in range(len(aou_gila)):\n",
    "    physical_params =  [L_bar, beta[i], H0[i]] \n",
    "    zs_final, Hs_final = integrator_GILA_log(physical_params,model='GILA', num_z_points=int(10e4),\n",
    "                                        initial_z=np.log10(0.01), final_z=13)\n",
    "    aou_gila[i] = inv_Hub_to_Gyr * simps(((1+zs_final) * Hs_final)**(-1), zs_final)  "
   ]
  },
  {
   "cell_type": "code",
   "execution_count": 14,
   "metadata": {},
   "outputs": [
    {
     "data": {
      "image/png": "[encoded data removed]",
      "text/plain": [
       "<Figure size 432x288 with 1 Axes>"
      ]
     },
     "metadata": {
      "image/png": {
       "height": 259,
       "width": 368
      },
      "needs_background": "light"
     },
     "output_type": "display_data"
    }
   ],
   "source": [
    "plt.figure()\n",
    "plt.grid()\n",
    "plt.hist(aou_lcdm, bins=int(np.sqrt(len(aou_lcdm))), density=True, alpha=1)\n",
    "plt.hist(aou_beta, bins=int(np.sqrt(len(aou_beta))), density=True, alpha=1)\n",
    "plt.hist(aou_gila, bins=int(np.sqrt(len(aou_gila))), density=True, alpha=1)\n",
    "#plt.hist(aou_gila[aou_gila>10], bins=int(np.sqrt(len(aou_gila))), density=True, alpha=1)\n",
    "plt.legend(['LCDM','BETA','GILA'])\n",
    "plt.xlabel('Age of the Universe [Gyr]')\n",
    "\n",
    "os.chdir(path_figures)\n",
    "plt.savefig('AOU_{}.pdf'.format(L_bar))"
   ]
  },
  {
   "cell_type": "code",
   "execution_count": null,
   "metadata": {},
   "outputs": [],
   "source": []
  }
 ],
 "metadata": {
  "kernelspec": {
   "display_name": "fR-MCMC",
   "language": "python",
   "name": "python3"
  },
  "language_info": {
   "codemirror_mode": {
    "name": "ipython",
    "version": 3
   },
   "file_extension": ".py",
   "mimetype": "text/x-python",
   "name": "python",
   "nbconvert_exporter": "python",
   "pygments_lexer": "ipython3",
   "version": "3.7.6"
  }
 },
 "nbformat": 4,
 "nbformat_minor": 2
}
