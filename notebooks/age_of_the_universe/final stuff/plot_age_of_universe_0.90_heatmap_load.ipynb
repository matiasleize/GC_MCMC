{
 "cells": [
  {
   "cell_type": "code",
   "execution_count": 1,
   "metadata": {},
   "outputs": [],
   "source": [
    "# Initial setup:\n",
    "%matplotlib inline\n",
    "%config InlineBackend.figure_format = 'retina'\n",
    "%load_ext autoreload\n",
    "%autoreload 1\n",
    "\n",
    "#For fancy plots\n",
    "import matplotlib\n",
    "from matplotlib import pyplot as plt\n",
    "matplotlib.rcParams['mathtext.fontset'] = 'cm'\n",
    "matplotlib.rcParams['font.family'] = 'STIXGeneral'\n",
    "from matplotlib.ticker import FormatStrFormatter\n",
    "import matplotlib.patches as mpatches\n",
    "from matplotlib.colors import ListedColormap\n",
    "\n",
    "#Import standard libraries\n",
    "import numpy as np\n",
    "import time\n",
    "import seaborn as sns\n",
    "import pandas as pd\n",
    "from itertools import product\n",
    "\n",
    "from scipy.interpolate import interp1d\n",
    "from scipy.integrate import simps as simps\n",
    "from scipy.integrate import cumtrapz as cumtrapz\n",
    "from scipy.integrate import simps, solve_ivp\n",
    "from scipy.constants import c as c_light #meters/seconds\n",
    "from scipy.stats.distributions import chi2 as chi2_dist\n",
    "\n",
    "c_light_km = c_light/1000 #km/s\n",
    "\n",
    "import getdist\n",
    "getdist.chains.print_load_details = False\n",
    "\n",
    "# import repo functions:\n",
    "import sys, os\n",
    "import os\n",
    "import git\n",
    "path_git = git.Repo('.', search_parent_directories=True).working_tree_dir\n",
    "path_data = os.path.join(os.path.dirname(path_git), 'GILA-output', 'paper')\n",
    "path_figures = os.path.join(path_git, 'notebooks', 'figures')\n",
    "\n",
    "os.chdir(os.path.join(path_git, 'fr_mcmc', 'utils'))\n",
    "from supernovae import aparent_magnitude_th, chi2_supernovae\n",
    "from constants import OMEGA_R_0, LAMBDA, L, KAPPA"
   ]
  },
  {
   "cell_type": "code",
   "execution_count": 2,
   "metadata": {},
   "outputs": [],
   "source": [
    "path_git = git.Repo('.', search_parent_directories=True).working_tree_dir\n",
    "os.chdir(path_git); os.sys.path.append('./fr_mcmc/utils/')\n",
    "from data import read_data_chronometers, read_data_pantheon_plus_shoes\n",
    "\n",
    "# Cosmic Chronometers\n",
    "os.chdir(path_git+'/fr_mcmc/source/CC/')\n",
    "ds_CC = read_data_chronometers('chronometers_data.txt')\n",
    "\n",
    "# Pantheon plus + SH0ES\n",
    "os.chdir(path_git+'/fr_mcmc/source/Pantheon_plus_shoes')\n",
    "ds_SN_plus_shoes = read_data_pantheon_plus_shoes('Pantheon+SH0ES.dat',\n",
    "                                'Pantheon+SH0ES_STAT+SYS.cov')\n"
   ]
  },
  {
   "cell_type": "markdown",
   "metadata": {},
   "source": [
    "First, let's fix some parameters"
   ]
  },
  {
   "cell_type": "code",
   "execution_count": 3,
   "metadata": {},
   "outputs": [],
   "source": [
    "#Fix params\n",
    "L_bar = 0.90\n",
    "\n",
    "num_free_parameters = 3\n",
    "dof = ds_SN_plus_shoes[2].shape[0]+len(ds_CC[0]) - num_free_parameters\n",
    "\n",
    "confidence_level = 0.683 #1 sigma contour\n",
    "#confidence_level = 0.954 #2 sigma contour\n",
    "#confidence_level = 0.997 #3 sigma contour\n"
   ]
  },
  {
   "cell_type": "code",
   "execution_count": 4,
   "metadata": {},
   "outputs": [
    {
     "name": "stdout",
     "output_type": "stream",
     "text": [
      "Reduced chi-square threshold for 68.30000000000001% confidence: 1.01610\n",
      "1.0344622758397788\n"
     ]
    }
   ],
   "source": [
    "from scipy.stats import chi2\n",
    "\n",
    "def chi2_threshold(N, p, confidence):\n",
    "    \"\"\"\n",
    "    Compute the chi-square threshold for model rejection based on a given confidence level.\n",
    "    \n",
    "    Parameters:\n",
    "    N (int): Number of data points\n",
    "    p (int): Number of parameters\n",
    "    confidence (float): Confidence level (e.g., 0.95 for 95%)\n",
    "    \n",
    "    Returns:\n",
    "    float: Reduced chi-square threshold\n",
    "    \"\"\"\n",
    "    nu = N - p  # Degrees of freedom\n",
    "    chi2_crit = chi2.ppf(confidence, df=nu)  # Critical chi-square value\n",
    "    return chi2_crit / nu  # Convert to reduced chi-square\n",
    "\n",
    "# Example usage\n",
    "N = ds_SN_plus_shoes[2].shape[0]+len(ds_CC[0])\n",
    "p = 3\n",
    "confidence_level = 0.683  # 68.3% confidence threshold\n",
    "\n",
    "chi2_th = chi2_threshold(N, p, confidence_level)\n",
    "print(f\"Reduced chi-square threshold for {confidence_level*100}% confidence: {chi2_th:.5f}\")\n",
    "print(1+np.sqrt(2/(N-p)))\n"
   ]
  },
  {
   "cell_type": "markdown",
   "metadata": {},
   "source": [
    "# GILA model analysis"
   ]
  },
  {
   "cell_type": "code",
   "execution_count": 24,
   "metadata": {},
   "outputs": [
    {
     "name": "stdout",
     "output_type": "stream",
     "text": [
      "[80.         79.59183673 79.18367347 78.7755102  78.36734694 77.95918367\n",
      " 77.55102041 77.14285714 76.73469388 76.32653061 75.91836735 75.51020408\n",
      " 75.10204082 74.69387755 74.28571429 73.87755102 73.46938776 73.06122449\n",
      " 72.65306122 72.24489796 71.83673469 71.42857143 71.02040816 70.6122449\n",
      " 70.20408163 69.79591837 69.3877551  68.97959184 68.57142857 68.16326531\n",
      " 67.75510204 67.34693878 66.93877551 66.53061224 66.12244898 65.71428571\n",
      " 65.30612245 64.89795918 64.48979592 64.08163265 63.67346939 63.26530612\n",
      " 62.85714286 62.44897959 62.04081633 61.63265306 61.2244898  60.81632653\n",
      " 60.40816327 60.        ] [ 0.1         0.34285714  0.58571429  0.82857143  1.07142857  1.31428571\n",
      "  1.55714286  1.8         2.04285714  2.28571429  2.52857143  2.77142857\n",
      "  3.01428571  3.25714286  3.5         3.74285714  3.98571429  4.22857143\n",
      "  4.47142857  4.71428571  4.95714286  5.2         5.44285714  5.68571429\n",
      "  5.92857143  6.17142857  6.41428571  6.65714286  6.9         7.14285714\n",
      "  7.38571429  7.62857143  7.87142857  8.11428571  8.35714286  8.6\n",
      "  8.84285714  9.08571429  9.32857143  9.57142857  9.81428571 10.05714286\n",
      " 10.3        10.54285714 10.78571429 11.02857143 11.27142857 11.51428571\n",
      " 11.75714286 12.        ] [-21.         -20.94897959 -20.89795918 -20.84693878 -20.79591837\n",
      " -20.74489796 -20.69387755 -20.64285714 -20.59183673 -20.54081633\n",
      " -20.48979592 -20.43877551 -20.3877551  -20.33673469 -20.28571429\n",
      " -20.23469388 -20.18367347 -20.13265306 -20.08163265 -20.03061224\n",
      " -19.97959184 -19.92857143 -19.87755102 -19.82653061 -19.7755102\n",
      " -19.7244898  -19.67346939 -19.62244898 -19.57142857 -19.52040816\n",
      " -19.46938776 -19.41836735 -19.36734694 -19.31632653 -19.26530612\n",
      " -19.21428571 -19.16326531 -19.1122449  -19.06122449 -19.01020408\n",
      " -18.95918367 -18.90816327 -18.85714286 -18.80612245 -18.75510204\n",
      " -18.70408163 -18.65306122 -18.60204082 -18.55102041 -18.5       ]\n"
     ]
    }
   ],
   "source": [
    "#GILA MODEL\n",
    "#r_min = 3\n",
    "#s_min = 1\n",
    "\n",
    "#r = 3; s = 1\n",
    "#H0_values = np.linspace(60,80,10)[::-1] \n",
    "#beta_values = np.linspace(0.1,12,10)\n",
    "#Mabs_values = np.linspace(-21,-18.5,10)\n",
    "\n",
    "#r = 8; s = 1 #Does not work :(\n",
    "#H0_values = np.linspace(60,80,20)[::-1] \n",
    "#beta_values = np.linspace(0.1,12,20)\n",
    "#Mabs_values = np.linspace(-21,-18.5,20)\n",
    "\n",
    "#r = 3; s = 2 #It works, not with AoU\n",
    "#H0_values = np.linspace(60,80,20)[::-1] \n",
    "#beta_values = np.linspace(0.1,12,20)\n",
    "#Mabs_values = np.linspace(-21,-18.5,20)\n",
    "\n",
    "#r = 3; s = 4 #It works, not with AoU\n",
    "#H0_values = np.linspace(60,80,20)[::-1] \n",
    "#beta_values = np.linspace(0.1,12,20)\n",
    "#Mabs_values = np.linspace(-21,-18.5,20)\n",
    "\n",
    "r = 3; s = 5 #It worked, even with AoU!\n",
    "H0_values = np.linspace(60,80,50)[::-1] \n",
    "beta_values = np.linspace(0.1,12,50)\n",
    "Mabs_values = np.linspace(-21,-18.5,50)\n",
    "\n",
    "#r = 3; s = 6 #It worked, even with AoU!\n",
    "#H0_values = np.linspace(60,80,20)[::-1] \n",
    "#beta_values = np.linspace(0.1,12,20)\n",
    "#Mabs_values = np.linspace(-21,-18.5,20)\n",
    "\n",
    "print(H0_values, beta_values, Mabs_values)\n",
    "\n",
    "\n",
    "#matrix_gila_chi2 = np.load(os.path.join(path_data, 'matrix_gila_chi2_1.npy'))\n",
    "#matrix_gila_aou = np.load(os.path.join(path_data, 'matrix_gila_chi2_2.npy'))\n",
    "\n",
    "matrix_gila_chi2 = np.load(os.path.join(path_data, 'matrix_gila_chi2.npy'))\n",
    "matrix_gila_aou = np.load(os.path.join(path_data, 'matrix_gila_aou.npy'))"
   ]
  },
  {
   "cell_type": "markdown",
   "metadata": {},
   "source": [
    "### Important questions"
   ]
  },
  {
   "cell_type": "code",
   "execution_count": 25,
   "metadata": {},
   "outputs": [
    {
     "name": "stdout",
     "output_type": "stream",
     "text": [
      "Aou threhold: 13.2\n",
      "chi2 threhold: 1.0160978536321694\n",
      "Has integration issues?: False\n",
      "Has issues when Aou cut-off is applied?: False\n",
      "chi2_min<=chi2_threshold?: True\n"
     ]
    }
   ],
   "source": [
    "aou_threshold = 13.2\n",
    "chi2_th = chi2_threshold(N, p, confidence_level)\n",
    "print('Aou threhold: {}'.format(aou_threshold))\n",
    "print('chi2 threhold: {}'.format(chi2_th))\n",
    "\n",
    "masked_data_with_aou = np.where(matrix_gila_aou >= aou_threshold, matrix_gila_chi2, np.nan)\n",
    "\n",
    "print('Has integration issues?: {}'.format(np.all(np.isnan(matrix_gila_chi2)))) #should be False\n",
    "print('Has issues when Aou cut-off is applied?: {}'.format(np.all(np.isnan(masked_data_with_aou))))#should be False\n",
    "print('chi2_min<=chi2_threshold?: {}'.format(np.nanmin(masked_data_with_aou)/dof<=chi2_th))#should be True\n"
   ]
  },
  {
   "cell_type": "code",
   "execution_count": 26,
   "metadata": {},
   "outputs": [
    {
     "name": "stdout",
     "output_type": "stream",
     "text": [
      "Minimum of the reduced $\\chi^2$:0.8933455158746536\n"
     ]
    },
    {
     "data": {
      "text/plain": [
       "array([0.89334552])"
      ]
     },
     "execution_count": 26,
     "metadata": {},
     "output_type": "execute_result"
    }
   ],
   "source": [
    "print(r'Minimum of the reduced $\\chi^2$:{}'.format(np.nanmin(matrix_gila_chi2)/dof))\n",
    "\n",
    "#Double check\n",
    "where_global_min = np.where(matrix_gila_chi2==np.nanmin(matrix_gila_chi2))\n",
    "matrix_gila_chi2[where_global_min]/dof"
   ]
  },
  {
   "cell_type": "code",
   "execution_count": 27,
   "metadata": {},
   "outputs": [
    {
     "name": "stdout",
     "output_type": "stream",
     "text": [
      "[[[nan nan nan ... nan nan nan]\n",
      "  [nan nan nan ... nan nan nan]\n",
      "  [nan nan nan ... nan nan nan]\n",
      "  ...\n",
      "  [nan nan nan ... nan nan nan]\n",
      "  [nan nan nan ... nan nan nan]\n",
      "  [nan nan nan ... nan nan nan]]\n",
      "\n",
      " [[nan nan nan ... nan nan nan]\n",
      "  [nan nan nan ... nan nan nan]\n",
      "  [nan nan nan ... nan nan nan]\n",
      "  ...\n",
      "  [nan nan nan ... nan nan nan]\n",
      "  [nan nan nan ... nan nan nan]\n",
      "  [nan nan nan ... nan nan nan]]\n",
      "\n",
      " [[nan nan nan ... nan nan nan]\n",
      "  [nan nan nan ... nan nan nan]\n",
      "  [nan nan nan ... nan nan nan]\n",
      "  ...\n",
      "  [nan nan nan ... nan nan nan]\n",
      "  [nan nan nan ... nan nan nan]\n",
      "  [nan nan nan ... nan nan nan]]\n",
      "\n",
      " ...\n",
      "\n",
      " [[nan nan nan ... nan nan nan]\n",
      "  [nan nan nan ... nan nan nan]\n",
      "  [nan nan nan ... nan nan nan]\n",
      "  ...\n",
      "  [nan nan nan ... nan nan nan]\n",
      "  [nan nan nan ... nan nan nan]\n",
      "  [nan nan nan ... nan nan nan]]\n",
      "\n",
      " [[nan nan nan ... nan nan nan]\n",
      "  [nan nan nan ... nan nan nan]\n",
      "  [nan nan nan ... nan nan nan]\n",
      "  ...\n",
      "  [nan nan nan ... nan nan nan]\n",
      "  [nan nan nan ... nan nan nan]\n",
      "  [nan nan nan ... nan nan nan]]\n",
      "\n",
      " [[nan nan nan ... nan nan nan]\n",
      "  [nan nan nan ... nan nan nan]\n",
      "  [nan nan nan ... nan nan nan]\n",
      "  ...\n",
      "  [nan nan nan ... nan nan nan]\n",
      "  [nan nan nan ... nan nan nan]\n",
      "  [nan nan nan ... nan nan nan]]]\n",
      "[[[nan nan nan ... nan nan nan]\n",
      "  [nan nan nan ... nan nan nan]\n",
      "  [nan nan nan ... nan nan nan]\n",
      "  ...\n",
      "  [nan nan nan ... nan nan nan]\n",
      "  [nan nan nan ... nan nan nan]\n",
      "  [nan nan nan ... nan nan nan]]\n",
      "\n",
      " [[nan nan nan ... nan nan nan]\n",
      "  [nan nan nan ... nan nan nan]\n",
      "  [nan nan nan ... nan nan nan]\n",
      "  ...\n",
      "  [nan nan nan ... nan nan nan]\n",
      "  [nan nan nan ... nan nan nan]\n",
      "  [nan nan nan ... nan nan nan]]\n",
      "\n",
      " [[nan nan nan ... nan nan nan]\n",
      "  [nan nan nan ... nan nan nan]\n",
      "  [nan nan nan ... nan nan nan]\n",
      "  ...\n",
      "  [nan nan nan ... nan nan nan]\n",
      "  [nan nan nan ... nan nan nan]\n",
      "  [nan nan nan ... nan nan nan]]\n",
      "\n",
      " ...\n",
      "\n",
      " [[nan nan nan ... nan nan nan]\n",
      "  [nan nan nan ... nan nan nan]\n",
      "  [nan nan nan ... nan nan nan]\n",
      "  ...\n",
      "  [nan nan nan ... nan nan nan]\n",
      "  [nan nan nan ... nan nan nan]\n",
      "  [nan nan nan ... nan nan nan]]\n",
      "\n",
      " [[nan nan nan ... nan nan nan]\n",
      "  [nan nan nan ... nan nan nan]\n",
      "  [nan nan nan ... nan nan nan]\n",
      "  ...\n",
      "  [nan nan nan ... nan nan nan]\n",
      "  [nan nan nan ... nan nan nan]\n",
      "  [nan nan nan ... nan nan nan]]\n",
      "\n",
      " [[nan nan nan ... nan nan nan]\n",
      "  [nan nan nan ... nan nan nan]\n",
      "  [nan nan nan ... nan nan nan]\n",
      "  ...\n",
      "  [nan nan nan ... nan nan nan]\n",
      "  [nan nan nan ... nan nan nan]\n",
      "  [nan nan nan ... nan nan nan]]]\n",
      "[[[nan nan nan ... nan nan nan]\n",
      "  [nan nan nan ... nan nan nan]\n",
      "  [nan nan nan ... nan nan nan]\n",
      "  ...\n",
      "  [nan nan nan ... nan nan nan]\n",
      "  [nan nan nan ... nan nan nan]\n",
      "  [nan nan nan ... nan nan nan]]\n",
      "\n",
      " [[nan nan nan ... nan nan nan]\n",
      "  [nan nan nan ... nan nan nan]\n",
      "  [nan nan nan ... nan nan nan]\n",
      "  ...\n",
      "  [nan nan nan ... nan nan nan]\n",
      "  [nan nan nan ... nan nan nan]\n",
      "  [nan nan nan ... nan nan nan]]\n",
      "\n",
      " [[nan nan nan ... nan nan nan]\n",
      "  [nan nan nan ... nan nan nan]\n",
      "  [nan nan nan ... nan nan nan]\n",
      "  ...\n",
      "  [nan nan nan ... nan nan nan]\n",
      "  [nan nan nan ... nan nan nan]\n",
      "  [nan nan nan ... nan nan nan]]\n",
      "\n",
      " ...\n",
      "\n",
      " [[nan nan nan ... nan nan nan]\n",
      "  [nan nan nan ... nan nan nan]\n",
      "  [nan nan nan ... nan nan nan]\n",
      "  ...\n",
      "  [nan nan nan ... nan nan nan]\n",
      "  [nan nan nan ... nan nan nan]\n",
      "  [nan nan nan ... nan nan nan]]\n",
      "\n",
      " [[nan nan nan ... nan nan nan]\n",
      "  [nan nan nan ... nan nan nan]\n",
      "  [nan nan nan ... nan nan nan]\n",
      "  ...\n",
      "  [nan nan nan ... nan nan nan]\n",
      "  [nan nan nan ... nan nan nan]\n",
      "  [nan nan nan ... nan nan nan]]\n",
      "\n",
      " [[nan nan nan ... nan nan nan]\n",
      "  [nan nan nan ... nan nan nan]\n",
      "  [nan nan nan ... nan nan nan]\n",
      "  ...\n",
      "  [nan nan nan ... nan nan nan]\n",
      "  [nan nan nan ... nan nan nan]\n",
      "  [nan nan nan ... nan nan nan]]]\n"
     ]
    }
   ],
   "source": [
    "masked_data_with_aou = np.where(matrix_gila_aou >= aou_threshold, matrix_gila_chi2, np.nan)\n",
    "masked_data_with_1_sigma = np.where(matrix_gila_chi2/dof <= chi2_th, matrix_gila_chi2, np.nan)\n",
    "masked_data_with_aou_1_sigma = np.where(matrix_gila_chi2/dof <= chi2_th, masked_data_with_aou, np.nan)\n",
    "\n",
    "print(masked_data_with_aou)\n",
    "print(masked_data_with_1_sigma)\n",
    "print(masked_data_with_aou_1_sigma)"
   ]
  },
  {
   "cell_type": "markdown",
   "metadata": {},
   "source": [
    "# 3D Monte Carlo sampling"
   ]
  },
  {
   "cell_type": "code",
   "execution_count": 34,
   "metadata": {},
   "outputs": [
    {
     "name": "stdout",
     "output_type": "stream",
     "text": [
      "[[[0. 0. 0. ... 0. 0. 0.]\n",
      "  [0. 0. 0. ... 0. 0. 0.]\n",
      "  [0. 0. 0. ... 0. 0. 0.]\n",
      "  ...\n",
      "  [0. 0. 0. ... 0. 0. 0.]\n",
      "  [0. 0. 0. ... 0. 0. 0.]\n",
      "  [0. 0. 0. ... 0. 0. 0.]]\n",
      "\n",
      " [[0. 0. 0. ... 0. 0. 0.]\n",
      "  [0. 0. 0. ... 0. 0. 0.]\n",
      "  [0. 0. 0. ... 0. 0. 0.]\n",
      "  ...\n",
      "  [0. 0. 0. ... 0. 0. 0.]\n",
      "  [0. 0. 0. ... 0. 0. 0.]\n",
      "  [0. 0. 0. ... 0. 0. 0.]]\n",
      "\n",
      " [[0. 0. 0. ... 0. 0. 0.]\n",
      "  [0. 0. 0. ... 0. 0. 0.]\n",
      "  [0. 0. 0. ... 0. 0. 0.]\n",
      "  ...\n",
      "  [0. 0. 0. ... 0. 0. 0.]\n",
      "  [0. 0. 0. ... 0. 0. 0.]\n",
      "  [0. 0. 0. ... 0. 0. 0.]]\n",
      "\n",
      " ...\n",
      "\n",
      " [[0. 0. 0. ... 0. 0. 0.]\n",
      "  [0. 0. 0. ... 0. 0. 0.]\n",
      "  [0. 0. 0. ... 0. 0. 0.]\n",
      "  ...\n",
      "  [0. 0. 0. ... 0. 0. 0.]\n",
      "  [0. 0. 0. ... 0. 0. 0.]\n",
      "  [0. 0. 0. ... 0. 0. 0.]]\n",
      "\n",
      " [[0. 0. 0. ... 0. 0. 0.]\n",
      "  [0. 0. 0. ... 0. 0. 0.]\n",
      "  [0. 0. 0. ... 0. 0. 0.]\n",
      "  ...\n",
      "  [0. 0. 0. ... 0. 0. 0.]\n",
      "  [0. 0. 0. ... 0. 0. 0.]\n",
      "  [0. 0. 0. ... 0. 0. 0.]]\n",
      "\n",
      " [[0. 0. 0. ... 0. 0. 0.]\n",
      "  [0. 0. 0. ... 0. 0. 0.]\n",
      "  [0. 0. 0. ... 0. 0. 0.]\n",
      "  ...\n",
      "  [0. 0. 0. ... 0. 0. 0.]\n",
      "  [0. 0. 0. ... 0. 0. 0.]\n",
      "  [0. 0. 0. ... 0. 0. 0.]]]\n",
      "(50, 50, 50)\n"
     ]
    },
    {
     "ename": "",
     "evalue": "",
     "output_type": "error",
     "traceback": [
      "\u001b[1;31mThe Kernel crashed while executing code in the current cell or a previous cell. \n",
      "\u001b[1;31mPlease review the code in the cell(s) to identify a possible cause of the failure. \n",
      "\u001b[1;31mClick <a href='https://aka.ms/vscodeJupyterKernelCrash'>here</a> for more info. \n",
      "\u001b[1;31mView Jupyter <a href='command:jupyter.viewOutput'>log</a> for further details."
     ]
    }
   ],
   "source": [
    "import getdist\n",
    "import getdist.plots as gdplt\n",
    "%matplotlib inline\n",
    "\n",
    "x_vals = H0_values \n",
    "y_vals = beta_values \n",
    "z_vals = Mabs_values\n",
    "matrix_gila_chi2 = np.load(os.path.join(path_data, 'matrix_gila_chi2_1.npy'))\n",
    "\n",
    "#aux = matrix_gila_chi2.copy()/np.nanmin(matrix_gila_chi2)\n",
    "#aux[np.isnan(matrix_gila_chi2)]=np.inf\n",
    "\n",
    "aux = masked_data_with_aou.copy()/np.nanmin(masked_data_with_aou)\n",
    "aux[np.isnan(masked_data_with_aou)]=np.inf\n",
    "\n",
    "p3d = np.exp(-aux/2)\n",
    "\n",
    "# Normalize the distribution\n",
    "p3d /= np.sum(p3d)\n",
    "print(p3d)\n",
    "print(p3d.shape)\n",
    "# Convert 3D posterior into samples\n",
    "flattened_probs = p3d.flatten()\n",
    "grid_points = np.array(np.meshgrid(x_vals, y_vals, z_vals, indexing='ij')).reshape(3, -1).T\n",
    "\n",
    "# Sample points from the distribution\n",
    "num_samples = int(1e8)  # Number of samples you want\n",
    "sample_indices = np.random.choice(len(flattened_probs), size=num_samples, p=flattened_probs)\n",
    "samples = grid_points[sample_indices]\n",
    "\n",
    "# Convert to GetDist format\n",
    "gd_samples = getdist.mcsamples.MCSamples(samples=samples, names=['x', 'y', 'z'], labels=['H_0', 'beta', 'Mabs'])\n",
    "\n",
    "# Plot using GetDist\n",
    "g = gdplt.get_subplot_plotter()\n",
    "g.triangle_plot([gd_samples], filled=True)\n",
    "plt.show()"
   ]
  },
  {
   "cell_type": "markdown",
   "metadata": {},
   "source": [
    "## 2D proyection"
   ]
  },
  {
   "cell_type": "code",
   "execution_count": 31,
   "metadata": {},
   "outputs": [
    {
     "name": "stdout",
     "output_type": "stream",
     "text": [
      "The global minima corresponds to M abs=-19.316326530612244\n"
     ]
    },
    {
     "ename": "IndexError",
     "evalue": "index 33 is out of bounds for axis 2 with size 5",
     "output_type": "error",
     "traceback": [
      "\u001b[0;31m---------------------------------------------------------------------------\u001b[0m",
      "\u001b[0;31mIndexError\u001b[0m                                Traceback (most recent call last)",
      "\u001b[0;32m/tmp/ipykernel_559338/3268628158.py\u001b[0m in \u001b[0;36m<module>\u001b[0;34m\u001b[0m\n\u001b[1;32m      1\u001b[0m \u001b[0mprint\u001b[0m\u001b[0;34m(\u001b[0m\u001b[0;34mr'The global minima corresponds to M abs={0}'\u001b[0m\u001b[0;34m.\u001b[0m\u001b[0mformat\u001b[0m\u001b[0;34m(\u001b[0m\u001b[0mMabs_values\u001b[0m\u001b[0;34m[\u001b[0m\u001b[0mwhere_global_min\u001b[0m\u001b[0;34m[\u001b[0m\u001b[0;36m2\u001b[0m\u001b[0;34m]\u001b[0m\u001b[0;34m[\u001b[0m\u001b[0;36m0\u001b[0m\u001b[0;34m]\u001b[0m\u001b[0;34m]\u001b[0m\u001b[0;34m)\u001b[0m\u001b[0;34m)\u001b[0m\u001b[0;34m\u001b[0m\u001b[0;34m\u001b[0m\u001b[0m\n\u001b[0;32m----> 2\u001b[0;31m \u001b[0mmatrix_gila_chi2_2d\u001b[0m \u001b[0;34m=\u001b[0m \u001b[0mmatrix_gila_chi2\u001b[0m\u001b[0;34m[\u001b[0m\u001b[0;34m:\u001b[0m\u001b[0;34m,\u001b[0m\u001b[0;34m:\u001b[0m\u001b[0;34m,\u001b[0m\u001b[0mwhere_global_min\u001b[0m\u001b[0;34m[\u001b[0m\u001b[0;36m2\u001b[0m\u001b[0;34m]\u001b[0m\u001b[0;34m[\u001b[0m\u001b[0;36m0\u001b[0m\u001b[0;34m]\u001b[0m\u001b[0;34m]\u001b[0m\u001b[0;34m/\u001b[0m\u001b[0mdof\u001b[0m\u001b[0;34m\u001b[0m\u001b[0;34m\u001b[0m\u001b[0m\n\u001b[0m\u001b[1;32m      3\u001b[0m \u001b[0mmasked_data_with_aou_2d\u001b[0m \u001b[0;34m=\u001b[0m \u001b[0mmasked_data_with_aou\u001b[0m\u001b[0;34m[\u001b[0m\u001b[0;34m:\u001b[0m\u001b[0;34m,\u001b[0m\u001b[0;34m:\u001b[0m\u001b[0;34m,\u001b[0m\u001b[0mwhere_global_min\u001b[0m\u001b[0;34m[\u001b[0m\u001b[0;36m2\u001b[0m\u001b[0;34m]\u001b[0m\u001b[0;34m[\u001b[0m\u001b[0;36m0\u001b[0m\u001b[0;34m]\u001b[0m\u001b[0;34m]\u001b[0m\u001b[0;34m/\u001b[0m\u001b[0mdof\u001b[0m\u001b[0;34m\u001b[0m\u001b[0;34m\u001b[0m\u001b[0m\n\u001b[1;32m      4\u001b[0m \u001b[0mmasked_data_with_1_sigma_2d\u001b[0m \u001b[0;34m=\u001b[0m \u001b[0mmasked_data_with_1_sigma\u001b[0m\u001b[0;34m[\u001b[0m\u001b[0;34m:\u001b[0m\u001b[0;34m,\u001b[0m\u001b[0;34m:\u001b[0m\u001b[0;34m,\u001b[0m\u001b[0mwhere_global_min\u001b[0m\u001b[0;34m[\u001b[0m\u001b[0;36m2\u001b[0m\u001b[0;34m]\u001b[0m\u001b[0;34m[\u001b[0m\u001b[0;36m0\u001b[0m\u001b[0;34m]\u001b[0m\u001b[0;34m]\u001b[0m\u001b[0;34m/\u001b[0m\u001b[0mdof\u001b[0m\u001b[0;34m\u001b[0m\u001b[0;34m\u001b[0m\u001b[0m\n\u001b[1;32m      5\u001b[0m \u001b[0mmasked_data_with_aou_1_sigma_2d\u001b[0m \u001b[0;34m=\u001b[0m \u001b[0mmasked_data_with_aou_1_sigma\u001b[0m\u001b[0;34m[\u001b[0m\u001b[0;34m:\u001b[0m\u001b[0;34m,\u001b[0m\u001b[0;34m:\u001b[0m\u001b[0;34m,\u001b[0m\u001b[0mwhere_global_min\u001b[0m\u001b[0;34m[\u001b[0m\u001b[0;36m2\u001b[0m\u001b[0;34m]\u001b[0m\u001b[0;34m[\u001b[0m\u001b[0;36m0\u001b[0m\u001b[0;34m]\u001b[0m\u001b[0;34m]\u001b[0m\u001b[0;34m/\u001b[0m\u001b[0mdof\u001b[0m\u001b[0;34m\u001b[0m\u001b[0;34m\u001b[0m\u001b[0m\n",
      "\u001b[0;31mIndexError\u001b[0m: index 33 is out of bounds for axis 2 with size 5"
     ]
    }
   ],
   "source": [
    "print(r'The global minima corresponds to M abs={0}'.format(Mabs_values[where_global_min[2][0]]))\n",
    "matrix_gila_chi2_2d = matrix_gila_chi2[:,:,where_global_min[2][0]]/dof\n",
    "masked_data_with_aou_2d = masked_data_with_aou[:,:,where_global_min[2][0]]/dof\n",
    "masked_data_with_1_sigma_2d = masked_data_with_1_sigma[:,:,where_global_min[2][0]]/dof\n",
    "masked_data_with_aou_1_sigma_2d = masked_data_with_aou_1_sigma[:,:,where_global_min[2][0]]/dof"
   ]
  },
  {
   "cell_type": "code",
   "execution_count": 32,
   "metadata": {},
   "outputs": [
    {
     "ename": "IndexError",
     "evalue": "index 5 is out of bounds for axis 1 with size 5",
     "output_type": "error",
     "traceback": [
      "\u001b[0;31m---------------------------------------------------------------------------\u001b[0m",
      "\u001b[0;31mIndexError\u001b[0m                                Traceback (most recent call last)",
      "\u001b[0;32m/tmp/ipykernel_559338/1657632148.py\u001b[0m in \u001b[0;36m<module>\u001b[0;34m\u001b[0m\n\u001b[1;32m      2\u001b[0m \u001b[0;32mfor\u001b[0m \u001b[0mi\u001b[0m \u001b[0;32min\u001b[0m \u001b[0mrange\u001b[0m\u001b[0;34m(\u001b[0m\u001b[0mlen\u001b[0m\u001b[0;34m(\u001b[0m\u001b[0mbeta_values\u001b[0m\u001b[0;34m)\u001b[0m\u001b[0;34m)\u001b[0m\u001b[0;34m:\u001b[0m\u001b[0;34m\u001b[0m\u001b[0;34m\u001b[0m\u001b[0m\n\u001b[1;32m      3\u001b[0m     \u001b[0;32mfor\u001b[0m \u001b[0mj\u001b[0m \u001b[0;32min\u001b[0m \u001b[0mrange\u001b[0m\u001b[0;34m(\u001b[0m\u001b[0mlen\u001b[0m\u001b[0;34m(\u001b[0m\u001b[0mH0_values\u001b[0m\u001b[0;34m)\u001b[0m\u001b[0;34m)\u001b[0m\u001b[0;34m:\u001b[0m\u001b[0;34m\u001b[0m\u001b[0;34m\u001b[0m\u001b[0m\n\u001b[0;32m----> 4\u001b[0;31m         \u001b[0mmatrix_gila_chi2_2d\u001b[0m\u001b[0;34m[\u001b[0m\u001b[0mi\u001b[0m\u001b[0;34m,\u001b[0m\u001b[0mj\u001b[0m\u001b[0;34m]\u001b[0m \u001b[0;34m=\u001b[0m \u001b[0mmatrix_gila_chi2\u001b[0m\u001b[0;34m[\u001b[0m\u001b[0mi\u001b[0m\u001b[0;34m,\u001b[0m\u001b[0mj\u001b[0m\u001b[0;34m,\u001b[0m\u001b[0mnp\u001b[0m\u001b[0;34m.\u001b[0m\u001b[0mwhere\u001b[0m\u001b[0;34m(\u001b[0m\u001b[0mmatrix_gila_chi2\u001b[0m\u001b[0;34m[\u001b[0m\u001b[0mi\u001b[0m\u001b[0;34m,\u001b[0m\u001b[0mj\u001b[0m\u001b[0;34m,\u001b[0m\u001b[0;34m:\u001b[0m\u001b[0;34m]\u001b[0m\u001b[0;34m==\u001b[0m\u001b[0mnp\u001b[0m\u001b[0;34m.\u001b[0m\u001b[0mnanmin\u001b[0m\u001b[0;34m(\u001b[0m\u001b[0mmatrix_gila_chi2\u001b[0m\u001b[0;34m[\u001b[0m\u001b[0mi\u001b[0m\u001b[0;34m,\u001b[0m\u001b[0mj\u001b[0m\u001b[0;34m,\u001b[0m\u001b[0;34m:\u001b[0m\u001b[0;34m]\u001b[0m\u001b[0;34m)\u001b[0m\u001b[0;34m)\u001b[0m\u001b[0;34m[\u001b[0m\u001b[0;36m0\u001b[0m\u001b[0;34m]\u001b[0m\u001b[0;34m[\u001b[0m\u001b[0;36m0\u001b[0m\u001b[0;34m]\u001b[0m\u001b[0;34m]\u001b[0m\u001b[0;34m\u001b[0m\u001b[0;34m\u001b[0m\u001b[0m\n\u001b[0m",
      "\u001b[0;31mIndexError\u001b[0m: index 5 is out of bounds for axis 1 with size 5"
     ]
    }
   ],
   "source": [
    "matrix_gila_chi2_2d = np.zeros((len(beta_values),len(H0_values)))\n",
    "for i in range(len(beta_values)):\n",
    "    for j in range(len(H0_values)):\n",
    "        matrix_gila_chi2_2d[i,j] = matrix_gila_chi2[i,j,np.where(matrix_gila_chi2[i,j,:]==np.nanmin(matrix_gila_chi2[i,j,:]))[0][0]]\n"
   ]
  },
  {
   "cell_type": "code",
   "execution_count": 33,
   "metadata": {},
   "outputs": [
    {
     "ename": "NameError",
     "evalue": "name 'masked_data_with_1_sigma_2d' is not defined",
     "output_type": "error",
     "traceback": [
      "\u001b[0;31m---------------------------------------------------------------------------\u001b[0m",
      "\u001b[0;31mNameError\u001b[0m                                 Traceback (most recent call last)",
      "\u001b[0;32m/tmp/ipykernel_559338/2480142916.py\u001b[0m in \u001b[0;36m<module>\u001b[0;34m\u001b[0m\n\u001b[1;32m      2\u001b[0m \u001b[0mfig\u001b[0m\u001b[0;34m,\u001b[0m \u001b[0maxes\u001b[0m \u001b[0;34m=\u001b[0m \u001b[0mplt\u001b[0m\u001b[0;34m.\u001b[0m\u001b[0msubplots\u001b[0m\u001b[0;34m(\u001b[0m\u001b[0;36m1\u001b[0m\u001b[0;34m,\u001b[0m\u001b[0;36m2\u001b[0m\u001b[0;34m,\u001b[0m\u001b[0mfigsize\u001b[0m\u001b[0;34m=\u001b[0m\u001b[0;34m(\u001b[0m\u001b[0;36m16\u001b[0m\u001b[0;34m,\u001b[0m \u001b[0;36m12\u001b[0m\u001b[0;34m)\u001b[0m\u001b[0;34m)\u001b[0m\u001b[0;34m\u001b[0m\u001b[0;34m\u001b[0m\u001b[0m\n\u001b[1;32m      3\u001b[0m \u001b[0;31m# Define common color scale\u001b[0m\u001b[0;34m\u001b[0m\u001b[0;34m\u001b[0m\u001b[0;34m\u001b[0m\u001b[0m\n\u001b[0;32m----> 4\u001b[0;31m \u001b[0mvmin\u001b[0m \u001b[0;34m=\u001b[0m \u001b[0mmin\u001b[0m\u001b[0;34m(\u001b[0m\u001b[0mnp\u001b[0m\u001b[0;34m.\u001b[0m\u001b[0mnanmin\u001b[0m\u001b[0;34m(\u001b[0m\u001b[0mmasked_data_with_1_sigma_2d\u001b[0m\u001b[0;34m)\u001b[0m\u001b[0;34m,\u001b[0m \u001b[0mnp\u001b[0m\u001b[0;34m.\u001b[0m\u001b[0mnanmin\u001b[0m\u001b[0;34m(\u001b[0m\u001b[0mmasked_data_with_aou_1_sigma_2d\u001b[0m\u001b[0;34m)\u001b[0m\u001b[0;34m)\u001b[0m\u001b[0;34m\u001b[0m\u001b[0;34m\u001b[0m\u001b[0m\n\u001b[0m\u001b[1;32m      5\u001b[0m \u001b[0mvmax\u001b[0m \u001b[0;34m=\u001b[0m \u001b[0mmax\u001b[0m\u001b[0;34m(\u001b[0m\u001b[0mnp\u001b[0m\u001b[0;34m.\u001b[0m\u001b[0mnanmax\u001b[0m\u001b[0;34m(\u001b[0m\u001b[0mmasked_data_with_1_sigma_2d\u001b[0m\u001b[0;34m)\u001b[0m\u001b[0;34m,\u001b[0m \u001b[0mnp\u001b[0m\u001b[0;34m.\u001b[0m\u001b[0mnanmax\u001b[0m\u001b[0;34m(\u001b[0m\u001b[0mmasked_data_with_aou_1_sigma_2d\u001b[0m\u001b[0;34m)\u001b[0m\u001b[0;34m)\u001b[0m\u001b[0;34m\u001b[0m\u001b[0;34m\u001b[0m\u001b[0m\n\u001b[1;32m      6\u001b[0m \u001b[0;34m\u001b[0m\u001b[0m\n",
      "\u001b[0;31mNameError\u001b[0m: name 'masked_data_with_1_sigma_2d' is not defined"
     ]
    },
    {
     "data": {
      "image/png": "[encoded data removed]",
      "text/plain": [
       "<Figure size 1152x864 with 2 Axes>"
      ]
     },
     "metadata": {
      "image/png": {
       "height": 685,
       "width": 932
      },
      "needs_background": "light"
     },
     "output_type": "display_data"
    }
   ],
   "source": [
    "# Plot GILA model\n",
    "fig, axes = plt.subplots(1,2,figsize=(16, 12))\n",
    "# Define common color scale\n",
    "vmin = min(np.nanmin(masked_data_with_1_sigma_2d), np.nanmin(masked_data_with_aou_1_sigma_2d))\n",
    "vmax = max(np.nanmax(masked_data_with_1_sigma_2d), np.nanmax(masked_data_with_aou_1_sigma_2d))\n",
    "\n",
    "# Plot heatmaps without colorbars\n",
    "sns.heatmap(masked_data_with_1_sigma_2d, ax=axes[0], linewidth=0.5, vmin=vmin, vmax=vmax, cbar=False)\n",
    "sns.heatmap(masked_data_with_aou_1_sigma_2d, ax=axes[1], linewidth=0.5, vmin=vmin, vmax=vmax, cbar=False)\n",
    "\n",
    "# General configurations for all axes\n",
    "for ax in axes.flat:\n",
    "    ax.set_xlabel(r'$\\beta$', fontsize=22)\n",
    "    ax.set_ylabel(r'$H_0$', fontsize=22)\n",
    "    ax.set_xticks(np.arange(len(beta_values)))\n",
    "    ax.set_yticks(np.arange(len(H0_values)))\n",
    "    ax.set_xticklabels([f'{tick:.2f}' for tick in beta_values],rotation = 75)\n",
    "    ax.set_yticklabels([f'{tick:.2f}' for tick in H0_values],rotation = 25)\n",
    "    ax.label_outer()\n",
    "\n",
    "# Add a single colorbar\n",
    "cbar_ax = fig.add_axes([0.92, 0.15, 0.02, 0.7])  # Adjust position as needed\n",
    "cbar = fig.colorbar(axes[0].collections[0], cax=cbar_ax)  # Use one of the heatmap's color mappings\n",
    "\n",
    "# Change colorbar tick label size\n",
    "cbar.ax.tick_params(labelsize=14)  # Set fontsize\n",
    "\n",
    "fig.colorbar(axes[0].collections[0], cax=cbar_ax)  # Use one of the heatmap's color mappings\n",
    "\n",
    "fig.tight_layout(rect=[0, 0, 0.9, 1])  # Adjust layout to fit the colorbar\n",
    "\n",
    "\n",
    "fig.savefig(os.path.join(path_figures, 'heat_map_aou_GILA_r={0}_s={1}_Lbar={2}.png'.format(r,s,L_bar)))\n",
    "fig.savefig(os.path.join(path_figures, 'heat_map_aou_GILA_r={0}_s={1}_Lbar={2}.pdf'.format(r,s,L_bar)))\n",
    "plt.show()\n",
    "\n"
   ]
  }
 ],
 "metadata": {
  "kernelspec": {
   "display_name": "fR-MCMC",
   "language": "python",
   "name": "python3"
  },
  "language_info": {
   "codemirror_mode": {
    "name": "ipython",
    "version": 3
   },
   "file_extension": ".py",
   "mimetype": "text/x-python",
   "name": "python",
   "nbconvert_exporter": "python",
   "pygments_lexer": "ipython3",
   "version": "3.7.6"
  }
 },
 "nbformat": 4,
 "nbformat_minor": 2
}
