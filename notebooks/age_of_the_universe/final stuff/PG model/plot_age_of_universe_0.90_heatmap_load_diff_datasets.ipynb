{
 "cells": [
  {
   "cell_type": "code",
   "execution_count": 2,
   "metadata": {},
   "outputs": [],
   "source": [
    "# Initial setup:\n",
    "%matplotlib inline\n",
    "%config InlineBackend.figure_format = 'retina'\n",
    "%load_ext autoreload\n",
    "%autoreload 1\n",
    "\n",
    "#For fancy plots\n",
    "import matplotlib\n",
    "from matplotlib import pyplot as plt\n",
    "matplotlib.rcParams['mathtext.fontset'] = 'cm'\n",
    "matplotlib.rcParams['font.family'] = 'STIXGeneral'\n",
    "from matplotlib.ticker import FormatStrFormatter\n",
    "import matplotlib.patches as mpatches\n",
    "from matplotlib.colors import ListedColormap\n",
    "\n",
    "#Import standard libraries\n",
    "import numpy as np\n",
    "import time\n",
    "import seaborn as sns\n",
    "import pandas as pd\n",
    "from itertools import product\n",
    "\n",
    "from scipy.interpolate import interp1d\n",
    "from scipy.integrate import simps as simps\n",
    "from scipy.integrate import cumtrapz as cumtrapz\n",
    "from scipy.integrate import simps, solve_ivp\n",
    "from scipy.constants import c as c_light #meters/seconds\n",
    "from scipy.stats.distributions import chi2 as chi2_dist\n",
    "\n",
    "c_light_km = c_light/1000 #km/s\n",
    "\n",
    "import getdist\n",
    "getdist.chains.print_load_details = False\n",
    "\n",
    "# import repo functions:\n",
    "import sys, os\n",
    "import os\n",
    "import git\n",
    "path_git = git.Repo('.', search_parent_directories=True).working_tree_dir\n",
    "path_data = os.path.join(os.path.dirname(path_git), 'GILA-output', 'paper', 'ULTIMA COSA', 'PG')\n",
    "path_figures = os.path.join(path_git, 'notebooks', 'figures')\n",
    "\n",
    "os.chdir(os.path.join(path_git, 'fr_mcmc', 'utils'))\n",
    "from supernovae import aparent_magnitude_th, chi2_supernovae\n",
    "from constants import OMEGA_R_0, LAMBDA, L, KAPPA"
   ]
  },
  {
   "cell_type": "code",
   "execution_count": 3,
   "metadata": {},
   "outputs": [],
   "source": [
    "path_git = git.Repo('.', search_parent_directories=True).working_tree_dir\n",
    "os.chdir(path_git); os.sys.path.append('./fr_mcmc/utils/')\n",
    "from data import read_data_chronometers, read_data_pantheon_plus_shoes\n",
    "\n",
    "# Cosmic Chronometers\n",
    "os.chdir(path_git+'/fr_mcmc/source/CC/')\n",
    "ds_CC = read_data_chronometers('chronometers_data.txt')\n",
    "\n",
    "# Pantheon plus + SH0ES\n",
    "os.chdir(path_git+'/fr_mcmc/source/Pantheon_plus_shoes')\n",
    "ds_SN_plus_shoes = read_data_pantheon_plus_shoes('Pantheon+SH0ES.dat',\n",
    "                                'Pantheon+SH0ES_STAT+SYS.cov')\n"
   ]
  },
  {
   "cell_type": "markdown",
   "metadata": {},
   "source": [
    "First, let's fix some parameters"
   ]
  },
  {
   "cell_type": "code",
   "execution_count": 4,
   "metadata": {},
   "outputs": [],
   "source": [
    "#Fix params\n",
    "#L_bar = 0.90\n",
    "beta = 1\n",
    "\n",
    "num_free_parameters = 3\n",
    "dof = ds_SN_plus_shoes[2].shape[0]+len(ds_CC[0]) - num_free_parameters\n",
    "\n",
    "confidence_level = 0.683 #1 sigma contour\n",
    "#confidence_level = 0.954 #2 sigma contour\n",
    "#confidence_level = 0.997 #3 sigma contour\n"
   ]
  },
  {
   "cell_type": "code",
   "execution_count": 5,
   "metadata": {},
   "outputs": [
    {
     "name": "stdout",
     "output_type": "stream",
     "text": [
      "Reduced chi-square threshold for 68.30000000000001% confidence: 1.01610\n",
      "1.0344622758397788\n"
     ]
    }
   ],
   "source": [
    "from scipy.stats import chi2\n",
    "\n",
    "def chi2_threshold(N, p, confidence):\n",
    "    \"\"\"\n",
    "    Compute the chi-square threshold for model rejection based on a given confidence level.\n",
    "    \n",
    "    Parameters:\n",
    "    N (int): Number of data points\n",
    "    p (int): Number of parameters\n",
    "    confidence (float): Confidence level (e.g., 0.95 for 95%)\n",
    "    \n",
    "    Returns:\n",
    "    float: Reduced chi-square threshold\n",
    "    \"\"\"\n",
    "    nu = N - p  # Degrees of freedom\n",
    "    chi2_crit = chi2.ppf(confidence, df=nu)  # Critical chi-square value\n",
    "    return chi2_crit / nu  # Convert to reduced chi-square\n",
    "\n",
    "# Example usage\n",
    "N = ds_SN_plus_shoes[2].shape[0]+len(ds_CC[0])\n",
    "p = 3\n",
    "confidence_level = 0.683  # 68.3% confidence threshold\n",
    "\n",
    "chi2_th = chi2_threshold(N, p, confidence_level)\n",
    "print(f\"Reduced chi-square threshold for {confidence_level*100}% confidence: {chi2_th:.5f}\")\n",
    "print(1+np.sqrt(2/(N-p)))\n"
   ]
  },
  {
   "cell_type": "markdown",
   "metadata": {},
   "source": [
    "# PG model analysis"
   ]
  },
  {
   "cell_type": "code",
   "execution_count": 6,
   "metadata": {},
   "outputs": [
    {
     "name": "stdout",
     "output_type": "stream",
     "text": [
      "[80.         79.59183673 79.18367347 78.7755102  78.36734694 77.95918367\n",
      " 77.55102041 77.14285714 76.73469388 76.32653061 75.91836735 75.51020408\n",
      " 75.10204082 74.69387755 74.28571429 73.87755102 73.46938776 73.06122449\n",
      " 72.65306122 72.24489796 71.83673469 71.42857143 71.02040816 70.6122449\n",
      " 70.20408163 69.79591837 69.3877551  68.97959184 68.57142857 68.16326531\n",
      " 67.75510204 67.34693878 66.93877551 66.53061224 66.12244898 65.71428571\n",
      " 65.30612245 64.89795918 64.48979592 64.08163265 63.67346939 63.26530612\n",
      " 62.85714286 62.44897959 62.04081633 61.63265306 61.2244898  60.81632653\n",
      " 60.40816327 60.        ] [ 0.1         0.10985411  0.12067926  0.13257114  0.14563485  0.15998587\n",
      "  0.17575106  0.19306977  0.21209509  0.23299518  0.25595479  0.28117687\n",
      "  0.30888436  0.33932218  0.37275937  0.40949151  0.44984327  0.49417134\n",
      "  0.54286754  0.59636233  0.65512856  0.71968567  0.79060432  0.86851137\n",
      "  0.95409548  1.04811313  1.1513954   1.26485522  1.38949549  1.52641797\n",
      "  1.67683294  1.84206997  2.02358965  2.22299648  2.44205309  2.6826958\n",
      "  2.9470517   3.23745754  3.55648031  3.90693994  4.29193426  4.71486636\n",
      "  5.17947468  5.68986603  6.25055193  6.86648845  7.54312006  8.28642773\n",
      "  9.10298178 10.        ] [-21.         -20.94897959 -20.89795918 -20.84693878 -20.79591837\n",
      " -20.74489796 -20.69387755 -20.64285714 -20.59183673 -20.54081633\n",
      " -20.48979592 -20.43877551 -20.3877551  -20.33673469 -20.28571429\n",
      " -20.23469388 -20.18367347 -20.13265306 -20.08163265 -20.03061224\n",
      " -19.97959184 -19.92857143 -19.87755102 -19.82653061 -19.7755102\n",
      " -19.7244898  -19.67346939 -19.62244898 -19.57142857 -19.52040816\n",
      " -19.46938776 -19.41836735 -19.36734694 -19.31632653 -19.26530612\n",
      " -19.21428571 -19.16326531 -19.1122449  -19.06122449 -19.01020408\n",
      " -18.95918367 -18.90816327 -18.85714286 -18.80612245 -18.75510204\n",
      " -18.70408163 -18.65306122 -18.60204082 -18.55102041 -18.5       ]\n"
     ]
    }
   ],
   "source": [
    "#PG MODEL\n",
    "#r_min = 1\n",
    "#s_min = 2\n",
    "\n",
    "model = 'PG'\n",
    "#H0_values = np.linspace(60,80,20)[::-1] \n",
    "#L_bar_values = np.logspace(-1,1,20)\n",
    "#Mabs_values = np.linspace(-21,-18.5,20)\n",
    "\n",
    "H0_values = np.linspace(60,80,50)[::-1] \n",
    "L_bar_values = np.logspace(-1,1,50)\n",
    "Mabs_values = np.linspace(-21,-18.5,50)\n",
    "print(H0_values, L_bar_values, Mabs_values)\n",
    "\n",
    "#r = 1; s = 2 \n",
    "r = 1; s = 3 \n",
    "#r = 1; s = 4 \n",
    "\n",
    "matrix_gila_chi2 = np.load(os.path.join(path_data, 'matrix_chi2_BETA_r={1}_s={2}_{0}.npy'.format(model, r, s)))\n",
    "matrix_gila_aou = np.load(os.path.join(path_data, 'matrix_aou_BETA_r={1}_s={2}_{0}.npy'.format(model, r, s)))\n"
   ]
  },
  {
   "cell_type": "markdown",
   "metadata": {},
   "source": [
    "### Important questions"
   ]
  },
  {
   "cell_type": "code",
   "execution_count": 7,
   "metadata": {},
   "outputs": [
    {
     "name": "stdout",
     "output_type": "stream",
     "text": [
      "Aou threhold: 12.7\n",
      "chi2 threhold: 1.0160978536321694\n",
      "Has integration issues?: False\n",
      "Has issues when Aou cut-off is applied?: False\n",
      "chi2_min<=chi2_threshold?: True\n"
     ]
    }
   ],
   "source": [
    "#aou_threshold = 13.2\n",
    "aou_threshold = 12.7\n",
    "chi2_th = chi2_threshold(N, p, confidence_level)\n",
    "print('Aou threhold: {}'.format(aou_threshold))\n",
    "print('chi2 threhold: {}'.format(chi2_th))\n",
    "\n",
    "masked_data_with_aou = np.where(matrix_gila_aou >= aou_threshold, matrix_gila_chi2, np.nan)\n",
    "\n",
    "print('Has integration issues?: {}'.format(np.all(np.isnan(matrix_gila_chi2)))) #should be False\n",
    "print('Has issues when Aou cut-off is applied?: {}'.format(np.all(np.isnan(masked_data_with_aou))))#should be False\n",
    "print('chi2_min<=chi2_threshold?: {}'.format(np.nanmin(masked_data_with_aou)/dof<=chi2_th))#should be True\n"
   ]
  },
  {
   "cell_type": "code",
   "execution_count": 8,
   "metadata": {},
   "outputs": [
    {
     "name": "stdout",
     "output_type": "stream",
     "text": [
      "Minimum of the reduced $\\chi^2$:0.8896283228868261\n"
     ]
    },
    {
     "data": {
      "text/plain": [
       "array([0.88962832])"
      ]
     },
     "execution_count": 8,
     "metadata": {},
     "output_type": "execute_result"
    }
   ],
   "source": [
    "print(r'Minimum of the reduced $\\chi^2$:{}'.format(np.nanmin(masked_data_with_aou)/dof))\n",
    "\n",
    "#Double check\n",
    "where_global_min = np.where(masked_data_with_aou==np.nanmin(masked_data_with_aou))\n",
    "masked_data_with_aou[where_global_min]/dof"
   ]
  },
  {
   "cell_type": "code",
   "execution_count": 9,
   "metadata": {},
   "outputs": [
    {
     "name": "stdout",
     "output_type": "stream",
     "text": [
      "[[[290865.30327398 254177.36336413 219978.68702671 ...   5710.17065663\n",
      "    11339.71147804  19458.51587187]\n",
      "  [269793.59501698 234494.67469265 201685.01794075 ...   8251.79535344\n",
      "    15270.35576037  24778.17973972]\n",
      "  [261251.06999659 226541.99253482 194322.17864547 ...   9736.59899649\n",
      "    17345.00226597  27442.66910788]\n",
      "  ...\n",
      "  [            nan             nan             nan ...             nan\n",
      "               nan             nan]\n",
      "  [            nan             nan             nan ...             nan\n",
      "               nan             nan]\n",
      "  [            nan             nan             nan ...             nan\n",
      "               nan             nan]]\n",
      "\n",
      " [[283270.72137289 247083.24661372 213385.03542698 ...   6623.4963171\n",
      "    12753.50228919  21372.77183371]\n",
      "  [262221.23744243 227440.66313797 195149.35240594 ...   9491.32011665\n",
      "    17028.22654344  27054.39654267]\n",
      "  [253649.8166201  219469.97604464 187779.3990416  ...  11132.37268729\n",
      "    19270.01284308  29896.9165713 ]\n",
      "  ...\n",
      "  [            nan             nan             nan ...             nan\n",
      "               nan             nan]\n",
      "  [            nan             nan             nan ...             nan\n",
      "               nan             nan]\n",
      "  [            nan             nan             nan ...             nan\n",
      "               nan             nan]]\n",
      "\n",
      " [[275685.16629407 240004.50407291 206813.10542418 ...   7653.75438445\n",
      "    14290.57289455  23416.65497707]\n",
      "  [254663.93699749 220408.38895616 188642.10448726 ...  10859.46614494\n",
      "    18921.39883486  29472.59509721]\n",
      "  [246065.73480473 212422.10260887 181267.73398545 ...  12663.83332528\n",
      "    21337.68186068  32500.79396851]\n",
      "  ...\n",
      "  [            nan             nan             nan ...             nan\n",
      "               nan             nan]\n",
      "  [            nan             nan             nan ...             nan\n",
      "               nan             nan]\n",
      "  [            nan             nan             nan ...             nan\n",
      "               nan             nan]]\n",
      "\n",
      " ...\n",
      "\n",
      " [[164287.88809482 137103.48454249 112408.34456259 ...  40692.87355523\n",
      "    55825.95073416  73448.29148551]\n",
      "  [144683.87728736 119244.16001484  96293.70631474 ...  50748.52950446\n",
      "    67626.29296319  86993.31999434]\n",
      "  [136096.74738196 111479.74047695  89351.99714437 ...  56147.47584688\n",
      "    73847.94967313  94037.68707181]\n",
      "  ...\n",
      "  [            nan             nan             nan ...             nan\n",
      "               nan             nan]\n",
      "  [            nan             nan             nan ...             nan\n",
      "               nan             nan]\n",
      "  [            nan             nan             nan ...             nan\n",
      "               nan             nan]]\n",
      "\n",
      " [[157136.52775239 130588.90388901 106530.54359807 ...  44366.76792507\n",
      "    60136.62479295  78395.74523325]\n",
      "  [137716.36733781 112938.33006336  90649.55636134 ...  55029.57952226\n",
      "    72569.02297907  92597.7300083 ]\n",
      "  [129172.17829808 105234.43737839  83785.96003112 ...  60770.42851333\n",
      "    79150.16832489 100019.17170888]\n",
      "  ...\n",
      "  [            nan             nan             nan ...             nan\n",
      "               nan             nan]\n",
      "  [            nan             nan             nan ...             nan\n",
      "               nan             nan]\n",
      "  [            nan             nan             nan ...             nan\n",
      "               nan             nan]]\n",
      "\n",
      " [[150038.88239971 124138.48140609 100727.3439849  ...  48271.91135825\n",
      "    64688.99109589  83595.33440595]\n",
      "  [130817.46228955 106712.07234532  85095.94597353 ...  59565.6790878\n",
      "    77777.76987484  98479.12423429]\n",
      "  [122324.00768571  99077.04308658  78319.34205988 ...  65665.45535059\n",
      "    84735.97148272 106295.75118728]\n",
      "  ...\n",
      "  [            nan             nan             nan ...             nan\n",
      "               nan             nan]\n",
      "  [            nan             nan             nan ...             nan\n",
      "               nan             nan]\n",
      "  [            nan             nan             nan ...             nan\n",
      "               nan             nan]]]\n",
      "[[[nan nan nan ... nan nan nan]\n",
      "  [nan nan nan ... nan nan nan]\n",
      "  [nan nan nan ... nan nan nan]\n",
      "  ...\n",
      "  [nan nan nan ... nan nan nan]\n",
      "  [nan nan nan ... nan nan nan]\n",
      "  [nan nan nan ... nan nan nan]]\n",
      "\n",
      " [[nan nan nan ... nan nan nan]\n",
      "  [nan nan nan ... nan nan nan]\n",
      "  [nan nan nan ... nan nan nan]\n",
      "  ...\n",
      "  [nan nan nan ... nan nan nan]\n",
      "  [nan nan nan ... nan nan nan]\n",
      "  [nan nan nan ... nan nan nan]]\n",
      "\n",
      " [[nan nan nan ... nan nan nan]\n",
      "  [nan nan nan ... nan nan nan]\n",
      "  [nan nan nan ... nan nan nan]\n",
      "  ...\n",
      "  [nan nan nan ... nan nan nan]\n",
      "  [nan nan nan ... nan nan nan]\n",
      "  [nan nan nan ... nan nan nan]]\n",
      "\n",
      " ...\n",
      "\n",
      " [[nan nan nan ... nan nan nan]\n",
      "  [nan nan nan ... nan nan nan]\n",
      "  [nan nan nan ... nan nan nan]\n",
      "  ...\n",
      "  [nan nan nan ... nan nan nan]\n",
      "  [nan nan nan ... nan nan nan]\n",
      "  [nan nan nan ... nan nan nan]]\n",
      "\n",
      " [[nan nan nan ... nan nan nan]\n",
      "  [nan nan nan ... nan nan nan]\n",
      "  [nan nan nan ... nan nan nan]\n",
      "  ...\n",
      "  [nan nan nan ... nan nan nan]\n",
      "  [nan nan nan ... nan nan nan]\n",
      "  [nan nan nan ... nan nan nan]]\n",
      "\n",
      " [[nan nan nan ... nan nan nan]\n",
      "  [nan nan nan ... nan nan nan]\n",
      "  [nan nan nan ... nan nan nan]\n",
      "  ...\n",
      "  [nan nan nan ... nan nan nan]\n",
      "  [nan nan nan ... nan nan nan]\n",
      "  [nan nan nan ... nan nan nan]]]\n",
      "[[[nan nan nan ... nan nan nan]\n",
      "  [nan nan nan ... nan nan nan]\n",
      "  [nan nan nan ... nan nan nan]\n",
      "  ...\n",
      "  [nan nan nan ... nan nan nan]\n",
      "  [nan nan nan ... nan nan nan]\n",
      "  [nan nan nan ... nan nan nan]]\n",
      "\n",
      " [[nan nan nan ... nan nan nan]\n",
      "  [nan nan nan ... nan nan nan]\n",
      "  [nan nan nan ... nan nan nan]\n",
      "  ...\n",
      "  [nan nan nan ... nan nan nan]\n",
      "  [nan nan nan ... nan nan nan]\n",
      "  [nan nan nan ... nan nan nan]]\n",
      "\n",
      " [[nan nan nan ... nan nan nan]\n",
      "  [nan nan nan ... nan nan nan]\n",
      "  [nan nan nan ... nan nan nan]\n",
      "  ...\n",
      "  [nan nan nan ... nan nan nan]\n",
      "  [nan nan nan ... nan nan nan]\n",
      "  [nan nan nan ... nan nan nan]]\n",
      "\n",
      " ...\n",
      "\n",
      " [[nan nan nan ... nan nan nan]\n",
      "  [nan nan nan ... nan nan nan]\n",
      "  [nan nan nan ... nan nan nan]\n",
      "  ...\n",
      "  [nan nan nan ... nan nan nan]\n",
      "  [nan nan nan ... nan nan nan]\n",
      "  [nan nan nan ... nan nan nan]]\n",
      "\n",
      " [[nan nan nan ... nan nan nan]\n",
      "  [nan nan nan ... nan nan nan]\n",
      "  [nan nan nan ... nan nan nan]\n",
      "  ...\n",
      "  [nan nan nan ... nan nan nan]\n",
      "  [nan nan nan ... nan nan nan]\n",
      "  [nan nan nan ... nan nan nan]]\n",
      "\n",
      " [[nan nan nan ... nan nan nan]\n",
      "  [nan nan nan ... nan nan nan]\n",
      "  [nan nan nan ... nan nan nan]\n",
      "  ...\n",
      "  [nan nan nan ... nan nan nan]\n",
      "  [nan nan nan ... nan nan nan]\n",
      "  [nan nan nan ... nan nan nan]]]\n"
     ]
    }
   ],
   "source": [
    "masked_data_with_aou = np.where(matrix_gila_aou >= aou_threshold, matrix_gila_chi2, np.nan)\n",
    "masked_data_with_1_sigma = np.where(matrix_gila_chi2/dof <= chi2_th, matrix_gila_chi2, np.nan)\n",
    "masked_data_with_aou_1_sigma = np.where(matrix_gila_chi2/dof <= chi2_th, masked_data_with_aou, np.nan)\n",
    "\n",
    "print(masked_data_with_aou)\n",
    "print(masked_data_with_1_sigma)\n",
    "print(masked_data_with_aou_1_sigma)"
   ]
  },
  {
   "cell_type": "markdown",
   "metadata": {},
   "source": [
    "# 3D Monte Carlo sampling"
   ]
  },
  {
   "cell_type": "code",
   "execution_count": 10,
   "metadata": {},
   "outputs": [
    {
     "name": "stdout",
     "output_type": "stream",
     "text": [
      "[[[2.30929544e-45 4.79973998e-40 4.34659615e-35 ... 4.95823614e-04\n",
      "   7.57447753e-05 5.04163644e-06]\n",
      "  [2.61650149e-42 3.42079914e-37 1.94862168e-32 ... 2.12290757e-04\n",
      "   2.03997543e-05 8.54106752e-07]\n",
      "  [4.52812476e-41 4.86216981e-36 2.27475814e-31 ... 1.29334988e-04\n",
      "   1.02073975e-05 3.51000227e-07]\n",
      "  ...\n",
      "  [0.00000000e+00 0.00000000e+00 0.00000000e+00 ... 0.00000000e+00\n",
      "   0.00000000e+00 0.00000000e+00]\n",
      "  [0.00000000e+00 0.00000000e+00 0.00000000e+00 ... 0.00000000e+00\n",
      "   0.00000000e+00 0.00000000e+00]\n",
      "  [0.00000000e+00 0.00000000e+00 0.00000000e+00 ... 0.00000000e+00\n",
      "   0.00000000e+00 0.00000000e+00]]\n",
      "\n",
      " [[2.91257527e-44 5.12242235e-39 3.92524689e-34 ... 3.65548579e-04\n",
      "   4.72531308e-05 2.66139567e-06]\n",
      "  [3.27564884e-41 3.60223627e-36 1.72599852e-31 ... 1.40367966e-04\n",
      "   1.13456695e-05 3.99563322e-07]\n",
      "  [5.72378144e-40 5.15091603e-35 2.01966466e-30 ... 8.11718472e-05\n",
      "   5.36900886e-06 1.54730590e-07]\n",
      "  ...\n",
      "  [0.00000000e+00 0.00000000e+00 0.00000000e+00 ... 0.00000000e+00\n",
      "   0.00000000e+00 0.00000000e+00]\n",
      "  [0.00000000e+00 0.00000000e+00 0.00000000e+00 ... 0.00000000e+00\n",
      "   0.00000000e+00 0.00000000e+00]\n",
      "  [0.00000000e+00 0.00000000e+00 0.00000000e+00 ... 0.00000000e+00\n",
      "   0.00000000e+00 0.00000000e+00]]\n",
      "\n",
      " [[3.66240546e-43 5.43881943e-38 3.51913741e-33 ... 2.59187594e-04\n",
      "   2.82904392e-05 1.34542204e-06]\n",
      "  [4.08029189e-40 3.76587664e-35 1.51437808e-30 ... 8.89123120e-05\n",
      "   6.03148182e-06 1.78270512e-07]\n",
      "  [7.19380672e-39 5.41301711e-34 1.77465282e-29 ... 4.86886428e-05\n",
      "   2.69274710e-06 6.48868712e-08]\n",
      "  ...\n",
      "  [0.00000000e+00 0.00000000e+00 0.00000000e+00 ... 0.00000000e+00\n",
      "   0.00000000e+00 0.00000000e+00]\n",
      "  [0.00000000e+00 0.00000000e+00 0.00000000e+00 ... 0.00000000e+00\n",
      "   0.00000000e+00 0.00000000e+00]\n",
      "  [0.00000000e+00 0.00000000e+00 0.00000000e+00 ... 0.00000000e+00\n",
      "   0.00000000e+00 0.00000000e+00]]\n",
      "\n",
      " ...\n",
      "\n",
      " [[5.13167768e-27 4.47204610e-23 1.69803462e-19 ... 4.21458478e-09\n",
      "   2.69953497e-11 7.53384171e-14]\n",
      "  [3.56258522e-24 1.73431661e-20 3.67861954e-17 ... 1.46972620e-10\n",
      "   5.25880204e-13 8.19842779e-16]\n",
      "  [6.25788993e-23 2.31495835e-19 3.73122819e-16 ... 2.42485324e-11\n",
      "   6.59307450e-14 7.81059062e-17]\n",
      "  ...\n",
      "  [0.00000000e+00 0.00000000e+00 0.00000000e+00 ... 0.00000000e+00\n",
      "   0.00000000e+00 0.00000000e+00]\n",
      "  [0.00000000e+00 0.00000000e+00 0.00000000e+00 ... 0.00000000e+00\n",
      "   0.00000000e+00 0.00000000e+00]\n",
      "  [0.00000000e+00 0.00000000e+00 0.00000000e+00 ... 0.00000000e+00\n",
      "   0.00000000e+00 0.00000000e+00]]\n",
      "\n",
      " [[5.58231351e-26 3.93335378e-22 1.20755012e-18 ... 1.23663547e-09\n",
      "   6.40438966e-12 1.44513083e-14]\n",
      "  [3.64478483e-23 1.42274715e-19 2.41978578e-16 ... 3.52143022e-11\n",
      "   1.01032751e-13 1.26298630e-16]\n",
      "  [6.31117880e-22 1.86109889e-18 2.39123237e-15 ... 5.18335537e-12\n",
      "   1.12345896e-14 1.06095462e-17]\n",
      "  ...\n",
      "  [0.00000000e+00 0.00000000e+00 0.00000000e+00 ... 0.00000000e+00\n",
      "   0.00000000e+00 0.00000000e+00]\n",
      "  [0.00000000e+00 0.00000000e+00 0.00000000e+00 ... 0.00000000e+00\n",
      "   0.00000000e+00 0.00000000e+00]\n",
      "  [0.00000000e+00 0.00000000e+00 0.00000000e+00 ... 0.00000000e+00\n",
      "   0.00000000e+00 0.00000000e+00]]\n",
      "\n",
      " [[5.96462783e-25 3.38626026e-21 8.37627035e-18 ... 3.35900133e-10\n",
      "   1.40163335e-12 2.54830871e-15]\n",
      "  [3.64447171e-22 1.13656285e-18 1.54434988e-15 ... 7.74878386e-12\n",
      "   1.77615018e-14 1.77385938e-17]\n",
      "  [6.20468107e-21 1.45296035e-17 1.48245471e-14 ... 1.01181400e-12\n",
      "   1.74149507e-15 1.30598197e-18]\n",
      "  ...\n",
      "  [0.00000000e+00 0.00000000e+00 0.00000000e+00 ... 0.00000000e+00\n",
      "   0.00000000e+00 0.00000000e+00]\n",
      "  [0.00000000e+00 0.00000000e+00 0.00000000e+00 ... 0.00000000e+00\n",
      "   0.00000000e+00 0.00000000e+00]\n",
      "  [0.00000000e+00 0.00000000e+00 0.00000000e+00 ... 0.00000000e+00\n",
      "   0.00000000e+00 0.00000000e+00]]]\n",
      "(20, 20, 20)\n"
     ]
    },
    {
     "data": {
      "image/png": "[encoded data removed]",
      "text/plain": [
       "<Figure size 432x432 with 6 Axes>"
      ]
     },
     "metadata": {
      "image/png": {
       "height": 421,
       "width": 421
      },
      "needs_background": "light"
     },
     "output_type": "display_data"
    }
   ],
   "source": [
    "import getdist\n",
    "import getdist.plots as gdplt\n",
    "%matplotlib inline\n",
    "\n",
    "x_vals = H0_values \n",
    "y_vals = L_bar_values \n",
    "z_vals = Mabs_values\n",
    "#matrix_gila_chi2 = np.load(os.path.join(path_data, 'matrix_gila_chi2.npy'))\n",
    "\n",
    "#aux = matrix_gila_chi2.copy()/np.nanmin(matrix_gila_chi2)\n",
    "#aux[np.isnan(matrix_gila_chi2)]=np.inf\n",
    "\n",
    "aux = masked_data_with_aou.copy()/np.nanmin(masked_data_with_aou)\n",
    "aux[np.isnan(masked_data_with_aou)]=np.inf\n",
    "\n",
    "p3d = np.exp(-aux/2)\n",
    "\n",
    "# Normalize the distribution\n",
    "p3d /= np.sum(p3d)\n",
    "print(p3d)\n",
    "print(p3d.shape)\n",
    "# Convert 3D posterior into samples\n",
    "flattened_probs = p3d.flatten()\n",
    "grid_points = np.array(np.meshgrid(x_vals, y_vals, z_vals, indexing='ij')).reshape(3, -1).T\n",
    "\n",
    "# Sample points from the distribution\n",
    "num_samples = int(1e5)  # Number of samples you want\n",
    "sample_indices = np.random.choice(len(flattened_probs), size=num_samples, p=flattened_probs)\n",
    "samples = grid_points[sample_indices]\n",
    "\n",
    "samples_1 = samples.copy()\n",
    "\n",
    "\n",
    "\n",
    "# Convert to GetDist format\n",
    "gd_samples = getdist.mcsamples.MCSamples(samples=samples, names=['x', 'y', 'z'],\n",
    "                                         labels=[r'H_0', r'\\L', r'M_{abs}'],\n",
    "                                         settings={'mult_bias_correction_order':0,\n",
    "                                                   'smooth_scale_2D':0.3,\n",
    "                                                   'smooth_scale_1D':0.3}\n",
    "                                         )\n",
    "\n",
    "# Plot using GetDist\n",
    "g = gdplt.get_subplot_plotter()\n",
    "g.triangle_plot([gd_samples], filled=True)\n",
    "g.export(path_data+'triangle_gila_plot_{0}_r={1}_s={2}.pdf'.format(model, r, s))\n",
    "plt.show()"
   ]
  },
  {
   "cell_type": "code",
   "execution_count": 11,
   "metadata": {},
   "outputs": [
    {
     "name": "stdout",
     "output_type": "stream",
     "text": [
      "79.55800408163266\n",
      "2.240853179618717\n",
      "-19.864021428571426\n"
     ]
    },
    {
     "data": {
      "text/plain": [
       "(array([17402.,  2941., 16157.,  4641., 17508.,  2938., 17650.,  3664.,\n",
       "        14730.,  2369.]),\n",
       " array([-21.  , -20.75, -20.5 , -20.25, -20.  , -19.75, -19.5 , -19.25,\n",
       "        -19.  , -18.75, -18.5 ]),\n",
       " <a list of 10 Patch objects>)"
      ]
     },
     "execution_count": 11,
     "metadata": {},
     "output_type": "execute_result"
    },
    {
     "data": {
      "image/png": "[encoded data removed]",
      "text/plain": [
       "<Figure size 432x288 with 1 Axes>"
      ]
     },
     "metadata": {
      "image/png": {
       "height": 247,
       "width": 381
      },
      "needs_background": "light"
     },
     "output_type": "display_data"
    }
   ],
   "source": [
    "print(np.mean(samples[:,0]))\n",
    "print(np.mean(samples[:,1]))\n",
    "print(np.mean(samples[:,2]))\n",
    "plt.hist(samples[:,2])"
   ]
  },
  {
   "cell_type": "markdown",
   "metadata": {},
   "source": [
    "# Confidence intervals "
   ]
  },
  {
   "cell_type": "code",
   "execution_count": 12,
   "metadata": {},
   "outputs": [
    {
     "name": "stdout",
     "output_type": "stream",
     "text": [
      "PG model\n",
      "Exponents: r = 1, s = 3\n",
      "M abs: -19.864021 \\pm 0.712048\n",
      "H0: 79.558004 \\pm 0.364807\n",
      "$\\L$: 2.240853 \\pm 2.755291\n"
     ]
    }
   ],
   "source": [
    "print('PG model')\n",
    "print('Exponents: r = {0}, s = {1}'.format(r,s))\n",
    "print(r'M abs: {0:3f} \\pm {1:3f}'.format(np.mean(samples[:,2]), np.std(samples[:,2])))\n",
    "print(r'H0: {0:3f} \\pm {1:3f}'.format(np.mean(samples[:,0]), np.std(samples[:,0])))\n",
    "print(r'$\\L$: {0:3f} \\pm {1:3f}'.format(np.mean(samples[:,1]), np.std(samples[:,1])))\n"
   ]
  },
  {
   "cell_type": "markdown",
   "metadata": {},
   "source": [
    "# Tension between PPS and CC"
   ]
  },
  {
   "cell_type": "code",
   "execution_count": 34,
   "metadata": {},
   "outputs": [
    {
     "name": "stdout",
     "output_type": "stream",
     "text": [
      "Covariance matrix:\n",
      "[[ 1.33085754e-01  8.56366697e-02 -6.49963246e-03]\n",
      " [ 8.56366697e-02  7.59170460e+00  5.97745914e-03]\n",
      " [-6.49963246e-03  5.97745914e-03  5.07017095e-01]]\n"
     ]
    }
   ],
   "source": [
    "mean_A = np.array([np.mean(samples[:,0]), np.mean(samples[:,1]), np.mean(samples[:,2])])\n",
    "\n",
    "\n",
    "cov_11 = np.cov(samples[:,0], samples[:,0])[0][1]\n",
    "cov_22 = np.cov(samples[:,1], samples[:,1])[0][1]\n",
    "cov_33 = np.cov(samples[:,2], samples[:,2])[0][1]\n",
    "cov_12 = np.cov(samples[:,0], samples[:,1])[0][1]\n",
    "cov_13 = np.cov(samples[:,0], samples[:,2])[0][1]\n",
    "cov_23 = np.cov(samples[:,1], samples[:,2])[0][1]\n",
    "\n",
    "cov_tot_A = np.array([[cov_11, cov_12, cov_13],\n",
    "                      [cov_12, cov_22, cov_23],\n",
    "                      [cov_13, cov_23, cov_33]])\n",
    "print('Covariance matrix:')\n",
    "print(cov_tot_A)\n",
    "mean_B = mean_A\n",
    "cov_tot_B = cov_tot_A\n",
    "\n",
    "delta_theta = mean_A - mean_B\n",
    "cov_tot = cov_tot_A + cov_tot_B"
   ]
  },
  {
   "cell_type": "code",
   "execution_count": null,
   "metadata": {},
   "outputs": [
    {
     "name": "stdout",
     "output_type": "stream",
     "text": [
      "$Q_DM$: 0.0\n",
      "PTE: 1.0\n",
      "n_sigma:     0\n"
     ]
    }
   ],
   "source": [
    "from scipy.stats import chi2\n",
    "from scipy.special import erfinv\n",
    "\n",
    "# Utility function to convert confidence level to sigma level\n",
    "def from_confidence_to_sigma(confidence):\n",
    "    return np.sqrt(2) * erfinv(confidence)\n",
    "\n",
    "A_matrix = np.linalg.inv(cov_tot)\n",
    "alpha = np.dot(delta_theta.T,np.dot(A_matrix, delta_theta)) \\\n",
    "\n",
    "print(r'$Q_DM$: {}'.format(alpha))\n",
    "\n",
    "PTE = chi2.sf(alpha, 3)\n",
    "print('PTE: {}'.format(PTE))\n",
    "\n",
    "n_sigma = from_confidence_to_sigma(1-PTE)\n",
    "print('n_sigma: {:5g}'.format(n_sigma))"
   ]
  }
 ],
 "metadata": {
  "kernelspec": {
   "display_name": "fR-MCMC",
   "language": "python",
   "name": "python3"
  },
  "language_info": {
   "codemirror_mode": {
    "name": "ipython",
    "version": 3
   },
   "file_extension": ".py",
   "mimetype": "text/x-python",
   "name": "python",
   "nbconvert_exporter": "python",
   "pygments_lexer": "ipython3",
   "version": "3.7.6"
  }
 },
 "nbformat": 4,
 "nbformat_minor": 2
}
