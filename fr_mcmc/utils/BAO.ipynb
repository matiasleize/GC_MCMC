{
 "cells": [
  {
   "cell_type": "markdown",
   "metadata": {},
   "source": [
    "Here we test if we can interate $r_{d}$ for the GILA model."
   ]
  },
  {
   "cell_type": "code",
   "execution_count": 1,
   "metadata": {},
   "outputs": [],
   "source": [
    "#Import libraries related to BAO data.\n",
    "import numpy as np\n",
    "from numba import jit\n",
    "from scipy.integrate import solve_ivp\n",
    "from scipy.interpolate import interp1d\n",
    "from scipy.integrate import cumtrapz as cumtrapz\n",
    "from scipy.integrate import simps as simps\n",
    "from scipy.integrate import quad as quad\n",
    "from change_of_parameters import F_H#, omega_luisa_to_CDM\n",
    "\n",
    "from scipy.constants import c as c_light #meters/seconds\n",
    "c_light_km = c_light/1000\n",
    "\n",
    "import time\n",
    "import os\n",
    "import git\n",
    "path_git = git.Repo('.', search_parent_directories=True).working_tree_dir\n",
    "path_datos_global = os.path.dirname(path_git)\n",
    "os.chdir(path_git)\n",
    "os.sys.path.append('./fr_mcmc/utils/')\n",
    "from change_of_parameters import omega_CDM_to_luisa, omega_luisa_to_CDM\n",
    "from LambdaCDM import H_LCDM_rad\n",
    "from solve_sys import F_H_prime\n"
   ]
  },
  {
   "cell_type": "markdown",
   "metadata": {},
   "source": [
    "Lets define some functions for the calculations of the rd for LCDM"
   ]
  },
  {
   "cell_type": "code",
   "execution_count": 2,
   "metadata": {},
   "outputs": [],
   "source": [
    "#Parameters order: omega_m,b,H_0,n\n",
    "\n",
    "def zdrag(omega_m,H_0,wb=0.0225):\n",
    "    '''\n",
    "    wb = 0.0222383 #Planck\n",
    "    wb = 0.0225 #BBN\n",
    "    '''\n",
    "    h = H_0/100\n",
    "    b1 = 0.313*(omega_m*h**2)**(-0.419)*(1+0.607*(omega_m*h**2)**(0.6748))\n",
    "    b2 = 0.238*(omega_m*h**2)**0.223\n",
    "    zd = (1291*(omega_m*h**2)**0.251) * (1+b1*wb**b2) /(1+0.659*(omega_m*h**2)**0.828)\n",
    "    #zd =1060.31\n",
    "    return zd\n",
    "\n",
    "@jit\n",
    "def integrand(z, Om_m_0, H_0, wb):\n",
    "    R_bar = wb * 10**5 / 2.473\n",
    "\n",
    "    Om_r = 4.18343*10**(-5) / (H_0/100)**2\n",
    "    Om_Lambda = 1 - Om_m_0 - Om_r\n",
    "    H = H_0 * ((Om_r * (1 + z)**4 + Om_m_0 * (1 + z)**3 + Om_Lambda) ** (1/2))\n",
    "    return c_light_km/(H * (3*(1 + R_bar*(1+z)**(-1)))**(1/2))\n",
    "\n",
    "\n",
    "def r_drag_lcdm(omega_m,H_0,wb = 0.0225, int_z=True): #wb of BBN as default.\n",
    "    #rd calculation:\n",
    "    h = H_0/100\n",
    "    zd = zdrag(omega_m,H_0)\n",
    "    #R_bar = 31500 * wb * (2.726/2.7)**(-4)\n",
    "    R_bar = wb * 10**5 / 2.473\n",
    "\n",
    "    #zd calculation:\n",
    "    zd = zdrag(omega_m, H_0)\n",
    "    # zd = 1000\n",
    "    R_bar = wb * 10**5 / 2.473\n",
    "\n",
    "    rd_log, _ = quad(lambda z: integrand(z, omega_m, H_0, wb), zd, np.inf)\n",
    "\n",
    "    return rd_log\n"
   ]
  },
  {
   "cell_type": "markdown",
   "metadata": {},
   "source": [
    "Now we check that this work:"
   ]
  },
  {
   "cell_type": "code",
   "execution_count": 3,
   "metadata": {},
   "outputs": [
    {
     "name": "stdout",
     "output_type": "stream",
     "text": [
      "144.6910269819528\n"
     ]
    }
   ],
   "source": [
    "H_0 = 70\n",
    "omega_m = 0.3\n",
    "\n",
    "rd_lcdm = r_drag_lcdm(omega_m,H_0,wb = 0.0225)\n",
    "print(rd_lcdm)"
   ]
  },
  {
   "cell_type": "markdown",
   "metadata": {},
   "source": [
    "Now we define extra functions in order to calculate rd from GILA model. First, let's define the ODE for the integration of $\\frac{1}{H} (z)$"
   ]
  },
  {
   "cell_type": "code",
   "execution_count": 27,
   "metadata": {},
   "outputs": [],
   "source": [
    "\n",
    "def get_odes(z, Hubble, params_ode, lcdm=False):\n",
    "    '''\n",
    "    Returns the system of ODEs for the given cosmological model.\n",
    "\n",
    "\n",
    "    Parameters:\n",
    "    -----------\n",
    "    z : float\n",
    "        Redshift value.\n",
    "    variables : list\n",
    "        List of values for the dynamical variables.\n",
    "    physical_params : list\n",
    "        List of model parameters, where the first n-1 elements are the model parameters,\n",
    "        while the last one specifies the cosmological model. Mathematically, this information is contained in\n",
    "        the function Gamma.\n",
    "    model : str, optional\n",
    "        Cosmological model that is being integrated. Defaults to 'HS'.\n",
    "\n",
    "    Returns:\n",
    "    -----------\n",
    "    list\n",
    "        Set of ODEs for the dynamical variables.\n",
    "    '''    \n",
    "    #kappa = 8 * np.pi * G_newton / 3\n",
    "    kappa = 1\n",
    "\n",
    "    [lamb, L, b, L_bar, H_0, omega_m_0] = params_ode\n",
    "\n",
    "\n",
    "    #omega_m_0 = 0.999916 #omega_m_0 es el de Luisa\n",
    "    omega_r_0 = 1 - omega_m_0\n",
    "\n",
    "    F_H0 = F_H(H_0, [lamb, L, b, L_bar])\n",
    "\n",
    "    if lcdm == True:\n",
    "        rho_crit_0 = H_0**2 / kappa        \n",
    "    else:\n",
    "        rho_crit_0 = F_H0 / kappa\n",
    "    #print(omega_m_0,F_H0,rho_crit_0)\n",
    "    a = 1/(1+z)\n",
    "\n",
    "    rho_r = rho_crit_0 * omega_r_0 * a**(-4)\n",
    "    rho_m = rho_crit_0 * omega_m_0 * a**(-3)\n",
    "    rho_tot =  rho_r + rho_m \n",
    "    p_tot =  (1/3) * rho_r\n",
    "\n",
    "    # To integrate in z\n",
    "    s =  3 * kappa * (rho_tot + p_tot/c_light_km**2) / ((1+z)*F_H_prime(Hubble, [lamb, L, b, L_bar]))     \n",
    "    #print(s)\n",
    "    return s\n",
    "\n",
    "\n",
    "def integrator_GILA(physical_params, num_z_points=int(10**5),\n",
    "                initial_z=0, final_z=3,\n",
    "                system_equations=get_odes, verbose=False,\n",
    "                method='RK45', rtol=1e-11, atol=1e-16):\n",
    " \n",
    "    t1 = time.time()\n",
    "    \n",
    "    L_bar, b, H0, omega_m_luisa = physical_params\n",
    "    zs_int = np.linspace(initial_z, final_z, num_z_points)\n",
    "    ode_params = [0, 1e-27/H0, b, L_bar/H0, H0, omega_m_luisa]\n",
    "    sol = solve_ivp(system_equations, (initial_z,final_z),\n",
    "                    [H0], t_eval=zs_int, args = [ode_params],\n",
    "                    rtol=rtol, atol=atol, method=method)\n",
    "        \n",
    "\n",
    "    #assert len(sol.t)==num_z_points, 'Something is wrong with the integration!'\n",
    "    #assert np.all(zs_int==sol.t), 'Not all the values of z coincide with the ones that were required!'\n",
    "\n",
    "    # Calculate the Hubble parameter\n",
    "    zs_final = sol.t\n",
    "    Hs_final = sol.y[0]\n",
    "\n",
    "    t2 = time.time()\n",
    "\n",
    "    if verbose == True:\n",
    "        print('Duration: {} minutes and {} seconds'.format(int((t2-t1)/60),\n",
    "                int((t2-t1) - 60*int((t2-t1)/60))))\n",
    "\n",
    "    return zs_final, Hs_final\n",
    "\n",
    "def get_odes_inv(z, Hubble, params_ode, lcdm=False):\n",
    "    '''\n",
    "    Returns the system of ODEs for the given cosmological model.\n",
    "\n",
    "\n",
    "    Parameters:\n",
    "    -----------\n",
    "    z : float\n",
    "        Redshift value.\n",
    "    variables : list\n",
    "        List of values for the dynamical variables.\n",
    "    physical_params : list\n",
    "        List of model parameters, where the first n-1 elements are the model parameters,\n",
    "        while the last one specifies the cosmological model. Mathematically, this information is contained in\n",
    "        the function Gamma.\n",
    "    model : str, optional\n",
    "        Cosmological model that is being integrated. Defaults to 'HS'.\n",
    "\n",
    "    Returns:\n",
    "    -----------\n",
    "    list\n",
    "        Set of ODEs for the dynamical variables.\n",
    "    '''    \n",
    "    #kappa = 8 * np.pi * G_newton / 3\n",
    "    kappa = 1\n",
    "\n",
    "    [lamb, L, b, L_bar, H_0, omega_m_0] = params_ode\n",
    "\n",
    "\n",
    "    #omega_m_0 = 0.999916 #omega_m_0 es el de Luisa\n",
    "    omega_r_0 = 1 - omega_m_0\n",
    "\n",
    "    F_H0 = F_H(H_0, [lamb, L, b, L_bar])\n",
    "\n",
    "    if lcdm == True:\n",
    "        rho_crit_0 = H_0**2 / kappa        \n",
    "    else:\n",
    "        rho_crit_0 = F_H0 / kappa\n",
    "    #print(omega_m_0,F_H0,rho_crit_0)\n",
    "    a = 1/(1+z)\n",
    "\n",
    "    rho_r = rho_crit_0 * omega_r_0 * a**(-4)\n",
    "    rho_m = rho_crit_0 * omega_m_0 * a**(-3)\n",
    "    rho_tot =  rho_r + rho_m \n",
    "    p_tot =  (1/3) * rho_r\n",
    "\n",
    "    # To integrate in z\n",
    "    s =   - 3 * kappa * (rho_tot + p_tot/c_light_km**2) / ((1+z)*(Hubble**2)*F_H_prime(Hubble, [lamb, L, b, L_bar]))     \n",
    "    #print(s)\n",
    "    return s\n",
    "\n",
    "\n",
    "def integrator_GILA_inv(physical_params, num_z_points=int(10**5),\n",
    "                initial_z=0, final_z=3,\n",
    "                system_equations=get_odes_inv, verbose=False,\n",
    "                method='RK45', rtol=1e-11, atol=1e-16):\n",
    " \n",
    "    t1 = time.time()\n",
    "    \n",
    "    L_bar, b, H0, omega_m_luisa = physical_params\n",
    "    \n",
    "    zs_int = np.linspace(initial_z, final_z, num_z_points)\n",
    "\n",
    "    ode_params = [0, 1e-27/H0, b, L_bar/H0, H0, omega_m_luisa]\n",
    "\n",
    "    sol = solve_ivp(system_equations, (initial_z,final_z),\n",
    "                    [1/H0], t_eval=zs_int, args = [ode_params],\n",
    "                    rtol=rtol, atol=atol, method=method)\n",
    "        \n",
    "    # Calculate the Hubble parameter\n",
    "    zs_final = sol.t\n",
    "    Hs_final_inv = sol.y[0]\n",
    "\n",
    "    t2 = time.time()\n",
    "\n",
    "    if verbose == True:\n",
    "        print('Duration: {} minutes and {} seconds'.format(int((t2-t1)/60),\n",
    "                int((t2-t1) - 60*int((t2-t1)/60))))\n",
    "\n",
    "    return zs_final, Hs_final_inv\n",
    "\n"
   ]
  },
  {
   "cell_type": "code",
   "execution_count": 24,
   "metadata": {},
   "outputs": [
    {
     "name": "stdout",
     "output_type": "stream",
     "text": [
      "[0.00000000e+00 4.00000400e-06 8.00000800e-06 ... 2.23800224e-02\n",
      " 2.23840224e-02 2.23880224e-02] [70.         69.99960301 69.99920598 ... 65.08771303 65.05739785\n",
      " 64.99833047]\n",
      "[0.000000e+00 4.000004e-06 8.000008e-06 ... 3.999992e+00 3.999996e+00\n",
      " 4.000000e+00] [1.42857143e-02 5.23182550e-01 6.22173447e-01 ... 4.47425484e+01\n",
      " 4.47425865e+01 4.47426246e+01]\n"
     ]
    },
    {
     "data": {
      "text/plain": [
       "'\\n@jit\\ndef integrand_GILA(z, wb):\\n    R_bar = wb * 10**5 / 2.473\\n    aux = interp1d(zs_model, Hs_inv_model)\\n    H_inv = aux(z)\\n    return H_inv * c_light_km/((3*(1 + R_bar*(1+z)**(-1)))**(1/2))\\n\\n\\ndef r_drag_GILA(omega_m,H_0,wb = 0.0225, int_z=True): #wb of BBN as default.\\n    zd = zdrag(omega_m, H_0)\\n    rd, _ = quad(lambda z: integrand_GILA(z, wb), zd, int(10e4))\\n    return rd\\n\\n#print(r_drag_GILA(omega_m, H_0, wb = 0.0225, int_z=True))\\n'"
      ]
     },
     "execution_count": 24,
     "metadata": {},
     "output_type": "execute_result"
    }
   ],
   "source": [
    "L_bar = 0.75\n",
    "b = 2\n",
    "omega_m_luisa = omega_CDM_to_luisa(b, L_bar, H_0, omega_m)\n",
    " \n",
    "\n",
    "physical_params = [L_bar,b,H_0,omega_m_luisa]\n",
    "\n",
    "\n",
    "zs_model, Hs_model = integrator_GILA(physical_params, num_z_points=int(10e5), initial_z = 0, final_z=int(4))\n",
    "print(zs_model, Hs_model)\n",
    "\n",
    "zs_model_inv, Hs_inv_model = integrator_GILA_inv(physical_params, num_z_points=int(10e5), initial_z = 0, final_z=int(4))\n",
    "print(zs_model_inv, Hs_inv_model)\n",
    "\n",
    "\n",
    "\n",
    "'''\n",
    "@jit\n",
    "def integrand_GILA(z, wb):\n",
    "    R_bar = wb * 10**5 / 2.473\n",
    "    aux = interp1d(zs_model, Hs_inv_model)\n",
    "    H_inv = aux(z)\n",
    "    return H_inv * c_light_km/((3*(1 + R_bar*(1+z)**(-1)))**(1/2))\n",
    "\n",
    "\n",
    "def r_drag_GILA(omega_m,H_0,wb = 0.0225, int_z=True): #wb of BBN as default.\n",
    "    zd = zdrag(omega_m, H_0)\n",
    "    rd, _ = quad(lambda z: integrand_GILA(z, wb), zd, int(10e4))\n",
    "    return rd\n",
    "\n",
    "#print(r_drag_GILA(omega_m, H_0, wb = 0.0225, int_z=True))\n",
    "'''"
   ]
  },
  {
   "cell_type": "markdown",
   "metadata": {},
   "source": [
    "Finally, lets compare results"
   ]
  },
  {
   "cell_type": "code",
   "execution_count": 26,
   "metadata": {},
   "outputs": [
    {
     "data": {
      "text/plain": [
       "[<matplotlib.lines.Line2D at 0x7fad25a4c150>]"
      ]
     },
     "execution_count": 26,
     "metadata": {},
     "output_type": "execute_result"
    },
    {
     "data": {
      "image/png": "[encoded data removed]",
      "text/plain": [
       "<Figure size 432x288 with 1 Axes>"
      ]
     },
     "metadata": {
      "needs_background": "light"
     },
     "output_type": "display_data"
    }
   ],
   "source": [
    "from matplotlib import pyplot as plt\n",
    "plt.plot(zs_model, Hs_model)\n",
    "plt.plot(zs_model_inv, (Hs_inv_model)**(-1))"
   ]
  },
  {
   "cell_type": "code",
   "execution_count": 7,
   "metadata": {},
   "outputs": [
    {
     "name": "stdout",
     "output_type": "stream",
     "text": [
      "144.6910269819528\n"
     ]
    },
    {
     "name": "stderr",
     "output_type": "stream",
     "text": [
      "/tmp/ipykernel_23986/2290218277.py:25: NumbaWarning: \n",
      "Compilation is falling back to object mode WITH looplifting enabled because Function \"integrand_GILA\" failed type inference due to: Untyped global name 'interp1d': Cannot determine Numba type of <class 'type'>\n",
      "\n",
      "File \"../../../../../tmp/ipykernel_23986/2290218277.py\", line 31:\n",
      "<source missing, REPL/exec in use?>\n",
      "\n",
      "  @jit\n",
      "/home/matias/.local/lib/python3.7/site-packages/numba/core/object_mode_passes.py:152: NumbaWarning: Function \"integrand_GILA\" was compiled in object mode without forceobj=True.\n",
      "\n",
      "File \"../../../../../tmp/ipykernel_23986/2290218277.py\", line 25:\n",
      "<source missing, REPL/exec in use?>\n",
      "\n",
      "  state.func_ir.loc))\n",
      "/home/matias/.local/lib/python3.7/site-packages/numba/core/object_mode_passes.py:162: NumbaDeprecationWarning: \n",
      "Fall-back from the nopython compilation path to the object mode compilation path has been detected, this is deprecated behaviour.\n",
      "\n",
      "For more information visit https://numba.pydata.org/numba-doc/latest/reference/deprecation.html#deprecation-of-object-mode-fall-back-behaviour-when-using-jit\n",
      "\n",
      "File \"../../../../../tmp/ipykernel_23986/2290218277.py\", line 25:\n",
      "<source missing, REPL/exec in use?>\n",
      "\n",
      "  state.func_ir.loc))\n"
     ]
    },
    {
     "ename": "ValueError",
     "evalue": "A value in x_new is above the interpolation range.",
     "output_type": "error",
     "traceback": [
      "\u001b[0;31m---------------------------------------------------------------------------\u001b[0m",
      "\u001b[0;31mValueError\u001b[0m                                Traceback (most recent call last)",
      "\u001b[0;32m/tmp/ipykernel_23986/2290218277.py\u001b[0m in \u001b[0;36m<module>\u001b[0;34m\u001b[0m\n\u001b[1;32m     52\u001b[0m \u001b[0;34m\u001b[0m\u001b[0m\n\u001b[1;32m     53\u001b[0m \u001b[0;34m\u001b[0m\u001b[0m\n\u001b[0;32m---> 54\u001b[0;31m \u001b[0mprint\u001b[0m\u001b[0;34m(\u001b[0m\u001b[0mr_drag_GILA\u001b[0m\u001b[0;34m(\u001b[0m\u001b[0momega_m\u001b[0m\u001b[0;34m,\u001b[0m\u001b[0mH_0\u001b[0m\u001b[0;34m,\u001b[0m\u001b[0mwb\u001b[0m \u001b[0;34m=\u001b[0m \u001b[0;36m0.0225\u001b[0m\u001b[0;34m,\u001b[0m \u001b[0mint_z\u001b[0m\u001b[0;34m=\u001b[0m\u001b[0;32mTrue\u001b[0m\u001b[0;34m)\u001b[0m\u001b[0;34m)\u001b[0m\u001b[0;34m\u001b[0m\u001b[0;34m\u001b[0m\u001b[0m\n\u001b[0m\u001b[1;32m     55\u001b[0m \u001b[0;34m\u001b[0m\u001b[0m\n",
      "\u001b[0;32m/tmp/ipykernel_23986/2290218277.py\u001b[0m in \u001b[0;36mr_drag_GILA\u001b[0;34m(omega_m, H_0, wb, int_z)\u001b[0m\n\u001b[1;32m     47\u001b[0m     \u001b[0mR_bar\u001b[0m \u001b[0;34m=\u001b[0m \u001b[0mwb\u001b[0m \u001b[0;34m*\u001b[0m \u001b[0;36m10\u001b[0m\u001b[0;34m**\u001b[0m\u001b[0;36m5\u001b[0m \u001b[0;34m/\u001b[0m \u001b[0;36m2.473\u001b[0m\u001b[0;34m\u001b[0m\u001b[0;34m\u001b[0m\u001b[0m\n\u001b[1;32m     48\u001b[0m \u001b[0;34m\u001b[0m\u001b[0m\n\u001b[0;32m---> 49\u001b[0;31m     \u001b[0mrd_log\u001b[0m\u001b[0;34m,\u001b[0m \u001b[0m_\u001b[0m \u001b[0;34m=\u001b[0m \u001b[0mquad\u001b[0m\u001b[0;34m(\u001b[0m\u001b[0;32mlambda\u001b[0m \u001b[0mz\u001b[0m\u001b[0;34m:\u001b[0m \u001b[0mintegrand_GILA\u001b[0m\u001b[0;34m(\u001b[0m\u001b[0mz\u001b[0m\u001b[0;34m,\u001b[0m \u001b[0momega_m\u001b[0m\u001b[0;34m,\u001b[0m \u001b[0mH_0\u001b[0m\u001b[0;34m,\u001b[0m \u001b[0mwb\u001b[0m\u001b[0;34m)\u001b[0m\u001b[0;34m,\u001b[0m \u001b[0mzd\u001b[0m\u001b[0;34m,\u001b[0m \u001b[0mnp\u001b[0m\u001b[0;34m.\u001b[0m\u001b[0minf\u001b[0m\u001b[0;34m)\u001b[0m\u001b[0;34m\u001b[0m\u001b[0;34m\u001b[0m\u001b[0m\n\u001b[0m\u001b[1;32m     50\u001b[0m \u001b[0;34m\u001b[0m\u001b[0m\n\u001b[1;32m     51\u001b[0m     \u001b[0;32mreturn\u001b[0m \u001b[0mrd_log\u001b[0m\u001b[0;34m\u001b[0m\u001b[0;34m\u001b[0m\u001b[0m\n",
      "\u001b[0;32m~/anaconda3/envs/fR-MCMC/lib/python3.7/site-packages/scipy/integrate/quadpack.py\u001b[0m in \u001b[0;36mquad\u001b[0;34m(func, a, b, args, full_output, epsabs, epsrel, limit, points, weight, wvar, wopts, maxp1, limlst)\u001b[0m\n\u001b[1;32m    350\u001b[0m     \u001b[0;32mif\u001b[0m \u001b[0mweight\u001b[0m \u001b[0;32mis\u001b[0m \u001b[0;32mNone\u001b[0m\u001b[0;34m:\u001b[0m\u001b[0;34m\u001b[0m\u001b[0;34m\u001b[0m\u001b[0m\n\u001b[1;32m    351\u001b[0m         retval = _quad(func, a, b, args, full_output, epsabs, epsrel, limit,\n\u001b[0;32m--> 352\u001b[0;31m                        points)\n\u001b[0m\u001b[1;32m    353\u001b[0m     \u001b[0;32melse\u001b[0m\u001b[0;34m:\u001b[0m\u001b[0;34m\u001b[0m\u001b[0;34m\u001b[0m\u001b[0m\n\u001b[1;32m    354\u001b[0m         \u001b[0;32mif\u001b[0m \u001b[0mpoints\u001b[0m \u001b[0;32mis\u001b[0m \u001b[0;32mnot\u001b[0m \u001b[0;32mNone\u001b[0m\u001b[0;34m:\u001b[0m\u001b[0;34m\u001b[0m\u001b[0;34m\u001b[0m\u001b[0m\n",
      "\u001b[0;32m~/anaconda3/envs/fR-MCMC/lib/python3.7/site-packages/scipy/integrate/quadpack.py\u001b[0m in \u001b[0;36m_quad\u001b[0;34m(func, a, b, args, full_output, epsabs, epsrel, limit, points)\u001b[0m\n\u001b[1;32m    463\u001b[0m             \u001b[0;32mreturn\u001b[0m \u001b[0m_quadpack\u001b[0m\u001b[0;34m.\u001b[0m\u001b[0m_qagse\u001b[0m\u001b[0;34m(\u001b[0m\u001b[0mfunc\u001b[0m\u001b[0;34m,\u001b[0m\u001b[0ma\u001b[0m\u001b[0;34m,\u001b[0m\u001b[0mb\u001b[0m\u001b[0;34m,\u001b[0m\u001b[0margs\u001b[0m\u001b[0;34m,\u001b[0m\u001b[0mfull_output\u001b[0m\u001b[0;34m,\u001b[0m\u001b[0mepsabs\u001b[0m\u001b[0;34m,\u001b[0m\u001b[0mepsrel\u001b[0m\u001b[0;34m,\u001b[0m\u001b[0mlimit\u001b[0m\u001b[0;34m)\u001b[0m\u001b[0;34m\u001b[0m\u001b[0;34m\u001b[0m\u001b[0m\n\u001b[1;32m    464\u001b[0m         \u001b[0;32melse\u001b[0m\u001b[0;34m:\u001b[0m\u001b[0;34m\u001b[0m\u001b[0;34m\u001b[0m\u001b[0m\n\u001b[0;32m--> 465\u001b[0;31m             \u001b[0;32mreturn\u001b[0m \u001b[0m_quadpack\u001b[0m\u001b[0;34m.\u001b[0m\u001b[0m_qagie\u001b[0m\u001b[0;34m(\u001b[0m\u001b[0mfunc\u001b[0m\u001b[0;34m,\u001b[0m\u001b[0mbound\u001b[0m\u001b[0;34m,\u001b[0m\u001b[0minfbounds\u001b[0m\u001b[0;34m,\u001b[0m\u001b[0margs\u001b[0m\u001b[0;34m,\u001b[0m\u001b[0mfull_output\u001b[0m\u001b[0;34m,\u001b[0m\u001b[0mepsabs\u001b[0m\u001b[0;34m,\u001b[0m\u001b[0mepsrel\u001b[0m\u001b[0;34m,\u001b[0m\u001b[0mlimit\u001b[0m\u001b[0;34m)\u001b[0m\u001b[0;34m\u001b[0m\u001b[0;34m\u001b[0m\u001b[0m\n\u001b[0m\u001b[1;32m    466\u001b[0m     \u001b[0;32melse\u001b[0m\u001b[0;34m:\u001b[0m\u001b[0;34m\u001b[0m\u001b[0;34m\u001b[0m\u001b[0m\n\u001b[1;32m    467\u001b[0m         \u001b[0;32mif\u001b[0m \u001b[0minfbounds\u001b[0m \u001b[0;34m!=\u001b[0m \u001b[0;36m0\u001b[0m\u001b[0;34m:\u001b[0m\u001b[0;34m\u001b[0m\u001b[0;34m\u001b[0m\u001b[0m\n",
      "\u001b[0;32m/tmp/ipykernel_23986/2290218277.py\u001b[0m in \u001b[0;36m<lambda>\u001b[0;34m(z)\u001b[0m\n\u001b[1;32m     47\u001b[0m     \u001b[0mR_bar\u001b[0m \u001b[0;34m=\u001b[0m \u001b[0mwb\u001b[0m \u001b[0;34m*\u001b[0m \u001b[0;36m10\u001b[0m\u001b[0;34m**\u001b[0m\u001b[0;36m5\u001b[0m \u001b[0;34m/\u001b[0m \u001b[0;36m2.473\u001b[0m\u001b[0;34m\u001b[0m\u001b[0;34m\u001b[0m\u001b[0m\n\u001b[1;32m     48\u001b[0m \u001b[0;34m\u001b[0m\u001b[0m\n\u001b[0;32m---> 49\u001b[0;31m     \u001b[0mrd_log\u001b[0m\u001b[0;34m,\u001b[0m \u001b[0m_\u001b[0m \u001b[0;34m=\u001b[0m \u001b[0mquad\u001b[0m\u001b[0;34m(\u001b[0m\u001b[0;32mlambda\u001b[0m \u001b[0mz\u001b[0m\u001b[0;34m:\u001b[0m \u001b[0mintegrand_GILA\u001b[0m\u001b[0;34m(\u001b[0m\u001b[0mz\u001b[0m\u001b[0;34m,\u001b[0m \u001b[0momega_m\u001b[0m\u001b[0;34m,\u001b[0m \u001b[0mH_0\u001b[0m\u001b[0;34m,\u001b[0m \u001b[0mwb\u001b[0m\u001b[0;34m)\u001b[0m\u001b[0;34m,\u001b[0m \u001b[0mzd\u001b[0m\u001b[0;34m,\u001b[0m \u001b[0mnp\u001b[0m\u001b[0;34m.\u001b[0m\u001b[0minf\u001b[0m\u001b[0;34m)\u001b[0m\u001b[0;34m\u001b[0m\u001b[0;34m\u001b[0m\u001b[0m\n\u001b[0m\u001b[1;32m     50\u001b[0m \u001b[0;34m\u001b[0m\u001b[0m\n\u001b[1;32m     51\u001b[0m     \u001b[0;32mreturn\u001b[0m \u001b[0mrd_log\u001b[0m\u001b[0;34m\u001b[0m\u001b[0;34m\u001b[0m\u001b[0m\n",
      "\u001b[0;32m~/anaconda3/envs/fR-MCMC/lib/python3.7/site-packages/scipy/interpolate/polyint.py\u001b[0m in \u001b[0;36m__call__\u001b[0;34m(self, x)\u001b[0m\n\u001b[1;32m     72\u001b[0m         \"\"\"\n\u001b[1;32m     73\u001b[0m         \u001b[0mx\u001b[0m\u001b[0;34m,\u001b[0m \u001b[0mx_shape\u001b[0m \u001b[0;34m=\u001b[0m \u001b[0mself\u001b[0m\u001b[0;34m.\u001b[0m\u001b[0m_prepare_x\u001b[0m\u001b[0;34m(\u001b[0m\u001b[0mx\u001b[0m\u001b[0;34m)\u001b[0m\u001b[0;34m\u001b[0m\u001b[0;34m\u001b[0m\u001b[0m\n\u001b[0;32m---> 74\u001b[0;31m         \u001b[0my\u001b[0m \u001b[0;34m=\u001b[0m \u001b[0mself\u001b[0m\u001b[0;34m.\u001b[0m\u001b[0m_evaluate\u001b[0m\u001b[0;34m(\u001b[0m\u001b[0mx\u001b[0m\u001b[0;34m)\u001b[0m\u001b[0;34m\u001b[0m\u001b[0;34m\u001b[0m\u001b[0m\n\u001b[0m\u001b[1;32m     75\u001b[0m         \u001b[0;32mreturn\u001b[0m \u001b[0mself\u001b[0m\u001b[0;34m.\u001b[0m\u001b[0m_finish_y\u001b[0m\u001b[0;34m(\u001b[0m\u001b[0my\u001b[0m\u001b[0;34m,\u001b[0m \u001b[0mx_shape\u001b[0m\u001b[0;34m)\u001b[0m\u001b[0;34m\u001b[0m\u001b[0;34m\u001b[0m\u001b[0m\n\u001b[1;32m     76\u001b[0m \u001b[0;34m\u001b[0m\u001b[0m\n",
      "\u001b[0;32m~/anaconda3/envs/fR-MCMC/lib/python3.7/site-packages/scipy/interpolate/interpolate.py\u001b[0m in \u001b[0;36m_evaluate\u001b[0;34m(self, x_new)\u001b[0m\n\u001b[1;32m    657\u001b[0m         \u001b[0my_new\u001b[0m \u001b[0;34m=\u001b[0m \u001b[0mself\u001b[0m\u001b[0;34m.\u001b[0m\u001b[0m_call\u001b[0m\u001b[0;34m(\u001b[0m\u001b[0mself\u001b[0m\u001b[0;34m,\u001b[0m \u001b[0mx_new\u001b[0m\u001b[0;34m)\u001b[0m\u001b[0;34m\u001b[0m\u001b[0;34m\u001b[0m\u001b[0m\n\u001b[1;32m    658\u001b[0m         \u001b[0;32mif\u001b[0m \u001b[0;32mnot\u001b[0m \u001b[0mself\u001b[0m\u001b[0;34m.\u001b[0m\u001b[0m_extrapolate\u001b[0m\u001b[0;34m:\u001b[0m\u001b[0;34m\u001b[0m\u001b[0;34m\u001b[0m\u001b[0m\n\u001b[0;32m--> 659\u001b[0;31m             \u001b[0mbelow_bounds\u001b[0m\u001b[0;34m,\u001b[0m \u001b[0mabove_bounds\u001b[0m \u001b[0;34m=\u001b[0m \u001b[0mself\u001b[0m\u001b[0;34m.\u001b[0m\u001b[0m_check_bounds\u001b[0m\u001b[0;34m(\u001b[0m\u001b[0mx_new\u001b[0m\u001b[0;34m)\u001b[0m\u001b[0;34m\u001b[0m\u001b[0;34m\u001b[0m\u001b[0m\n\u001b[0m\u001b[1;32m    660\u001b[0m             \u001b[0;32mif\u001b[0m \u001b[0mlen\u001b[0m\u001b[0;34m(\u001b[0m\u001b[0my_new\u001b[0m\u001b[0;34m)\u001b[0m \u001b[0;34m>\u001b[0m \u001b[0;36m0\u001b[0m\u001b[0;34m:\u001b[0m\u001b[0;34m\u001b[0m\u001b[0;34m\u001b[0m\u001b[0m\n\u001b[1;32m    661\u001b[0m                 \u001b[0;31m# Note fill_value must be broadcast up to the proper size\u001b[0m\u001b[0;34m\u001b[0m\u001b[0;34m\u001b[0m\u001b[0;34m\u001b[0m\u001b[0m\n",
      "\u001b[0;32m~/anaconda3/envs/fR-MCMC/lib/python3.7/site-packages/scipy/interpolate/interpolate.py\u001b[0m in \u001b[0;36m_check_bounds\u001b[0;34m(self, x_new)\u001b[0m\n\u001b[1;32m    689\u001b[0m                              \"range.\")\n\u001b[1;32m    690\u001b[0m         \u001b[0;32mif\u001b[0m \u001b[0mself\u001b[0m\u001b[0;34m.\u001b[0m\u001b[0mbounds_error\u001b[0m \u001b[0;32mand\u001b[0m \u001b[0mabove_bounds\u001b[0m\u001b[0;34m.\u001b[0m\u001b[0many\u001b[0m\u001b[0;34m(\u001b[0m\u001b[0;34m)\u001b[0m\u001b[0;34m:\u001b[0m\u001b[0;34m\u001b[0m\u001b[0;34m\u001b[0m\u001b[0m\n\u001b[0;32m--> 691\u001b[0;31m             raise ValueError(\"A value in x_new is above the interpolation \"\n\u001b[0m\u001b[1;32m    692\u001b[0m                              \"range.\")\n\u001b[1;32m    693\u001b[0m \u001b[0;34m\u001b[0m\u001b[0m\n",
      "\u001b[0;31mValueError\u001b[0m: A value in x_new is above the interpolation range."
     ]
    }
   ],
   "source": [
    "import os\n",
    "import git\n",
    "path_git = git.Repo('.', search_parent_directories=True).working_tree_dir\n",
    "\n",
    "os.chdir(path_git); os.sys.path.append('./fr_mcmc/utils/')\n",
    "from change_of_parameters import omega_CDM_to_luisa, omega_luisa_to_CDM\n",
    "from solve_sys import Hubble_th\n",
    "\n",
    "L_bar = 0.75\n",
    "b = 2\n",
    "H_0 = 70\n",
    "\n",
    "#omega_m_luisa = 0.9999 + 10**(-5) * omega_m_luisa\n",
    "#omega_m = omega_luisa_to_CDM(b,L_bar,H_0,omega_m_luisa)\n",
    "omega_m = 0.3\n",
    "omega_m_luisa = omega_CDM_to_luisa(b, L_bar, H_0, omega_m)\n",
    "\n",
    "rd = r_drag_lcdm(omega_m,H_0,wb = 0.0225)\n",
    "\n",
    "physical_params = [L_bar,b,H_0,omega_m_luisa]\n",
    "zs_model, Hs_model = Hubble_th(physical_params, model='GILA',\n",
    "                            z_min= zdrag(omega_m,H_0), z_max=np.inf)\n",
    "print(rd)\n",
    "\n",
    "@jit\n",
    "def integrand_GILA(z, Om_m_0, H_0, wb):\n",
    "    R_bar = wb * 10**5 / 2.473\n",
    "\n",
    "    Om_r = 4.18343*10**(-5) / (H_0/100)**2\n",
    "    Om_Lambda = 1 - Om_m_0 - Om_r\n",
    "    aux = interp1d(zs_model, Hs_model)\n",
    "    H = aux(z)\n",
    "    #H = H_0 * ((Om_r * (1 + z)**4 + Om_m_0 * (1 + z)**3 + Om_Lambda) ** (1/2))\n",
    "    return c_light_km/(H * (3*(1 + R_bar*(1+z)**(-1)))**(1/2))\n",
    "\n",
    "\n",
    "def r_drag_GILA(omega_m,H_0,wb = 0.0225, int_z=True): #wb of BBN as default.\n",
    "    #rd calculation:\n",
    "    h = H_0/100\n",
    "    zd = zdrag(omega_m,H_0)\n",
    "    #R_bar = 31500 * wb * (2.726/2.7)**(-4)\n",
    "    R_bar = wb * 10**5 / 2.473\n",
    "\n",
    "    #zd calculation:\n",
    "    zd = zdrag(omega_m, H_0)\n",
    "    # zd = 1000\n",
    "    R_bar = wb * 10**5 / 2.473\n",
    "\n",
    "    rd_log, _ = quad(lambda z: integrand_GILA(z, omega_m, H_0, wb), zd, np.inf)\n",
    "\n",
    "    return rd_log\n",
    "\n",
    "\n",
    "print(r_drag_GILA(omega_m,H_0,wb = 0.0225, int_z=True))\n",
    "\n"
   ]
  }
 ],
 "metadata": {
  "kernelspec": {
   "display_name": "Python 3.7.6 ('fR-MCMC')",
   "language": "python",
   "name": "python3"
  },
  "language_info": {
   "codemirror_mode": {
    "name": "ipython",
    "version": 3
   },
   "file_extension": ".py",
   "mimetype": "text/x-python",
   "name": "python",
   "nbconvert_exporter": "python",
   "pygments_lexer": "ipython3",
   "version": "3.7.6"
  },
  "orig_nbformat": 4,
  "vscode": {
   "interpreter": {
    "hash": "b0d0d2f9c3a81af5a62a94ddaf3d34d9729ca5245802a6c31b54c782d462cc4a"
   }
  }
 },
 "nbformat": 4,
 "nbformat_minor": 2
}
