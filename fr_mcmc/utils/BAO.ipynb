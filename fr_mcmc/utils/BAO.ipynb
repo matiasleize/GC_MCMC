{
 "cells": [
  {
   "cell_type": "markdown",
   "metadata": {},
   "source": [
    "Here we test if we can interate $r_{d}$ for the GILA model."
   ]
  },
  {
   "cell_type": "code",
   "execution_count": 11,
   "metadata": {},
   "outputs": [],
   "source": [
    "#Import libraries related to BAO data.\n",
    "import numpy as np\n",
    "from numba import jit\n",
    "from scipy.interpolate import interp1d\n",
    "from scipy.integrate import cumtrapz as cumtrapz\n",
    "from scipy.integrate import simps as simps\n",
    "from scipy.integrate import quad as quad\n",
    "\n",
    "from scipy.constants import c as c_luz #meters/seconds\n",
    "c_luz_km = c_luz/1000\n",
    "\n",
    "import os\n",
    "import git\n",
    "path_git = git.Repo('.', search_parent_directories=True).working_tree_dir\n",
    "path_datos_global = os.path.dirname(path_git)\n",
    "os.chdir(path_git)\n",
    "os.sys.path.append('./fr_mcmc/utils/')\n",
    "from change_of_parameters import omega_CDM_to_luisa, omega_luisa_to_CDM\n",
    "from LambdaCDM import H_LCDM_rad\n",
    "from solve_sys import Hubble_th, integrator\n"
   ]
  },
  {
   "cell_type": "markdown",
   "metadata": {},
   "source": [
    "Lets define some functions for the calculations of the rd for LCDM"
   ]
  },
  {
   "cell_type": "code",
   "execution_count": null,
   "metadata": {},
   "outputs": [],
   "source": [
    "#Parameters order: omega_m,b,H_0,n\n",
    "\n",
    "def zdrag(omega_m,H_0,wb=0.0225):\n",
    "    '''\n",
    "    wb = 0.0222383 #Planck\n",
    "    wb = 0.0225 #BBN\n",
    "    '''\n",
    "    h = H_0/100\n",
    "    b1 = 0.313*(omega_m*h**2)**(-0.419)*(1+0.607*(omega_m*h**2)**(0.6748))\n",
    "    b2 = 0.238*(omega_m*h**2)**0.223\n",
    "    zd = (1291*(omega_m*h**2)**0.251) * (1+b1*wb**b2) /(1+0.659*(omega_m*h**2)**0.828)\n",
    "    #zd =1060.31\n",
    "    return zd\n",
    "\n",
    "@jit\n",
    "def integrand(z, Om_m_0, H_0, wb):\n",
    "    R_bar = wb * 10**5 / 2.473\n",
    "\n",
    "    Om_r = 4.18343*10**(-5) / (H_0/100)**2\n",
    "    Om_Lambda = 1 - Om_m_0 - Om_r\n",
    "    H = H_0 * ((Om_r * (1 + z)**4 + Om_m_0 * (1 + z)**3 + Om_Lambda) ** (1/2))\n",
    "    return c_luz_km/(H * (3*(1 + R_bar*(1+z)**(-1)))**(1/2))\n",
    "\n",
    "\n",
    "def r_drag_lcdm(omega_m,H_0,wb = 0.0225, int_z=True): #wb of BBN as default.\n",
    "    #rd calculation:\n",
    "    h = H_0/100\n",
    "    zd = zdrag(omega_m,H_0)\n",
    "    #R_bar = 31500 * wb * (2.726/2.7)**(-4)\n",
    "    R_bar = wb * 10**5 / 2.473\n",
    "\n",
    "    #zd calculation:\n",
    "    zd = zdrag(omega_m, H_0)\n",
    "    # zd = 1000\n",
    "    R_bar = wb * 10**5 / 2.473\n",
    "\n",
    "    rd_log, _ = quad(lambda z: integrand(z, omega_m, H_0, wb), zd, np.inf)\n",
    "\n",
    "    return rd_log\n"
   ]
  },
  {
   "cell_type": "markdown",
   "metadata": {},
   "source": [
    "Now we check that this work:"
   ]
  },
  {
   "cell_type": "code",
   "execution_count": null,
   "metadata": {},
   "outputs": [],
   "source": [
    "H_0 = 70\n",
    "omega_m = 0.3\n",
    "\n",
    "rd_lcdm = r_drag_lcdm(omega_m,H_0,wb = 0.0225)\n",
    "print(rd_lcdm)"
   ]
  },
  {
   "cell_type": "markdown",
   "metadata": {},
   "source": [
    "Now we define extra functions in order to calculate rd from GILA model"
   ]
  },
  {
   "cell_type": "code",
   "execution_count": 23,
   "metadata": {},
   "outputs": [
    {
     "name": "stdout",
     "output_type": "stream",
     "text": [
      "[1021.25698765] [70.]\n"
     ]
    },
    {
     "name": "stderr",
     "output_type": "stream",
     "text": [
      "/tmp/ipykernel_28001/2626422583.py:12: NumbaWarning: \n",
      "Compilation is falling back to object mode WITH looplifting enabled because Function \"integrand_GILA\" failed type inference due to: Untyped global name 'interp1d': Cannot determine Numba type of <class 'type'>\n",
      "\n",
      "File \"../../../../../tmp/ipykernel_28001/2626422583.py\", line 18:\n",
      "<source missing, REPL/exec in use?>\n",
      "\n",
      "  @jit\n",
      "/home/matias/.local/lib/python3.7/site-packages/numba/core/object_mode_passes.py:152: NumbaWarning: Function \"integrand_GILA\" was compiled in object mode without forceobj=True.\n",
      "\n",
      "File \"../../../../../tmp/ipykernel_28001/2626422583.py\", line 12:\n",
      "<source missing, REPL/exec in use?>\n",
      "\n",
      "  state.func_ir.loc))\n",
      "/home/matias/.local/lib/python3.7/site-packages/numba/core/object_mode_passes.py:162: NumbaDeprecationWarning: \n",
      "Fall-back from the nopython compilation path to the object mode compilation path has been detected, this is deprecated behaviour.\n",
      "\n",
      "For more information visit https://numba.pydata.org/numba-doc/latest/reference/deprecation.html#deprecation-of-object-mode-fall-back-behaviour-when-using-jit\n",
      "\n",
      "File \"../../../../../tmp/ipykernel_28001/2626422583.py\", line 12:\n",
      "<source missing, REPL/exec in use?>\n",
      "\n",
      "  state.func_ir.loc))\n"
     ]
    },
    {
     "ename": "ValueError",
     "evalue": "x and y arrays must have at least 2 entries",
     "output_type": "error",
     "traceback": [
      "\u001b[0;31m---------------------------------------------------------------------------\u001b[0m",
      "\u001b[0;31mValueError\u001b[0m                                Traceback (most recent call last)",
      "\u001b[0;32m/tmp/ipykernel_28001/2626422583.py\u001b[0m in \u001b[0;36m<module>\u001b[0;34m\u001b[0m\n\u001b[1;32m     38\u001b[0m     \u001b[0;32mreturn\u001b[0m \u001b[0mrd_log\u001b[0m\u001b[0;34m\u001b[0m\u001b[0;34m\u001b[0m\u001b[0m\n\u001b[1;32m     39\u001b[0m \u001b[0;34m\u001b[0m\u001b[0m\n\u001b[0;32m---> 40\u001b[0;31m \u001b[0mprint\u001b[0m\u001b[0;34m(\u001b[0m\u001b[0mr_drag_GILA\u001b[0m\u001b[0;34m(\u001b[0m\u001b[0momega_m\u001b[0m\u001b[0;34m,\u001b[0m\u001b[0mH_0\u001b[0m\u001b[0;34m,\u001b[0m\u001b[0mwb\u001b[0m \u001b[0;34m=\u001b[0m \u001b[0;36m0.0225\u001b[0m\u001b[0;34m,\u001b[0m \u001b[0mint_z\u001b[0m\u001b[0;34m=\u001b[0m\u001b[0;32mTrue\u001b[0m\u001b[0;34m)\u001b[0m\u001b[0;34m)\u001b[0m\u001b[0;34m\u001b[0m\u001b[0;34m\u001b[0m\u001b[0m\n\u001b[0m",
      "\u001b[0;32m/tmp/ipykernel_28001/2626422583.py\u001b[0m in \u001b[0;36mr_drag_GILA\u001b[0;34m(omega_m, H_0, wb, int_z)\u001b[0m\n\u001b[1;32m     34\u001b[0m     \u001b[0;31m#R_bar = wb * 10**5 / 2.473\u001b[0m\u001b[0;34m\u001b[0m\u001b[0;34m\u001b[0m\u001b[0;34m\u001b[0m\u001b[0m\n\u001b[1;32m     35\u001b[0m \u001b[0;34m\u001b[0m\u001b[0m\n\u001b[0;32m---> 36\u001b[0;31m     \u001b[0mrd_log\u001b[0m\u001b[0;34m,\u001b[0m \u001b[0m_\u001b[0m \u001b[0;34m=\u001b[0m \u001b[0mquad\u001b[0m\u001b[0;34m(\u001b[0m\u001b[0;32mlambda\u001b[0m \u001b[0mz\u001b[0m\u001b[0;34m:\u001b[0m \u001b[0mintegrand_GILA\u001b[0m\u001b[0;34m(\u001b[0m\u001b[0mz\u001b[0m\u001b[0;34m,\u001b[0m \u001b[0momega_m\u001b[0m\u001b[0;34m,\u001b[0m \u001b[0mH_0\u001b[0m\u001b[0;34m,\u001b[0m \u001b[0mwb\u001b[0m\u001b[0;34m)\u001b[0m\u001b[0;34m,\u001b[0m \u001b[0mzd\u001b[0m\u001b[0;34m,\u001b[0m \u001b[0mnp\u001b[0m\u001b[0;34m.\u001b[0m\u001b[0minf\u001b[0m\u001b[0;34m)\u001b[0m\u001b[0;34m\u001b[0m\u001b[0;34m\u001b[0m\u001b[0m\n\u001b[0m\u001b[1;32m     37\u001b[0m \u001b[0;34m\u001b[0m\u001b[0m\n\u001b[1;32m     38\u001b[0m     \u001b[0;32mreturn\u001b[0m \u001b[0mrd_log\u001b[0m\u001b[0;34m\u001b[0m\u001b[0;34m\u001b[0m\u001b[0m\n",
      "\u001b[0;32m~/anaconda3/envs/fR-MCMC/lib/python3.7/site-packages/scipy/integrate/quadpack.py\u001b[0m in \u001b[0;36mquad\u001b[0;34m(func, a, b, args, full_output, epsabs, epsrel, limit, points, weight, wvar, wopts, maxp1, limlst)\u001b[0m\n\u001b[1;32m    350\u001b[0m     \u001b[0;32mif\u001b[0m \u001b[0mweight\u001b[0m \u001b[0;32mis\u001b[0m \u001b[0;32mNone\u001b[0m\u001b[0;34m:\u001b[0m\u001b[0;34m\u001b[0m\u001b[0;34m\u001b[0m\u001b[0m\n\u001b[1;32m    351\u001b[0m         retval = _quad(func, a, b, args, full_output, epsabs, epsrel, limit,\n\u001b[0;32m--> 352\u001b[0;31m                        points)\n\u001b[0m\u001b[1;32m    353\u001b[0m     \u001b[0;32melse\u001b[0m\u001b[0;34m:\u001b[0m\u001b[0;34m\u001b[0m\u001b[0;34m\u001b[0m\u001b[0m\n\u001b[1;32m    354\u001b[0m         \u001b[0;32mif\u001b[0m \u001b[0mpoints\u001b[0m \u001b[0;32mis\u001b[0m \u001b[0;32mnot\u001b[0m \u001b[0;32mNone\u001b[0m\u001b[0;34m:\u001b[0m\u001b[0;34m\u001b[0m\u001b[0;34m\u001b[0m\u001b[0m\n",
      "\u001b[0;32m~/anaconda3/envs/fR-MCMC/lib/python3.7/site-packages/scipy/integrate/quadpack.py\u001b[0m in \u001b[0;36m_quad\u001b[0;34m(func, a, b, args, full_output, epsabs, epsrel, limit, points)\u001b[0m\n\u001b[1;32m    463\u001b[0m             \u001b[0;32mreturn\u001b[0m \u001b[0m_quadpack\u001b[0m\u001b[0;34m.\u001b[0m\u001b[0m_qagse\u001b[0m\u001b[0;34m(\u001b[0m\u001b[0mfunc\u001b[0m\u001b[0;34m,\u001b[0m\u001b[0ma\u001b[0m\u001b[0;34m,\u001b[0m\u001b[0mb\u001b[0m\u001b[0;34m,\u001b[0m\u001b[0margs\u001b[0m\u001b[0;34m,\u001b[0m\u001b[0mfull_output\u001b[0m\u001b[0;34m,\u001b[0m\u001b[0mepsabs\u001b[0m\u001b[0;34m,\u001b[0m\u001b[0mepsrel\u001b[0m\u001b[0;34m,\u001b[0m\u001b[0mlimit\u001b[0m\u001b[0;34m)\u001b[0m\u001b[0;34m\u001b[0m\u001b[0;34m\u001b[0m\u001b[0m\n\u001b[1;32m    464\u001b[0m         \u001b[0;32melse\u001b[0m\u001b[0;34m:\u001b[0m\u001b[0;34m\u001b[0m\u001b[0;34m\u001b[0m\u001b[0m\n\u001b[0;32m--> 465\u001b[0;31m             \u001b[0;32mreturn\u001b[0m \u001b[0m_quadpack\u001b[0m\u001b[0;34m.\u001b[0m\u001b[0m_qagie\u001b[0m\u001b[0;34m(\u001b[0m\u001b[0mfunc\u001b[0m\u001b[0;34m,\u001b[0m\u001b[0mbound\u001b[0m\u001b[0;34m,\u001b[0m\u001b[0minfbounds\u001b[0m\u001b[0;34m,\u001b[0m\u001b[0margs\u001b[0m\u001b[0;34m,\u001b[0m\u001b[0mfull_output\u001b[0m\u001b[0;34m,\u001b[0m\u001b[0mepsabs\u001b[0m\u001b[0;34m,\u001b[0m\u001b[0mepsrel\u001b[0m\u001b[0;34m,\u001b[0m\u001b[0mlimit\u001b[0m\u001b[0;34m)\u001b[0m\u001b[0;34m\u001b[0m\u001b[0;34m\u001b[0m\u001b[0m\n\u001b[0m\u001b[1;32m    466\u001b[0m     \u001b[0;32melse\u001b[0m\u001b[0;34m:\u001b[0m\u001b[0;34m\u001b[0m\u001b[0;34m\u001b[0m\u001b[0m\n\u001b[1;32m    467\u001b[0m         \u001b[0;32mif\u001b[0m \u001b[0minfbounds\u001b[0m \u001b[0;34m!=\u001b[0m \u001b[0;36m0\u001b[0m\u001b[0;34m:\u001b[0m\u001b[0;34m\u001b[0m\u001b[0;34m\u001b[0m\u001b[0m\n",
      "\u001b[0;32m/tmp/ipykernel_28001/2626422583.py\u001b[0m in \u001b[0;36m<lambda>\u001b[0;34m(z)\u001b[0m\n\u001b[1;32m     34\u001b[0m     \u001b[0;31m#R_bar = wb * 10**5 / 2.473\u001b[0m\u001b[0;34m\u001b[0m\u001b[0;34m\u001b[0m\u001b[0;34m\u001b[0m\u001b[0m\n\u001b[1;32m     35\u001b[0m \u001b[0;34m\u001b[0m\u001b[0m\n\u001b[0;32m---> 36\u001b[0;31m     \u001b[0mrd_log\u001b[0m\u001b[0;34m,\u001b[0m \u001b[0m_\u001b[0m \u001b[0;34m=\u001b[0m \u001b[0mquad\u001b[0m\u001b[0;34m(\u001b[0m\u001b[0;32mlambda\u001b[0m \u001b[0mz\u001b[0m\u001b[0;34m:\u001b[0m \u001b[0mintegrand_GILA\u001b[0m\u001b[0;34m(\u001b[0m\u001b[0mz\u001b[0m\u001b[0;34m,\u001b[0m \u001b[0momega_m\u001b[0m\u001b[0;34m,\u001b[0m \u001b[0mH_0\u001b[0m\u001b[0;34m,\u001b[0m \u001b[0mwb\u001b[0m\u001b[0;34m)\u001b[0m\u001b[0;34m,\u001b[0m \u001b[0mzd\u001b[0m\u001b[0;34m,\u001b[0m \u001b[0mnp\u001b[0m\u001b[0;34m.\u001b[0m\u001b[0minf\u001b[0m\u001b[0;34m)\u001b[0m\u001b[0;34m\u001b[0m\u001b[0;34m\u001b[0m\u001b[0m\n\u001b[0m\u001b[1;32m     37\u001b[0m \u001b[0;34m\u001b[0m\u001b[0m\n\u001b[1;32m     38\u001b[0m     \u001b[0;32mreturn\u001b[0m \u001b[0mrd_log\u001b[0m\u001b[0;34m\u001b[0m\u001b[0;34m\u001b[0m\u001b[0m\n",
      "\u001b[0;32m~/anaconda3/envs/fR-MCMC/lib/python3.7/site-packages/scipy/interpolate/interpolate.py\u001b[0m in \u001b[0;36m__init__\u001b[0;34m(***failed resolving arguments***)\u001b[0m\n\u001b[1;32m    535\u001b[0m         \u001b[0;32mif\u001b[0m \u001b[0mlen\u001b[0m\u001b[0;34m(\u001b[0m\u001b[0mself\u001b[0m\u001b[0;34m.\u001b[0m\u001b[0mx\u001b[0m\u001b[0;34m)\u001b[0m \u001b[0;34m<\u001b[0m \u001b[0mminval\u001b[0m\u001b[0;34m:\u001b[0m\u001b[0;34m\u001b[0m\u001b[0;34m\u001b[0m\u001b[0m\n\u001b[1;32m    536\u001b[0m             raise ValueError(\"x and y arrays must have at \"\n\u001b[0;32m--> 537\u001b[0;31m                              \"least %d entries\" % minval)\n\u001b[0m\u001b[1;32m    538\u001b[0m \u001b[0;34m\u001b[0m\u001b[0m\n\u001b[1;32m    539\u001b[0m     \u001b[0;34m@\u001b[0m\u001b[0mproperty\u001b[0m\u001b[0;34m\u001b[0m\u001b[0;34m\u001b[0m\u001b[0m\n",
      "\u001b[0;31mValueError\u001b[0m: x and y arrays must have at least 2 entries"
     ]
    }
   ],
   "source": [
    "L_bar = 0.75\n",
    "b = 2\n",
    "omega_m_luisa = omega_CDM_to_luisa(b, L_bar, H_0, omega_m)\n",
    " \n",
    "\n",
    "physical_params = [L_bar,b,H_0,omega_m_luisa]\n",
    "#zs_model, Hs_model = Hubble_th(physical_params, model='GILA',\n",
    "#                            z_min= zdrag(omega_m,H_0), z_max=np.inf)\n",
    "zs_model, Hs_model = integrator(physical_params, num_z_points=int(10**5), initial_z = zdrag(omega_m,H_0), final_z=1500)#np.inf)\n",
    "print(zs_model, Hs_model)\n",
    "\n",
    "@jit\n",
    "def integrand_GILA(z, Om_m_0, H_0, wb):\n",
    "    R_bar = wb * 10**5 / 2.473\n",
    "\n",
    "    #Om_r = 4.18343*10**(-5) / (H_0/100)**2\n",
    "    #Om_Lambda = 1 - Om_m_0 - Om_r\n",
    "    aux = interp1d(zs_model, Hs_model)\n",
    "    H = aux(z)\n",
    "    #H = H_0 * ((Om_r * (1 + z)**4 + Om_m_0 * (1 + z)**3 + Om_Lambda) ** (1/2))\n",
    "    return c_luz_km/(H * (3*(1 + R_bar*(1+z)**(-1)))**(1/2))\n",
    "\n",
    "\n",
    "def r_drag_GILA(omega_m,H_0,wb = 0.0225, int_z=True): #wb of BBN as default.\n",
    "    #rd calculation:\n",
    "    #h = H_0/100\n",
    "    #zd = zdrag(omega_m,H_0)\n",
    "    #R_bar = 31500 * wb * (2.726/2.7)**(-4)\n",
    "    #R_bar = wb * 10**5 / 2.473\n",
    "\n",
    "    #zd calculation:\n",
    "    zd = zdrag(omega_m, H_0)\n",
    "    # zd = 1000\n",
    "    #R_bar = wb * 10**5 / 2.473\n",
    "\n",
    "    rd_log, _ = quad(lambda z: integrand_GILA(z, omega_m, H_0, wb), zd, np.inf)\n",
    "\n",
    "    return rd_log\n",
    "\n",
    "print(r_drag_GILA(omega_m,H_0,wb = 0.0225, int_z=True))"
   ]
  },
  {
   "cell_type": "markdown",
   "metadata": {},
   "source": [
    "Finally, lets compare results"
   ]
  },
  {
   "cell_type": "code",
   "execution_count": null,
   "metadata": {},
   "outputs": [],
   "source": []
  },
  {
   "cell_type": "code",
   "execution_count": null,
   "metadata": {},
   "outputs": [],
   "source": [
    "import os\n",
    "import git\n",
    "path_git = git.Repo('.', search_parent_directories=True).working_tree_dir\n",
    "\n",
    "os.chdir(path_git); os.sys.path.append('./fr_mcmc/utils/')\n",
    "from change_of_parameters import omega_CDM_to_luisa, omega_luisa_to_CDM\n",
    "from solve_sys import Hubble_th\n",
    "\n",
    "L_bar = 0.75\n",
    "b = 2\n",
    "H_0 = 70\n",
    "\n",
    "#omega_m_luisa = 0.9999 + 10**(-5) * omega_m_luisa\n",
    "#omega_m = omega_luisa_to_CDM(b,L_bar,H_0,omega_m_luisa)\n",
    "omega_m = 0.3\n",
    "omega_m_luisa = omega_CDM_to_luisa(b, L_bar, H_0, omega_m)\n",
    "\n",
    "rd = r_drag_lcdm(omega_m,H_0,wb = 0.0225)\n",
    "\n",
    "physical_params = [L_bar,b,H_0,omega_m_luisa]\n",
    "zs_model, Hs_model = Hubble_th(physical_params, model='GILA',\n",
    "                            z_min= zdrag(omega_m,H_0), z_max=np.inf)\n",
    "print(rd)\n",
    "\n",
    "@jit\n",
    "def integrand_GILA(z, Om_m_0, H_0, wb):\n",
    "    R_bar = wb * 10**5 / 2.473\n",
    "\n",
    "    Om_r = 4.18343*10**(-5) / (H_0/100)**2\n",
    "    Om_Lambda = 1 - Om_m_0 - Om_r\n",
    "    aux = interp1d(zs_model, Hs_model)\n",
    "    H = aux(z)\n",
    "    #H = H_0 * ((Om_r * (1 + z)**4 + Om_m_0 * (1 + z)**3 + Om_Lambda) ** (1/2))\n",
    "    return c_luz_km/(H * (3*(1 + R_bar*(1+z)**(-1)))**(1/2))\n",
    "\n",
    "\n",
    "def r_drag_GILA(omega_m,H_0,wb = 0.0225, int_z=True): #wb of BBN as default.\n",
    "    #rd calculation:\n",
    "    h = H_0/100\n",
    "    zd = zdrag(omega_m,H_0)\n",
    "    #R_bar = 31500 * wb * (2.726/2.7)**(-4)\n",
    "    R_bar = wb * 10**5 / 2.473\n",
    "\n",
    "    #zd calculation:\n",
    "    zd = zdrag(omega_m, H_0)\n",
    "    # zd = 1000\n",
    "    R_bar = wb * 10**5 / 2.473\n",
    "\n",
    "    rd_log, _ = quad(lambda z: integrand_GILA(z, omega_m, H_0, wb), zd, np.inf)\n",
    "\n",
    "    return rd_log\n",
    "\n",
    "\n",
    "print(r_drag_GILA(omega_m,H_0,wb = 0.0225, int_z=True))\n",
    "\n"
   ]
  }
 ],
 "metadata": {
  "kernelspec": {
   "display_name": "Python 3.7.6 ('fR-MCMC')",
   "language": "python",
   "name": "python3"
  },
  "language_info": {
   "codemirror_mode": {
    "name": "ipython",
    "version": 3
   },
   "file_extension": ".py",
   "mimetype": "text/x-python",
   "name": "python",
   "nbconvert_exporter": "python",
   "pygments_lexer": "ipython3",
   "version": "3.7.6"
  },
  "orig_nbformat": 4,
  "vscode": {
   "interpreter": {
    "hash": "b0d0d2f9c3a81af5a62a94ddaf3d34d9729ca5245802a6c31b54c782d462cc4a"
   }
  }
 },
 "nbformat": 4,
 "nbformat_minor": 2
}
