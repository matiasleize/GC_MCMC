{
 "cells": [
  {
   "cell_type": "markdown",
   "metadata": {},
   "source": [
    "Here we test the integration of the Hubble parameter $H(z)$ for the GILA model."
   ]
  },
  {
   "cell_type": "code",
   "execution_count": 1,
   "metadata": {},
   "outputs": [],
   "source": [
    "#Import libraries related to BAO data.\n",
    "import numpy as np\n",
    "from scipy.integrate import solve_ivp\n",
    "from change_of_parameters import F_H#, omega_luisa_to_CDM\n",
    "\n",
    "from scipy.constants import c as c_light #meters/seconds\n",
    "c_light_km = c_light/1000\n",
    "\n",
    "import time\n",
    "import os\n",
    "import git\n",
    "path_git = git.Repo('.', search_parent_directories=True).working_tree_dir\n",
    "path_datos_global = os.path.dirname(path_git)\n",
    "os.chdir(path_git)\n",
    "os.sys.path.append('./fr_mcmc/utils/')\n",
    "from change_of_parameters import omega_CDM_to_luisa, omega_luisa_to_CDM\n",
    "from LambdaCDM import H_LCDM_rad\n",
    "from solve_sys import F_H_prime\n"
   ]
  },
  {
   "cell_type": "markdown",
   "metadata": {},
   "source": [
    "Lets define some functions for the calculations of $H(z)$"
   ]
  },
  {
   "cell_type": "code",
   "execution_count": 6,
   "metadata": {},
   "outputs": [],
   "source": [
    "\n",
    "def get_odes(z, Hubble, params_ode, lcdm=False):\n",
    "    '''\n",
    "    Returns the system of ODEs for the given cosmological model.\n",
    "\n",
    "\n",
    "    Parameters:\n",
    "    -----------\n",
    "    z : float\n",
    "        Redshift value.\n",
    "    variables : list\n",
    "        List of values for the dynamical variables.\n",
    "    physical_params : list\n",
    "        List of model parameters, where the first n-1 elements are the model parameters,\n",
    "        while the last one specifies the cosmological model. Mathematically, this information is contained in\n",
    "        the function Gamma.\n",
    "    model : str, optional\n",
    "        Cosmological model that is being integrated. Defaults to 'HS'.\n",
    "\n",
    "    Returns:\n",
    "    -----------\n",
    "    list\n",
    "        Set of ODEs for the dynamical variables.\n",
    "    '''    \n",
    "    #kappa = 8 * np.pi * G_newton / 3\n",
    "    kappa = 1\n",
    "\n",
    "    [lamb, L, b, L_bar, H_0, omega_m_0] = params_ode\n",
    "\n",
    "\n",
    "    #omega_m_0 = 0.999916 #omega_m_0 es el de Luisa\n",
    "    omega_r_0 = 1 - omega_m_0\n",
    "\n",
    "    F_H0 = F_H(H_0, [lamb, L, b, L_bar])\n",
    "\n",
    "    if lcdm == True:\n",
    "        rho_crit_0 = H_0**2 / kappa        \n",
    "    else:\n",
    "        rho_crit_0 = F_H0 / kappa\n",
    "    #print(omega_m_0,F_H0,rho_crit_0)\n",
    "    a = 1/(1+z)\n",
    "\n",
    "    rho_r = rho_crit_0 * omega_r_0 * a**(-4)\n",
    "    rho_m = rho_crit_0 * omega_m_0 * a**(-3)\n",
    "    rho_tot =  rho_r + rho_m \n",
    "    p_tot =  (1/3) * rho_r\n",
    "\n",
    "    # To integrate in z\n",
    "    s =  3 * kappa * (rho_tot + p_tot/c_light_km**2) / ((1+z)*F_H_prime(Hubble, [lamb, L, b, L_bar]))     \n",
    "    #print(s)\n",
    "    return s\n",
    "\n",
    "\n",
    "def integrator_GILA(physical_params, num_z_points=int(10**5),\n",
    "                initial_z=0, final_z=3,\n",
    "                system_equations=get_odes, verbose=False,\n",
    "                method='RK45', rtol=1e-11, atol=1e-16):\n",
    " \n",
    "    t1 = time.time()\n",
    "    \n",
    "    L_bar, beta, H0, omega_m_luisa = physical_params\n",
    "    zs_int = np.linspace(initial_z, final_z, num_z_points)\n",
    "    ode_params = [0, 1e-27/H0, beta, L_bar/H0, H0, omega_m_luisa]\n",
    "    sol = solve_ivp(system_equations, (initial_z,final_z),\n",
    "                    [H0], t_eval=zs_int, args = [ode_params],\n",
    "                    rtol=rtol, atol=atol, method=method)\n",
    "        \n",
    "\n",
    "    assert len(sol.t)==num_z_points, 'Something is wrong with the integration!'\n",
    "    assert np.all(zs_int==sol.t), 'Not all the values of z coincide with the ones that were required!'\n",
    "\n",
    "    # Calculate the Hubble parameter\n",
    "    zs_final = sol.t\n",
    "    Hs_final = sol.y[0]\n",
    "\n",
    "    t2 = time.time()\n",
    "\n",
    "    if verbose == True:\n",
    "        print('Duration: {} minutes and {} seconds'.format(int((t2-t1)/60),\n",
    "                int((t2-t1) - 60*int((t2-t1)/60))))\n",
    "\n",
    "    return zs_final, Hs_final"
   ]
  },
  {
   "cell_type": "code",
   "execution_count": 12,
   "metadata": {},
   "outputs": [],
   "source": [
    "L_bar = 0.9\n",
    "H_0 = 70\n",
    "omega_m = 0.3\n",
    "beta = 1\n",
    "\n",
    "omega_m_luisa = omega_CDM_to_luisa(beta, L_bar, H_0, omega_m)\n",
    "physical_params = [L_bar,beta,H_0,omega_m_luisa]\n",
    "\n",
    "zs_model, Hs_model = integrator_GILA(physical_params, num_z_points=int(1e5), initial_z = 0, final_z=int(1e4))\n",
    "#print(zs_model, Hs_model)"
   ]
  },
  {
   "cell_type": "markdown",
   "metadata": {},
   "source": [
    "Finally, lets compare results"
   ]
  },
  {
   "cell_type": "code",
   "execution_count": 13,
   "metadata": {},
   "outputs": [
    {
     "data": {
      "image/png": "[encoded data removed]",
      "text/plain": [
       "<Figure size 432x288 with 1 Axes>"
      ]
     },
     "metadata": {
      "needs_background": "light"
     },
     "output_type": "display_data"
    }
   ],
   "source": [
    "from matplotlib import pyplot as plt\n",
    "fig, ax = plt.subplots()\n",
    "ax.grid()\n",
    "ax.plot(zs_model, Hs_model,label='GILA model')\n",
    "ax.plot(zs_model, H_LCDM_rad(zs_model, H_0, omega_m), '--',label='LCDM model')\n",
    "ax.set_title('H(z) for GILA model')\n",
    "ax.set_xlabel('z (redshift)')\n",
    "ax.set_ylabel('H(z) [km/seg/Mpc]')\n",
    "ax.legend()\n",
    "plt.show()"
   ]
  },
  {
   "cell_type": "markdown",
   "metadata": {},
   "source": [
    "Idea: What make the change of sign in $F'(z)$ is the factor $(Ł \\cdot H) $ has to be of order $\\sim 1$"
   ]
  },
  {
   "cell_type": "markdown",
   "metadata": {},
   "source": [
    "Ł^{6}"
   ]
  },
  {
   "cell_type": "markdown",
   "metadata": {},
   "source": []
  },
  {
   "cell_type": "code",
   "execution_count": null,
   "metadata": {},
   "outputs": [],
   "source": []
  },
  {
   "cell_type": "code",
   "execution_count": 5,
   "metadata": {},
   "outputs": [
    {
     "data": {
      "image/png": "[encoded data removed]",
      "text/plain": [
       "<Figure size 432x288 with 1 Axes>"
      ]
     },
     "metadata": {
      "needs_background": "light"
     },
     "output_type": "display_data"
    }
   ],
   "source": [
    "fig, ax = plt.subplots()\n",
    "ax.grid()\n",
    "ax.plot(zs_model, 1/Hs_model,label='GILA model')\n",
    "ax.plot(zs_model, 1/H_LCDM_rad(zs_model, H_0, omega_m), '--', label='LCDM model')\n",
    "ax.set_title('1/H(z) for GILA model')\n",
    "ax.set_xlabel('z (redshift)')\n",
    "ax.set_ylabel(r'$\\frac{1}{H(z)}\\, [km/seg/Mpc]^{-1}$',size=12)\n",
    "ax.legend()\n",
    "plt.show()"
   ]
  }
 ],
 "metadata": {
  "kernelspec": {
   "display_name": "Python 3.7.6 ('fR-MCMC')",
   "language": "python",
   "name": "python3"
  },
  "language_info": {
   "codemirror_mode": {
    "name": "ipython",
    "version": 3
   },
   "file_extension": ".py",
   "mimetype": "text/x-python",
   "name": "python",
   "nbconvert_exporter": "python",
   "pygments_lexer": "ipython3",
   "version": "3.7.6"
  },
  "orig_nbformat": 4,
  "vscode": {
   "interpreter": {
    "hash": "b0d0d2f9c3a81af5a62a94ddaf3d34d9729ca5245802a6c31b54c782d462cc4a"
   }
  }
 },
 "nbformat": 4,
 "nbformat_minor": 2
}
